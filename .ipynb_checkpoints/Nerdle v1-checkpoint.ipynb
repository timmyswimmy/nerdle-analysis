{
 "cells": [
  {
   "cell_type": "markdown",
   "id": "278b3557",
   "metadata": {},
   "source": [
    "# Nerdle Analysis\n",
    "## by Tim Wang"
   ]
  },
  {
   "cell_type": "markdown",
   "id": "ab6a23a3",
   "metadata": {},
   "source": [
    "## Goals for this analysis: \n",
    "* Look at the possible (valid) entries for Nerdle and try to match to Nerdle's provided number\n",
    "* Identify which numbers and operators are more likely to occur in solutions\n",
    "* Identify the best opening strategy\n",
    "* See if there is a systematic way to minimize the amount of steps (optimal guessing)"
   ]
  },
  {
   "cell_type": "markdown",
   "id": "42d0674c",
   "metadata": {},
   "source": [
    "## Step 1: Define the Universe"
   ]
  },
  {
   "cell_type": "markdown",
   "id": "7d0d8956",
   "metadata": {},
   "source": [
    "### Determine set of possible solutions"
   ]
  },
  {
   "cell_type": "markdown",
   "id": "85a87f2f",
   "metadata": {},
   "source": [
    "Rules\n",
    "* Each guess is a calculation.\n",
    "* You can use 0 1 2 3 4 5 6 7 8 9 + - * / or =.\n",
    "* It must contain one “=”.\n",
    "* It must only have a number to the right of the “=”, not another calculation.\n",
    "* Standard order of operations applies, so calculate * and / before + and -\n",
    "* If the answer we're looking for is 10+20=30, then we will accept 20+10=30 too (unless you turn off 'commutative answers' in settings).\n",
    "\n",
    "The analysis in the workbook does *not* assume commutative answers.\n",
    "\n",
    "Nerdle states that there are 17,723 possible solutions that they have implemented."
   ]
  },
  {
   "cell_type": "code",
   "execution_count": 1,
   "id": "c6dca950",
   "metadata": {},
   "outputs": [
    {
     "name": "stdout",
     "output_type": "stream",
     "text": [
      "4 True\n",
      "5 True\n",
      "6 True\n",
      "+ False\n",
      "3 True\n",
      "4 True\n",
      "= False\n",
      "7 True\n",
      "9 True\n",
      "0 True\n"
     ]
    }
   ],
   "source": [
    "# Iterate a string and check if each character is numeric vs operator\n",
    "\n",
    "test = '456+34=790'\n",
    "\n",
    "for c in test:\n",
    "    print(c + ' ' + str(c.isnumeric()))"
   ]
  },
  {
   "cell_type": "markdown",
   "id": "2faeb296",
   "metadata": {},
   "source": [
    "#### Define functions to check if a string represents a valid equation."
   ]
  },
  {
   "cell_type": "code",
   "execution_count": 2,
   "id": "53452a52",
   "metadata": {},
   "outputs": [],
   "source": [
    "def consolidate(eq_str):\n",
    "    \n",
    "    parts = []\n",
    "    current = ''\n",
    "    \n",
    "    for c in eq_str:\n",
    "        \n",
    "        if c.isnumeric():\n",
    "            current += c\n",
    "            \n",
    "        else:\n",
    "            parts.append(current)\n",
    "            current = ''\n",
    "            parts.append(c)\n",
    "            \n",
    "    if current != '':\n",
    "        parts.append(current)\n",
    "        \n",
    "    return parts"
   ]
  },
  {
   "cell_type": "code",
   "execution_count": 3,
   "id": "9071cca4",
   "metadata": {},
   "outputs": [
    {
     "data": {
      "text/plain": [
       "['30', '+', '40', '=', '70']"
      ]
     },
     "execution_count": 3,
     "metadata": {},
     "output_type": "execute_result"
    }
   ],
   "source": [
    "consolidate('30+40=70')"
   ]
  },
  {
   "cell_type": "code",
   "execution_count": 4,
   "id": "b944b3c2",
   "metadata": {},
   "outputs": [],
   "source": [
    "def is_valid(eq_str):\n",
    "    \n",
    "    # print(eq_str)\n",
    "    \n",
    "    allowed_ops = ['+', '-', '*', '/', '=']\n",
    "    \n",
    "    operators = []\n",
    "    numbers = []\n",
    "    \n",
    "    # Per Nerdle rules, equations must always end in an equal sign and a number.\n",
    "    \n",
    "    eq_list = consolidate(eq_str)\n",
    "    right_result = eq_list.pop()\n",
    "    eq_sign = eq_list.pop()\n",
    "    \n",
    "    if not(right_result.isnumeric()) or eq_sign != '=':\n",
    "        return False\n",
    "    \n",
    "    # The rest needs to alternate: number, operator, number, ..., operator, number\n",
    "    # Define 0 as number, 1 as operator\n",
    "    \n",
    "    last_ind = -1\n",
    "    \n",
    "    for c in eq_list:\n",
    "        \n",
    "        # print(c)\n",
    "        \n",
    "        if c.isnumeric():\n",
    "            \n",
    "            if last_ind == 0:\n",
    "                return False\n",
    "            else:\n",
    "                \n",
    "                ### Theoretically, 0's can exist on the left side, but\n",
    "                ### makers of Nerdle stated there are quite many left out\n",
    "                ### that the players wouldn't like.\n",
    "                \n",
    "                ### Eliminating 0's (like + 0, * 0, 0 / x)\n",
    "                ### gets us closer to the target of 17,723 solutions.\n",
    "                \n",
    "                # if len(c) > 1 and c[0] == '0':\n",
    "                #     return False\n",
    "                \n",
    "                \n",
    "                ### Get rid of numbers like '00001'\n",
    "                \n",
    "                if c[0] == '0':\n",
    "                    return False\n",
    "                \n",
    "                int_c = int(c)\n",
    "                \n",
    "                if last_ind == -1:\n",
    "                    numbers.append(int_c)\n",
    "                    \n",
    "                else:\n",
    "                    \n",
    "                    # Implement PEMDAS\n",
    "                    # If * or /, calculate now and append product/quotient\n",
    "                    # If + or -, save for final step\n",
    "                    # Only one = is allowed, so if =, return False since not valid\n",
    "                    \n",
    "                    recent_op = operators.pop()\n",
    "                    if recent_op == '*':\n",
    "                        numbers.append(numbers.pop() * int_c)\n",
    "                    elif recent_op == '/':\n",
    "                        last_num = numbers.pop()\n",
    "                        if int_c == 0:\n",
    "                            return False\n",
    "                        if last_num % int_c != 0:\n",
    "                            return False\n",
    "                        numbers.append(last_num / int_c)\n",
    "                    elif recent_op == '=':\n",
    "                        return False\n",
    "                    else:\n",
    "                        numbers.append(int_c)\n",
    "                        operators.append(recent_op)\n",
    "            \n",
    "                \n",
    "            last_ind = 0\n",
    "            \n",
    "        else:\n",
    "            \n",
    "            if not(c in allowed_ops):\n",
    "                return False\n",
    "            \n",
    "            if last_ind != 0:\n",
    "                return False\n",
    "            else:\n",
    "                last_ind = 1\n",
    "                operators.append(c)\n",
    "                \n",
    "                \n",
    "    # At this point, the last operators should be + or - with enough arguments.\n",
    "    \n",
    "    left_result = numbers.pop(0)\n",
    "    \n",
    "    while len(operators) > 0:\n",
    "        next_op = operators.pop(0)\n",
    "        num2 = numbers.pop(0)\n",
    "        \n",
    "        if next_op == '+':\n",
    "            left_result += num2\n",
    "        elif next_op == '-':\n",
    "            left_result -= num2\n",
    "        else:\n",
    "            pass\n",
    "        \n",
    "    # print(left_result)\n",
    "    # print(right_result)\n",
    "    \n",
    "    return left_result == int(right_result)"
   ]
  },
  {
   "cell_type": "code",
   "execution_count": 5,
   "id": "3d30e503",
   "metadata": {},
   "outputs": [
    {
     "name": "stdout",
     "output_type": "stream",
     "text": [
      "30+40=70: True\n",
      "+30+40=70: False\n",
      "-30+40=10: False\n",
      "30+*40=70: False\n",
      "30+4*0=70: False\n",
      "30=40=70: False\n",
      "70-40=30: True\n",
      "3*4=12: True\n",
      "30/10=3: True\n",
      "30/4=7: False\n",
      "3+6*4=27: True\n",
      "4/0+3=3: False\n"
     ]
    }
   ],
   "source": [
    "# Test cases\n",
    "\n",
    "test_cases = ['30+40=70',\n",
    "              '+30+40=70', \n",
    "              '-30+40=10', # we don't accept negative numbers\n",
    "              '30+*40=70',\n",
    "              '30+4*0=70',\n",
    "              '30=40=70',\n",
    "              '70-40=30',\n",
    "              '3*4=12',\n",
    "              '30/10=3',\n",
    "              '30/4=7',\n",
    "              '3+6*4=27',\n",
    "              '4/0+3=3'\n",
    "             ]\n",
    "\n",
    "for test in test_cases:\n",
    "    print(test + \": \" + str(is_valid(test)))"
   ]
  },
  {
   "cell_type": "code",
   "execution_count": 6,
   "id": "295a97dc",
   "metadata": {},
   "outputs": [],
   "source": [
    "def get_permutations(chars, length, suffix):\n",
    "\n",
    "    a_string = chars\n",
    "\n",
    "    final_list = [[]]\n",
    "    groups = [list(a_string)] * length\n",
    "\n",
    "    for i in groups:\n",
    "        final_list = [x+[y] for x in final_list for y in i]\n",
    "\n",
    "    permutations = [''.join(item) + suffix for item in final_list]\n",
    "    \n",
    "    return permutations"
   ]
  },
  {
   "cell_type": "markdown",
   "id": "64451903",
   "metadata": {},
   "source": [
    "#### Generating all permutations with repetition for each digit + operator, for a length of 8, will take too much time and memory.\n",
    "\n",
    "We must split it down to smaller cases.\n",
    "\n",
    "We know that the equation is 8 slots long, and must end with an equal sign and a number.\n",
    "* Case 1: _ _ _ _ _ _ = #\n",
    "* Case 2: _ _ _ _ _ = # #\n",
    "* Case 3: _ _ _ _ = # # #\n",
    "\n",
    "If we continue, Case 4 has four digits on the right.\n",
    "\n",
    "* Case 4: _ _ _ = # # # #\n",
    "\n",
    "However, the highest the left result is 999, and semantically, the right side should not start with a 0.\n",
    "\n",
    "Therefore, Case 4 is impossible and we have 3 cases."
   ]
  },
  {
   "cell_type": "markdown",
   "id": "ae454f3f",
   "metadata": {},
   "source": [
    "#### Case 1: _ _ _ _ _ _ = _"
   ]
  },
  {
   "cell_type": "code",
   "execution_count": 7,
   "id": "14d2f4b5",
   "metadata": {},
   "outputs": [],
   "source": [
    "left1 = get_permutations('0123456789+-*/', 6, '=')\n",
    "case1 = []\n",
    "\n",
    "for i in range(0, 10):\n",
    "    for j in left1:\n",
    "        case1.append(j + str(i))"
   ]
  },
  {
   "cell_type": "markdown",
   "id": "bdf125bc",
   "metadata": {},
   "source": [
    "#### Case 2: _ _ _ _ _ = _ _"
   ]
  },
  {
   "cell_type": "code",
   "execution_count": 8,
   "id": "679938bf",
   "metadata": {},
   "outputs": [],
   "source": [
    "left2 = get_permutations('0123456789+-*/', 5, '=')\n",
    "right2 = [*range(10, 100)]\n",
    "case2 = []\n",
    "\n",
    "for i in left2:\n",
    "    for j in right2:\n",
    "        case2.append(i + str(j))"
   ]
  },
  {
   "cell_type": "markdown",
   "id": "e9f1160c",
   "metadata": {},
   "source": [
    "#### Case 3: _ _ _ _ = _ _ _"
   ]
  },
  {
   "cell_type": "code",
   "execution_count": 9,
   "id": "27fac4f0",
   "metadata": {},
   "outputs": [],
   "source": [
    "left3 = get_permutations('0123456789+-*/', 4, '=')\n",
    "right3 = [*range(100, 1000)]\n",
    "case3 = []\n",
    "\n",
    "for i in left3:\n",
    "    for j in right3:\n",
    "        case3.append(i + str(j))"
   ]
  },
  {
   "cell_type": "markdown",
   "id": "5db10d2b",
   "metadata": {},
   "source": [
    "#### Combine Case 1-3 and extract valid equations"
   ]
  },
  {
   "cell_type": "code",
   "execution_count": 10,
   "id": "27e3fbd1",
   "metadata": {},
   "outputs": [
    {
     "name": "stdout",
     "output_type": "stream",
     "text": [
      "Case 1: 75295360\n",
      "Case 2: 48404160\n",
      "Case 3: 34574400\n",
      "Total number of cases: 158273920\n"
     ]
    }
   ],
   "source": [
    "all_cases = case1 + case2 + case3\n",
    "\n",
    "print(\"Case 1: \" + str(len(case1)))\n",
    "print(\"Case 2: \" + str(len(case2)))\n",
    "print(\"Case 3: \" + str(len(case3)))\n",
    "print(\"Total number of cases: \" + str(len(all_cases)))"
   ]
  },
  {
   "cell_type": "code",
   "execution_count": 11,
   "id": "32684c9b",
   "metadata": {},
   "outputs": [
    {
     "name": "stdout",
     "output_type": "stream",
     "text": [
      "Number of valid entries: 17447\n",
      "Cardinality accuracy: 0.9844270157422558\n"
     ]
    }
   ],
   "source": [
    "valid_eqs = []\n",
    "\n",
    "for i in all_cases:\n",
    "    if is_valid(i):\n",
    "        valid_eqs.append(i)\n",
    "        \n",
    "print(\"Number of valid entries: \" + str(len(valid_eqs)))\n",
    "print(\"Cardinality accuracy: \" + str(len(valid_eqs) / 17723.0))"
   ]
  },
  {
   "cell_type": "markdown",
   "id": "133a7d6a",
   "metadata": {},
   "source": [
    "We get a total of 17,447 valid solutions, which is very close (1.6% difference) to Nerdle's 17,723.\n",
    "\n",
    "We will proceed with this set as our solutions set."
   ]
  },
  {
   "cell_type": "markdown",
   "id": "36324ac1",
   "metadata": {},
   "source": [
    "## Step 2: Analyze"
   ]
  },
  {
   "cell_type": "markdown",
   "id": "13b18cf2",
   "metadata": {},
   "source": [
    "Use the set of valid equations derived in the last set."
   ]
  },
  {
   "cell_type": "code",
   "execution_count": 12,
   "id": "bced233e",
   "metadata": {},
   "outputs": [],
   "source": [
    "# valid_eqs"
   ]
  },
  {
   "cell_type": "markdown",
   "id": "7f94e198",
   "metadata": {},
   "source": [
    "### Simple frequencies"
   ]
  },
  {
   "cell_type": "markdown",
   "id": "45b61318",
   "metadata": {},
   "source": [
    "#### Frequencies for each digit 0-9 and each allowed operator"
   ]
  },
  {
   "cell_type": "code",
   "execution_count": 13,
   "id": "79e93093",
   "metadata": {},
   "outputs": [
    {
     "name": "stdout",
     "output_type": "stream",
     "text": [
      "True\n"
     ]
    }
   ],
   "source": [
    "### Make one master string to search each allowed char\n",
    "\n",
    "master_string = ''.join(c for c in valid_eqs)\n",
    "print(str(master_string[-8:] == valid_eqs[-1:][0]))"
   ]
  },
  {
   "cell_type": "code",
   "execution_count": 14,
   "id": "faeb772f",
   "metadata": {},
   "outputs": [
    {
     "name": "stdout",
     "output_type": "stream",
     "text": [
      "['0', '1', '2', '3', '4', '5', '6', '7', '8', '9', '+', '-', '*', '/', '=']\n"
     ]
    }
   ],
   "source": [
    "### Make a list of keys, 0-9 and allowed ops\n",
    "### We will use each element as a search criterium\n",
    "\n",
    "digits = [str(a) for a in range(0, 10)]\n",
    "allowed_ops = ['+', '-', '*', '/', '=']\n",
    "allowed_chars = digits + allowed_ops\n",
    "print(allowed_chars)"
   ]
  },
  {
   "cell_type": "code",
   "execution_count": 15,
   "id": "64bf325e",
   "metadata": {},
   "outputs": [
    {
     "name": "stdout",
     "output_type": "stream",
     "text": [
      "{'0': 4943, '1': 14156, '2': 11552, '3': 10087, '4': 10331, '5': 9572, '6': 9540, '7': 8618, '8': 9000, '9': 8552, '+': 7484, '-': 8500, '*': 5672, '/': 4122, '=': 17447}\n"
     ]
    }
   ],
   "source": [
    "### Create a dictionary which produces the frequency\n",
    "\n",
    "counts = {a:master_string.count(a) for a in allowed_chars}\n",
    "print(counts)"
   ]
  },
  {
   "cell_type": "code",
   "execution_count": 16,
   "id": "a1778ed5",
   "metadata": {},
   "outputs": [],
   "source": [
    "### Create the chart\n",
    "\n",
    "import matplotlib.pyplot as plt\n",
    "import numpy as np\n",
    "\n",
    "N = len(counts)\n",
    "ind = np.arange(N)    # the x locations for the groups\n",
    "width = 0.35       # the width of the bars: can also be len(x) sequence"
   ]
  },
  {
   "cell_type": "code",
   "execution_count": 17,
   "id": "075f8641",
   "metadata": {},
   "outputs": [
    {
     "data": {
      "image/png": "[encoded data removed]",
      "text/plain": [
       "<Figure size 432x288 with 1 Axes>"
      ]
     },
     "metadata": {
      "needs_background": "light"
     },
     "output_type": "display_data"
    }
   ],
   "source": [
    "fig, ax = plt.subplots()\n",
    "\n",
    "p1 = ax.bar(ind, counts.values(), width)\n",
    "\n",
    "ax.axhline(0, color='grey', linewidth=0.8)\n",
    "ax.set_ylabel('Counts')\n",
    "ax.set_title('Frequency of entries in solutions')\n",
    "ax.set_xticks(ind)\n",
    "ax.set_xticklabels(counts.keys())\n",
    "# ax.legend()\n",
    "\n",
    "# Label with label_type 'center' instead of the default 'edge'\n",
    "ax.bar_label(p1, label_type = 'edge')\n",
    "\n",
    "plt.show()"
   ]
  },
  {
   "cell_type": "markdown",
   "id": "7ec6861b",
   "metadata": {},
   "source": [
    "It seems that the lower digits, 1-4, see more solutions than 0 and 5-9.\n",
    "\n",
    "* 1-2 are highest in frequency, likely driven by the two-digit result summations.\n",
    "* 0 is lower in frequency because the form of a solution likely does not have a number leading with 0, e.g. 01 instead of 1.\n",
    "\n",
    "Next step: look at numbers instead of digits - may shed more light to digits as well as operators, e.g. higher frequencies of teens may suggest higher usage of + and -."
   ]
  },
  {
   "cell_type": "markdown",
   "id": "72509171",
   "metadata": {},
   "source": [
    "#### Frequencies for each number 0 - 999"
   ]
  },
  {
   "cell_type": "code",
   "execution_count": 18,
   "id": "f52b368b",
   "metadata": {},
   "outputs": [
    {
     "name": "stdout",
     "output_type": "stream",
     "text": [
      "[83, 747, 9, 84, 756, 9, 85, 765, 9, 86, 774, 9, 87, 783, 9, 88, 792, 9, 89, 801, 9, 90, 810, 9, 91, 819, 9, 92, 828, 9, 93, 837, 9, 94, 846, 9, 95, 855, 9, 96, 864, 9, 97, 873, 9, 98, 882, 9, 99, 891]\n"
     ]
    }
   ],
   "source": [
    "### Traverse valid equations and collect numbers\n",
    "\n",
    "numbers = []\n",
    "\n",
    "for eq in valid_eqs:\n",
    "    comps = consolidate(eq)\n",
    "    for comp in comps:\n",
    "        if comp.isnumeric():\n",
    "            numbers.append(int(comp))\n",
    "            \n",
    "print(numbers[-50:])"
   ]
  },
  {
   "cell_type": "code",
   "execution_count": 19,
   "id": "20ddd1b8",
   "metadata": {},
   "outputs": [
    {
     "name": "stdout",
     "output_type": "stream",
     "text": [
      "range(950, 1000)\n",
      "[0, 0, 0, 0, 0, 0, 0, 0, 0, 0, 0, 0, 0, 0, 0, 0, 0, 0, 0, 0, 0, 0, 0, 0, 0, 0, 0, 0, 0, 0, 0, 0, 0, 0, 0, 0, 0, 0, 0, 0, 0, 0, 0, 0, 0, 0, 0, 0, 0, 0]\n"
     ]
    }
   ],
   "source": [
    "### Create array of keys, i.e. 0-999\n",
    "\n",
    "x = range(0, 1000)\n",
    "y = [numbers.count(a) for a in x]\n",
    "\n",
    "print(x[-50:])\n",
    "print(y[-50:])"
   ]
  },
  {
   "cell_type": "code",
   "execution_count": 20,
   "id": "869f9bf9",
   "metadata": {},
   "outputs": [
    {
     "data": {
      "image/png": "[encoded data removed]",
      "text/plain": [
       "<Figure size 432x288 with 1 Axes>"
      ]
     },
     "metadata": {
      "needs_background": "light"
     },
     "output_type": "display_data"
    }
   ],
   "source": [
    "width = 1\n",
    "\n",
    "fig, ax = plt.subplots()\n",
    "\n",
    "p1 = ax.bar(x, y, width)\n",
    "\n",
    "ax.axhline(0, color='grey', linewidth=0.8)\n",
    "ax.set_ylabel('Counts')\n",
    "ax.set_title('Frequency of numbers in solutions: 0 - 1000')\n",
    "# ax.legend()\n",
    "\n",
    "# Label with label_type 'center' instead of the default 'edge'\n",
    "# ax.bar_label(p1, label_type = 'edge')\n",
    "\n",
    "plt.show()"
   ]
  },
  {
   "cell_type": "markdown",
   "id": "e128dc70",
   "metadata": {},
   "source": [
    "As expected, we don't see much activity past 100 which would require the use of at least one multiplication (*).\n",
    "\n",
    "Try to truncate at 100 to get a better sense of frequencies."
   ]
  },
  {
   "cell_type": "code",
   "execution_count": 21,
   "id": "9d2b10b8",
   "metadata": {},
   "outputs": [],
   "source": [
    "### Truncate to 100\n",
    "\n",
    "trunc_pt = 101\n",
    "\n",
    "x_trunc = x[:trunc_pt]\n",
    "y_trunc = y[:trunc_pt]"
   ]
  },
  {
   "cell_type": "code",
   "execution_count": 22,
   "id": "f65c0eb7",
   "metadata": {},
   "outputs": [
    {
     "data": {
      "image/png": "[encoded data removed]",
      "text/plain": [
       "<Figure size 432x288 with 1 Axes>"
      ]
     },
     "metadata": {
      "needs_background": "light"
     },
     "output_type": "display_data"
    }
   ],
   "source": [
    "width = 1\n",
    "\n",
    "fig, ax = plt.subplots()\n",
    "\n",
    "p1 = ax.bar(x_trunc, y_trunc, width)\n",
    "\n",
    "ax.axhline(0, color='grey', linewidth=0.8)\n",
    "ax.set_ylabel('Counts')\n",
    "ax.set_title('Frequency of numbers in solutions: 0 - 100')\n",
    "# ax.legend()\n",
    "\n",
    "# Label with label_type 'center' instead of the default 'edge'\n",
    "# ax.bar_label(p1, label_type = 'edge')\n",
    "\n",
    "plt.show()"
   ]
  },
  {
   "cell_type": "markdown",
   "id": "7865d5df",
   "metadata": {},
   "source": [
    "We see another cutoff at 10, which makes sense. If there are 3 operands and 2 operators on the left, this maximizes the permutations for an eligible equation."
   ]
  },
  {
   "cell_type": "code",
   "execution_count": 23,
   "id": "3d516abc",
   "metadata": {},
   "outputs": [],
   "source": [
    "### Truncate to 100\n",
    "\n",
    "trunc_pt = 11\n",
    "\n",
    "x_trunc = x[:trunc_pt]\n",
    "y_trunc = y[:trunc_pt]"
   ]
  },
  {
   "cell_type": "code",
   "execution_count": 24,
   "id": "b76801cf",
   "metadata": {},
   "outputs": [
    {
     "data": {
      "image/png": "[encoded data removed]",
      "text/plain": [
       "<Figure size 432x288 with 1 Axes>"
      ]
     },
     "metadata": {
      "needs_background": "light"
     },
     "output_type": "display_data"
    }
   ],
   "source": [
    "width = 1\n",
    "\n",
    "fig, ax = plt.subplots()\n",
    "\n",
    "p1 = ax.bar(x_trunc, y_trunc, width)\n",
    "\n",
    "ax.axhline(0, color='grey', linewidth=0.8)\n",
    "ax.set_ylabel('Counts')\n",
    "ax.set_title('Frequency of numbers in solutions: 0 - 10')\n",
    "# ax.legend()\n",
    "\n",
    "# Label with label_type 'center' instead of the default 'edge'\n",
    "# ax.bar_label(p1, label_type = 'edge')\n",
    "\n",
    "plt.show()"
   ]
  },
  {
   "cell_type": "markdown",
   "id": "e814527d",
   "metadata": {},
   "source": [
    "### Repeated entries in solutions"
   ]
  },
  {
   "cell_type": "markdown",
   "id": "9fe49f61",
   "metadata": {},
   "source": [
    "In order to find the most ideal opener, it might help to look at if it is more effective to open with a solution:\n",
    "* with repeated digits and/or operators\n",
    "* with all unique digits and operators"
   ]
  },
  {
   "cell_type": "markdown",
   "id": "af1495c1",
   "metadata": {},
   "source": [
    "#### Repeated digits"
   ]
  },
  {
   "cell_type": "markdown",
   "id": "82c0383f",
   "metadata": {},
   "source": [
    "Are there more solutions with repeated digits?"
   ]
  },
  {
   "cell_type": "code",
   "execution_count": 25,
   "id": "477b9ae9",
   "metadata": {},
   "outputs": [
    {
     "name": "stdout",
     "output_type": "stream",
     "text": [
      "Repeat counts: \n",
      "{'0': 415, '1': 3202, '2': 2161, '3': 1747, '4': 1828, '5': 1691, '6': 1491, '7': 1318, '8': 1393, '9': 1321}\n",
      "\n",
      "Sum of repeat counts: 16567\n",
      "Unique equations: 13584\n"
     ]
    }
   ],
   "source": [
    "### Traverse valid equations and collect digits\n",
    "\n",
    "repeats = []\n",
    "repeat_eqs = []\n",
    "unique_eq_bool = 0\n",
    "\n",
    "for eq in valid_eqs:\n",
    "    eq_dedup = ''.join(set(eq))\n",
    "    for char in eq_dedup:\n",
    "        if eq.count(char) > 1 and char.isnumeric():\n",
    "            repeats.append(char)\n",
    "            unique_eq_bool = 1\n",
    "    if unique_eq_bool == 1:\n",
    "        repeat_eqs.append(eq)\n",
    "    unique_eq_bool = 0\n",
    "        \n",
    "# repeat_counts = {a:repeats.count(a) for a in allowed_chars}\n",
    "repeat_counts = {a:repeats.count(a) for a in digits}\n",
    "# repeat_counts = {a:repeats.count(a) for a in allowed_ops}\n",
    "            \n",
    "print(\"Repeat counts: \")\n",
    "print(repeat_counts)\n",
    "print(\"\")\n",
    "print(\"Sum of repeat counts: \" + str(sum(repeat_counts.values())))\n",
    "print(\"Unique equations: \" + str(len(repeat_eqs)))"
   ]
  },
  {
   "cell_type": "code",
   "execution_count": 26,
   "id": "d686c1c5",
   "metadata": {},
   "outputs": [
    {
     "name": "stdout",
     "output_type": "stream",
     "text": [
      "All unique equation counts: 3863\n",
      "['94*8=752', '95+7=102', '95+8=103', '95*4=380', '95*8=760', '96+7=103', '96+8=104', '96*5=480', '97+5=102', '97+6=103', '97+8=105', '97*6=582', '98+4=102', '98+5=103', '98+6=104', '98+7=105', '9*42=378', '9*52=468', '9*72=648', '9*84=756']\n"
     ]
    }
   ],
   "source": [
    "### Double check: all unique should be 17,447 - # unique equations above\n",
    "### i.e. 3,863\n",
    "\n",
    "repeats = []\n",
    "all_unique = []\n",
    "unique_eq_counter = 0\n",
    "unique_eq_bool = 0\n",
    "\n",
    "for eq in valid_eqs:\n",
    "    eq_dedup = ''.join(set(eq))\n",
    "    for char in eq_dedup:\n",
    "        if eq.count(char) > 1 and char.isnumeric():\n",
    "            #repeats.append(char)\n",
    "            unique_eq_bool = 1\n",
    "    if unique_eq_bool == 0:\n",
    "        all_unique.append(eq)\n",
    "        unique_eq_counter += 1\n",
    "    unique_eq_bool = 0\n",
    "        \n",
    "# repeat_counts = {a:repeats.count(a) for a in allowed_chars}\n",
    "# repeat_counts = {a:repeats.count(a) for a in digits}\n",
    "# repeat_counts = {a:repeats.count(a) for a in allowed_ops}\n",
    "            \n",
    "print(\"All unique equation counts: \" + str(unique_eq_counter))\n",
    "print(all_unique[-20:])"
   ]
  },
  {
   "cell_type": "markdown",
   "id": "06bef0f3",
   "metadata": {},
   "source": [
    "The answer is **yes**.\n",
    "\n",
    "There are 13,584 equations out of 17,447 (77.9%) that have a repeat digit!\n",
    "\n",
    "Now let's split out by number of repeats.\n",
    "* Are the multiple repeats, e.g. two 1's and two 2's?\n",
    "* Are there more than two of one digit, e.g. three 1's?"
   ]
  },
  {
   "cell_type": "markdown",
   "id": "d43c5e98",
   "metadata": {},
   "source": [
    "#### Multiple repeats"
   ]
  },
  {
   "cell_type": "code",
   "execution_count": 27,
   "id": "136e0a7a",
   "metadata": {},
   "outputs": [
    {
     "name": "stdout",
     "output_type": "stream",
     "text": [
      "Equations with multiple repeats: 3965\n",
      "\n",
      "['95*9=855', '96*2=192', '96*7=672', '96*8=768', '96*9=864', '97*7=679', '97*9=873', '98*7=686', '98*9=882', '99+1=100', '99+2=101', '99*5=495', '9+91=100', '9+92=101', '9*15=135', '9*16=144', '9*19=171', '9*21=189', '9*22=198', '9*25=225', '9*29=261', '9*32=288', '9*33=297', '9*35=315', '9*39=351', '9*44=396', '9*45=405', '9*49=441', '9*50=450', '9*51=459', '9*55=495', '9*58=522', '9*59=531', '9*66=594', '9*69=621', '9*75=675', '9*77=693', '9*79=711', '9*87=783', '9*88=792', '9*89=801', '9*90=810', '9*91=819', '9*92=828', '9*93=837', '9*94=846', '9*95=855', '9*96=864', '9*97=873', '9*98=882']\n"
     ]
    }
   ],
   "source": [
    "### Traverse valid equations and collect digits\n",
    "\n",
    "from itertools import compress\n",
    "\n",
    "multiple_repeat_eqs = []\n",
    "\n",
    "for eq in valid_eqs:\n",
    "    eq_dedup = ''.join(set(eq))\n",
    "    counts = [eq.count(char) for char in eq_dedup]\n",
    "    num_repeats = len(list(compress(counts, [a > 1 for a in counts])))\n",
    "    if num_repeats > 1:\n",
    "        multiple_repeat_eqs.append(eq)\n",
    "            \n",
    "print(\"Equations with multiple repeats: \" + str(len(multiple_repeat_eqs)))\n",
    "print(\"\")\n",
    "print(multiple_repeat_eqs[-50:])"
   ]
  },
  {
   "cell_type": "code",
   "execution_count": 28,
   "id": "708e3c84",
   "metadata": {},
   "outputs": [
    {
     "data": {
      "text/plain": [
       "0.22725970080816185"
      ]
     },
     "execution_count": 28,
     "metadata": {},
     "output_type": "execute_result"
    }
   ],
   "source": [
    "len(multiple_repeat_eqs) / len(valid_eqs)"
   ]
  },
  {
   "cell_type": "markdown",
   "id": "d21278fd",
   "metadata": {},
   "source": [
    "3,965 solutions out of 17,447 valid equations contain more than one digit repeated. That's about 22.7% of solutions."
   ]
  },
  {
   "cell_type": "markdown",
   "id": "7e08193e",
   "metadata": {},
   "source": [
    "#### Repeats more than double"
   ]
  },
  {
   "cell_type": "code",
   "execution_count": 29,
   "id": "eafc6e43",
   "metadata": {},
   "outputs": [
    {
     "name": "stdout",
     "output_type": "stream",
     "text": [
      "Equations with multiple repeats: 2077\n",
      "\n",
      "['95*9=855', '96*2=192', '96*7=672', '96*8=768', '96*9=864', '97*7=679', '97*9=873', '98*7=686', '98*9=882', '99+1=100', '99+2=101', '99*5=495', '9+91=100', '9+92=101', '9*15=135', '9*16=144', '9*19=171', '9*21=189', '9*22=198', '9*25=225', '9*29=261', '9*32=288', '9*33=297', '9*35=315', '9*39=351', '9*44=396', '9*45=405', '9*49=441', '9*50=450', '9*51=459', '9*55=495', '9*58=522', '9*59=531', '9*66=594', '9*69=621', '9*75=675', '9*77=693', '9*79=711', '9*87=783', '9*88=792', '9*89=801', '9*90=810', '9*91=819', '9*92=828', '9*93=837', '9*94=846', '9*95=855', '9*96=864', '9*97=873', '9*98=882']\n"
     ]
    }
   ],
   "source": [
    "### Traverse valid equations and collect digits\n",
    "\n",
    "from itertools import compress\n",
    "\n",
    "repeat_more_than_double_eqs = []\n",
    "repeat_more_than_double_digits = []\n",
    "\n",
    "for eq in valid_eqs:\n",
    "    eq_dedup = ''.join(set(eq))\n",
    "    counts = [eq.count(char) for char in eq_dedup]\n",
    "    num_repeats = len(list(compress(counts, [a > 2 for a in counts])))\n",
    "    if num_repeats > 0:\n",
    "        repeat_more_than_double_eqs.append(eq)\n",
    "        digit_add = list(compress(eq_dedup, [a > 2 for a in counts]))\n",
    "        repeat_more_than_double_digits += digit_add\n",
    "            \n",
    "print(\"Equations with multiple repeats: \" + str(len(repeat_more_than_double_eqs)))\n",
    "print(\"\")\n",
    "print(multiple_repeat_eqs[-50:])"
   ]
  },
  {
   "cell_type": "code",
   "execution_count": 30,
   "id": "0da70fd1",
   "metadata": {},
   "outputs": [
    {
     "name": "stdout",
     "output_type": "stream",
     "text": [
      "{'0': 104, '1': 412, '2': 283, '3': 213, '4': 253, '5': 264, '6': 175, '7': 106, '8': 149, '9': 118}\n"
     ]
    }
   ],
   "source": [
    "repeat_more_than_double_digits_counts = {a:repeat_more_than_double_digits.count(a) for a in digits}\n",
    "print(repeat_more_than_double_digits_counts)"
   ]
  },
  {
   "cell_type": "code",
   "execution_count": 31,
   "id": "e2ce84a8",
   "metadata": {},
   "outputs": [
    {
     "data": {
      "text/plain": [
       "0.11904625437037886"
      ]
     },
     "execution_count": 31,
     "metadata": {},
     "output_type": "execute_result"
    }
   ],
   "source": [
    "len(repeat_more_than_double_eqs) / len(valid_eqs)"
   ]
  },
  {
   "cell_type": "markdown",
   "id": "60ac0cf8",
   "metadata": {},
   "source": [
    "2,077 solutions out of 17,447 valid equations contain repeat digits of 3 or more instances. That's about 11.9% of solutions.\n",
    "\n",
    "Not surprisingly, 1 is the most common repeated digit here as well."
   ]
  },
  {
   "cell_type": "markdown",
   "id": "68ef4ef0",
   "metadata": {},
   "source": [
    "#### Positions for repeat digits"
   ]
  },
  {
   "cell_type": "code",
   "execution_count": 32,
   "id": "b1f569ca",
   "metadata": {},
   "outputs": [
    {
     "name": "stdout",
     "output_type": "stream",
     "text": [
      "['0', '3']\n"
     ]
    }
   ],
   "source": [
    "eq='30+30=60'\n",
    "eq_dedup = ''.join(set(eq))\n",
    "counts = [eq.count(char) for char in eq_dedup]\n",
    "dup_digits = list(compress(eq_dedup, [a > 1 for a in counts]))\n",
    "\n",
    "print(dup_digits)"
   ]
  },
  {
   "cell_type": "code",
   "execution_count": 33,
   "id": "2641fb8e",
   "metadata": {},
   "outputs": [],
   "source": [
    "positions = []\n",
    "\n",
    "for eq in repeat_eqs:\n",
    "    eq_dedup = ''.join(set(eq))\n",
    "    counts = [eq.count(char) for char in eq_dedup]\n",
    "    dup_digits = list(compress(eq_dedup, [a > 1 for a in counts]))\n",
    "    for i in range(0, 8):\n",
    "        if eq[i].isnumeric() and eq[i] in dup_digits:\n",
    "            positions.append(i)\n",
    "            # print(eq)\n",
    "            # print(i)"
   ]
  },
  {
   "cell_type": "code",
   "execution_count": 34,
   "id": "941dc376",
   "metadata": {},
   "outputs": [
    {
     "name": "stdout",
     "output_type": "stream",
     "text": [
      "{0: 5820, 1: 4689, 2: 2603, 3: 4386, 4: 4736, 5: 2323, 6: 4073, 7: 6667}\n"
     ]
    }
   ],
   "source": [
    "position_freqs = {ind:positions.count(ind) for ind in range(0, 8)}\n",
    "print(position_freqs)"
   ]
  },
  {
   "cell_type": "code",
   "execution_count": 35,
   "id": "50bc2750",
   "metadata": {},
   "outputs": [
    {
     "data": {
      "image/png": "[encoded data removed]",
      "text/plain": [
       "<Figure size 432x288 with 1 Axes>"
      ]
     },
     "metadata": {
      "needs_background": "light"
     },
     "output_type": "display_data"
    }
   ],
   "source": [
    "width = 0.5\n",
    "\n",
    "fig, ax = plt.subplots()\n",
    "\n",
    "p1 = ax.bar(position_freqs.keys(), position_freqs.values(), width)\n",
    "\n",
    "ax.axhline(0, color='grey', linewidth = 0.8)\n",
    "ax.set_ylabel('Counts')\n",
    "ax.set_title('Positions of repeated digits, 0-7')\n",
    "# ax.legend()\n",
    "\n",
    "# Label with label_type 'center' instead of the default 'edge'\n",
    "ax.bar_label(p1, label_type = 'edge')\n",
    "\n",
    "plt.show()"
   ]
  },
  {
   "cell_type": "markdown",
   "id": "65796590",
   "metadata": {},
   "source": [
    "Interestingly, repeated digits show up in the last and first slot most often.\n",
    "\n",
    "Not surprisingly, slots 2 and 5 do not see much repetition, as these are often occupied by operands (+, -, *, / for 2 and = for 5)."
   ]
  },
  {
   "cell_type": "markdown",
   "id": "b2f7dd32",
   "metadata": {},
   "source": [
    "#### Digit companionship heat map"
   ]
  },
  {
   "cell_type": "markdown",
   "id": "8f53c082",
   "metadata": {},
   "source": [
    "\"Companionship\" is meant by the co-existence of two digits in the solutions base.\n",
    "\n",
    "For example, given that there is a \"1\" in the solution, what is the probability that there is also a \"7\"?"
   ]
  },
  {
   "cell_type": "code",
   "execution_count": 36,
   "id": "542e1873",
   "metadata": {},
   "outputs": [],
   "source": [
    "import numpy as np\n",
    " \n",
    "rows = 10\n",
    "cols = 10\n",
    "size = rows * cols\n",
    " \n",
    "companionship_map = np.array([0] * size, dtype=float).reshape(rows,cols)\n",
    "\n",
    "for given in range(0, 10):\n",
    "    limited_set = list(compress(valid_eqs, [eq.count(str(given)) > 0 for eq in valid_eqs]))\n",
    "    for second in range(0, 10):\n",
    "        double_limit_set = list(compress(limited_set, [eq.count(str(second)) > 0 for eq in limited_set]))\n",
    "        companionship_map[given][second] = len(double_limit_set) / len(limited_set)"
   ]
  },
  {
   "cell_type": "code",
   "execution_count": 37,
   "id": "27ba6a18",
   "metadata": {
    "scrolled": true
   },
   "outputs": [
    {
     "name": "stdout",
     "output_type": "stream",
     "text": [
      "[[1.         0.53910488 0.45976492 0.38517179 0.41094033 0.42631103\n",
      "  0.38132911 0.32368897 0.35443038 0.32911392]\n",
      " [0.22649573 1.         0.4640076  0.42507123 0.42573599 0.39838557\n",
      "  0.41927825 0.38347578 0.39468186 0.37283951]\n",
      " [0.22351648 0.53692308 1.         0.41516484 0.4489011  0.38615385\n",
      "  0.40912088 0.39395604 0.39923077 0.35461538]\n",
      " [0.20998152 0.55157116 0.46555761 1.         0.4207024  0.41873075\n",
      "  0.41355514 0.38151571 0.38077634 0.37634011]\n",
      " [0.22073822 0.54431763 0.4959932  0.41452161 1.         0.38513842\n",
      "  0.41537154 0.36316173 0.39667314 0.35709082]\n",
      " [0.24802735 0.55168332 0.4621252  0.44687007 0.41714887 1.\n",
      "  0.38532351 0.36875329 0.37019989 0.36796423]\n",
      " [0.21452187 0.56141913 0.47342319 0.42675483 0.43502035 0.37258393\n",
      "  1.         0.35414547 0.39331129 0.36762462]\n",
      " [0.19911012 0.56145717 0.49847052 0.43047831 0.41587875 0.38987764\n",
      "  0.38723582 1.         0.368604   0.39126808]\n",
      " [0.21041331 0.55770263 0.48752013 0.41465378 0.4384058  0.37775094\n",
      "  0.41505636 0.35574342 1.         0.34889962]\n",
      " [0.20495495 0.5526464  0.45425113 0.42989865 0.41399212 0.39386261\n",
      "  0.40695383 0.39611486 0.36599099 1.        ]]\n"
     ]
    }
   ],
   "source": [
    "print(companionship_map)"
   ]
  },
  {
   "cell_type": "code",
   "execution_count": 38,
   "id": "c69b3350",
   "metadata": {},
   "outputs": [
    {
     "data": {
      "text/plain": [
       "Text(0.5, 12.5, 'What is the probability this digit also appears?')"
      ]
     },
     "execution_count": 38,
     "metadata": {},
     "output_type": "execute_result"
    },
    {
     "data": {
      "image/png": "[encoded data removed]",
      "text/plain": [
       "<Figure size 432x288 with 2 Axes>"
      ]
     },
     "metadata": {},
     "output_type": "display_data"
    }
   ],
   "source": [
    "import numpy as np; np.random.seed(0)\n",
    "import seaborn as sns; sns.set_theme()\n",
    "ax = sns.heatmap(companionship_map, vmin = 0.3, vmax = 0.6)\n",
    "ax.set_ylabel(\"Given that there is this digit\", fontsize = 12)\n",
    "ax.set_xlabel(\"What is the probability this digit also appears?\", fontsize = 12)"
   ]
  },
  {
   "cell_type": "markdown",
   "id": "5e18a269",
   "metadata": {},
   "source": [
    "Unfortunately, there doesn't seem to be a pattern with correlated digits."
   ]
  },
  {
   "cell_type": "markdown",
   "id": "52210ee2",
   "metadata": {},
   "source": [
    "### Information theory and entropy\n",
    "#### Ideal starter and assocaited performance"
   ]
  },
  {
   "cell_type": "markdown",
   "id": "b7e7c40d",
   "metadata": {},
   "source": [
    "This analysis relies on similar concepts presented in the Wordle analysis below.\n",
    "https://www.youtube.com/watch?v=v68zYyaEmEA\n",
    "\n",
    "Presented is some information theory, which states that 1 bit of information cuts the number of possible outcomes in half."
   ]
  },
  {
   "cell_type": "markdown",
   "id": "03259bf5",
   "metadata": {},
   "source": [
    "For each equation, we make use of the three different states - black, purple, and green - and run through the $3^{8}$ scenarios to get a weighted information bits \"score\"."
   ]
  },
  {
   "cell_type": "code",
   "execution_count": 39,
   "id": "900725a3",
   "metadata": {},
   "outputs": [],
   "source": [
    "# Global variables for 3 colored states.\n",
    "\n",
    "BLACK = 0\n",
    "PURPLE = 1\n",
    "GREEN = 2"
   ]
  },
  {
   "cell_type": "code",
   "execution_count": 40,
   "id": "1917a3ae",
   "metadata": {},
   "outputs": [],
   "source": [
    "\"\"\"\n",
    "Get score = -log_2{p}\n",
    "Since each outcome is equally likely, p = 1 / (# of outcomes)\n",
    "Thus, score = -log_2{p} = log_2{# of outcomes}\n",
    "\n",
    "Parameters:\n",
    "    states - list of 8 elements; 0 for black, 1 for purple, 2 for green\n",
    "    \n",
    "v2 - improvements for efficiency...because v1 was taking too long even with parallelization\n",
    "    Put everything in one for-loop for all remaining equations.\n",
    "    \n",
    "    That way, the efficiency becomes O(n) for this method, \n",
    "    and O(n^2) as we traverse for all equations.\n",
    "    \n",
    "\"\"\"\n",
    "\n",
    "import re\n",
    "\n",
    "def get_remaining_solutions(remaining_eqs, checking_eq, states):\n",
    "    BLACK = 0\n",
    "    PURPLE = 1\n",
    "    GREEN = 2\n",
    "    \n",
    "    residual_eqs_1 = []\n",
    "    \n",
    "    # Case 1\n",
    "    \n",
    "    # First, eliminate equations that don't meet green slots.\n",
    "    \n",
    "    # Then purge equations that have entries in the wrong spot \n",
    "    # as shown in checking_eq, aka any spot with black OR purple\n",
    "    \n",
    "    green_indices = [i for i, x in enumerate(states) if x == GREEN]\n",
    "    other_indices = [i for i, x in enumerate(states) if x != GREEN]\n",
    "    regex_list = ['.'] * 8\n",
    "    \n",
    "    # print(green_indices)\n",
    "    # print(other_indices)\n",
    "    \n",
    "    for ind in green_indices:\n",
    "        literal_prefix = ''\n",
    "        if checking_eq[ind] in ['+', '*']:\n",
    "            literal_prefix = '\\\\'\n",
    "        regex_list[ind] = literal_prefix + checking_eq[ind]\n",
    "        # print(regex_list)\n",
    "        \n",
    "    for ind in other_indices:\n",
    "        literal_prefix = ''\n",
    "        if checking_eq[ind] in ['+', '*']:\n",
    "            literal_prefix = '\\\\'\n",
    "        regex_list[ind] = '[^' + literal_prefix + checking_eq[ind] + ']'\n",
    "    \n",
    "    # Case 2\n",
    "    \n",
    "    # Then, consider equations that violate counts \n",
    "    # using purple and black.\n",
    "    \n",
    "    black_indices = [i for i, x in enumerate(states) if x == BLACK]\n",
    "    purple_indices = [i for i, x in enumerate(states) if x == PURPLE]\n",
    "\n",
    "    black_values = []\n",
    "    purple_values = []\n",
    "    green_values = []\n",
    "    \n",
    "    for i in black_indices:\n",
    "        black_values.append(checking_eq[i])\n",
    "    for i in purple_indices:\n",
    "        purple_values.append(checking_eq[i])\n",
    "    for i in green_indices:\n",
    "        green_values.append(checking_eq[i])\n",
    "    \n",
    "    # Case 2a\n",
    "    \n",
    "    # Start with digits with both black and purple.\n",
    "    # Purge equations with incorrect count.\n",
    "    \n",
    "    intersect_values = list(set(black_values).intersection(set(purple_values)))\n",
    "          \n",
    "    # Case 2b\n",
    "    \n",
    "    # Then purge equations that have 0 of values with purple \n",
    "    # but no black\n",
    "    \n",
    "    purple_only_values = list(set(purple_values) - set(intersect_values))\n",
    "    \n",
    "    # Case 2c\n",
    "    \n",
    "    # Then purge equations that have 1+ of values with black \n",
    "    # but no purple\n",
    "    \n",
    "    black_only_values = list(set(black_values) - set(intersect_values))\n",
    "    \n",
    "    # print(intersect_values)\n",
    "    # print(purple_only_values)\n",
    "    # print(black_only_values)\n",
    "    \n",
    "    # Final - put everything together in one for loop to only traverse once\n",
    "    \n",
    "    eqs_to_eliminate = []\n",
    "    \n",
    "    for eq in remaining_eqs:\n",
    "        \n",
    "        # Case 1 - Exact indices\n",
    "        \n",
    "        result = re.match(''.join(regex_list), eq)\n",
    "        \n",
    "        if not result:\n",
    "            eqs_to_eliminate.append(eq)\n",
    "            # print(eq + \": \" + \"Case 1\")\n",
    "            continue\n",
    "        \n",
    "        # Case 2a - Purple and black repeat chars\n",
    "        \n",
    "        case2 = 0\n",
    "        \n",
    "        for val in intersect_values:\n",
    "            num_in_solution = purple_values.count(val) + green_values.count(val)\n",
    "            eq_count = eq.count(val)\n",
    "            if eq_count != num_in_solution:\n",
    "                eqs_to_eliminate.append(eq)\n",
    "                case2 = 1\n",
    "        \n",
    "        if case2 == 1:\n",
    "            # print(eq + \": \" + \"Case 2a\")\n",
    "            continue\n",
    "            \n",
    "        # Case 2b - Purple chars with no black repeats\n",
    "        \n",
    "        for val in purple_only_values:\n",
    "            num_in_solution = purple_values.count(val)\n",
    "            eq_count = eq.count(val)\n",
    "            if eq_count < num_in_solution:\n",
    "                eqs_to_eliminate.append(eq)\n",
    "                case2 = 1\n",
    "        \n",
    "        if case2 == 1:\n",
    "            # print(eq + \": \" + \"Case 2b\")\n",
    "            continue\n",
    "            \n",
    "        # Case 2c - Black chars with no purple repeats\n",
    "        \n",
    "        for val in black_only_values:\n",
    "            eq_count = eq.count(val)\n",
    "            if eq_count > green_values.count(val):\n",
    "                # print(val)\n",
    "                # print(eq_count)\n",
    "                # print(eq + \": \" + \"Case 2c\")\n",
    "                eqs_to_eliminate.append(eq)\n",
    "\n",
    "    residual_eqs = list(set(remaining_eqs) - set(eqs_to_eliminate))\n",
    "    \n",
    "    return residual_eqs\n",
    "    "
   ]
  },
  {
   "cell_type": "code",
   "execution_count": 41,
   "id": "f433fa40",
   "metadata": {},
   "outputs": [],
   "source": [
    "\"\"\"\n",
    "Get remaining bits = -log_2{p}\n",
    "Since each outcome is equally likely, p = 1 / (# of outcomes)\n",
    "Thus, bits = -log_2{p} = log_2{# of outcomes}\n",
    "\n",
    "Parameters:\n",
    "    potential_sols - list of remaining solutions\n",
    "    \n",
    "Returns:\n",
    "    bits, probability\n",
    "\"\"\"\n",
    "\n",
    "import math\n",
    "\n",
    "def get_bits(potential_sols):\n",
    "    if len(potential_sols) == 0:\n",
    "        return 0.0, 0.0\n",
    "    return math.log(len(potential_sols), 2), 1 / len(potential_sols)"
   ]
  },
  {
   "cell_type": "code",
   "execution_count": 42,
   "id": "71819978",
   "metadata": {},
   "outputs": [
    {
     "name": "stdout",
     "output_type": "stream",
     "text": [
      "['98-50=48', '42-20=22', '98-58=40', '62-20=42', '140/5=28', '96-50=46', '5*8*1=40', '61-21=40', '4/2*5=10', '52-10=42', '66-20=46', '410/5=82', '46-26=20', '58-10=48', '49-29=20', '45-25=20', '65-20=45', '4*5*1=20', '1*8*5=40', '45-20=25', '91-51=40', '41-20=21', '540/9=60', '48-20=28', '56-16=40', '5/1*8=40', '8*5/1=40', '4*5/2=10', '68-28=40', '62-22=40', '480/5=96', '5*4*1=20', '480/8=60', '95-50=45', '68-20=48', '8*1*5=40', '42-22=20', '8/4*5=10', '9*5-5=40', '210/5=42', '51-10=41', '58-18=40', '490/5=98', '65-25=40', '46-20=26', '66-26=40', '5*8/1=40', '61-20=41', '4*5/1=20', '52-12=40', '6*8-8=40', '8*6-8=40', '95-55=40', '5*9-5=40', '59-10=49', '4*1*5=20', '51-11=40', '4/1*5=20', '8*5*1=40', '55-10=45', '5*4/1=20', '59-19=40', '450/5=90', '92-50=42', '99-59=40', '56-10=46', '450/9=50', '640/8=80', '92-52=40', '1*5*8=40', '69-20=49', '540/6=90', '96-56=40', '48-28=20', '41-21=20', '69-29=40', '99-50=49', '91-50=41', '5*4/2=10', '5*1*8=40', '8/1*5=40', '1*4*5=20', '480/6=80', '49-20=29', '460/5=92', '55-15=40']\n",
      "(6.426264754702098, 0.011627906976744186)\n"
     ]
    }
   ],
   "source": [
    "# Test cell\n",
    "# 0 for black, 1 for purple, 2 for green\n",
    "\n",
    "remaining_eqs = valid_eqs\n",
    "checking_eq = \"30+44=74\"\n",
    "states = [0, 1, 0, 1, 0, 2, 0, 0]\n",
    "# states = [2] * 8\n",
    "\n",
    "remain = get_remaining_solutions(remaining_eqs, checking_eq, states)\n",
    "print(remain)\n",
    "\n",
    "bits = get_bits(remain)\n",
    "print(bits)"
   ]
  },
  {
   "cell_type": "code",
   "execution_count": 43,
   "id": "a1055917",
   "metadata": {},
   "outputs": [],
   "source": [
    "### Helper method\n",
    "### For guess, generate list of 8 colors representing the states based on true_answer.\n",
    "\n",
    "def generate_states(guess, true_answer):\n",
    "\n",
    "    states = [0] * 8\n",
    "    not_green = []\n",
    "    \n",
    "    for i in range(8):\n",
    "        if guess[i] == true_answer[i]:\n",
    "            states[i] = GREEN\n",
    "        else:\n",
    "            not_green.append(i)\n",
    "    \n",
    "    #guess_counts = dict()\n",
    "    ans_counts = dict()\n",
    "    \n",
    "    # Get counts in answer for purple/black overlaps.\n",
    "    for j in not_green:\n",
    "\n",
    "        #guess_counts[j] = guess_counts.get(j, 0) + 1\n",
    "        char = true_answer[j]\n",
    "        ans_counts[char] = ans_counts.get(char, 0) + 1\n",
    "        \n",
    "    # Assign sequentially for non-green indices.\n",
    "    for k in not_green:\n",
    "        \n",
    "        char = guess[k]\n",
    "        if ans_counts.get(char, 0) > 0:\n",
    "            states[k] = PURPLE\n",
    "            ans_counts[char] = ans_counts.get(char, 0) - 1\n",
    "        else:\n",
    "            states[k] = BLACK\n",
    "    \n",
    "    return states\n",
    "        "
   ]
  },
  {
   "cell_type": "code",
   "execution_count": 44,
   "id": "0fbaa3c9",
   "metadata": {},
   "outputs": [
    {
     "data": {
      "text/plain": [
       "[1, 1, 0, 0, 0, 2, 0, 0]"
      ]
     },
     "execution_count": 44,
     "metadata": {},
     "output_type": "execute_result"
    }
   ],
   "source": [
    "generate_states('33+33=66', '88-55=33')"
   ]
  },
  {
   "cell_type": "code",
   "execution_count": 45,
   "id": "05219628",
   "metadata": {},
   "outputs": [],
   "source": [
    "def get_info_distribution(remaining_eqs, eq):\n",
    "    \n",
    "    # If poss were the answer, what would the UI show?\n",
    "    # Partition remaining_eqs and get counts for each configuration.\n",
    "    dist = dict()\n",
    "    for poss in remaining_eqs:\n",
    "        states = generate_states(eq, poss)\n",
    "        hashed_key = \"\".join([str(x) for x in states])\n",
    "        dist[hashed_key] = dist.get(hashed_key, 0) + 1\n",
    "        \n",
    "    return dist"
   ]
  },
  {
   "cell_type": "code",
   "execution_count": 46,
   "id": "30301109",
   "metadata": {},
   "outputs": [],
   "source": [
    "def get_info_bits(remaining_eqs, eq):\n",
    "    \n",
    "    dist = get_info_distribution(remaining_eqs, eq)\n",
    "    \n",
    "    # Iterate the configurations and weight the info (entropy).\n",
    "    weighted_bits_remaining = 0\n",
    "    for count in list(dist.values()):\n",
    "        weighted_bits_remaining += float(count) / len(remaining_eqs) * math.log(count, 2)\n",
    "    \n",
    "    return (eq, math.log(len(remaining_eqs), 2) - weighted_bits_remaining)"
   ]
  },
  {
   "cell_type": "code",
   "execution_count": 47,
   "id": "21cc6622",
   "metadata": {
    "scrolled": true
   },
   "outputs": [
    {
     "name": "stderr",
     "output_type": "stream",
     "text": [
      "100%|█████████████████████████████████████| 17447/17447 [07:35<00:00, 38.34it/s]\n"
     ]
    }
   ],
   "source": [
    "from joblib import Parallel, delayed\n",
    "import time\n",
    "from tqdm import tqdm\n",
    "\n",
    "info_tuples = Parallel(n_jobs=16)(delayed(get_info_bits)(valid_eqs, eq) for eq in tqdm(valid_eqs))"
   ]
  },
  {
   "cell_type": "code",
   "execution_count": 48,
   "id": "1cadea89",
   "metadata": {},
   "outputs": [
    {
     "data": {
      "text/plain": [
       "48-32=16    9.782102\n",
       "48-36=12    9.766884\n",
       "43-25=18    9.763686\n",
       "45-27=18    9.755900\n",
       "46-27=19    9.755305\n",
       "              ...   \n",
       "50/5-5=5    5.747207\n",
       "688/86=8    5.611285\n",
       "64/4/4=4    5.505691\n",
       "8*86=688    5.424632\n",
       "86*8=688    5.246453\n",
       "Length: 17447, dtype: float64"
      ]
     },
     "execution_count": 48,
     "metadata": {},
     "output_type": "execute_result"
    }
   ],
   "source": [
    "import pandas as pd\n",
    "\n",
    "index_list = []\n",
    "value_list = []\n",
    "\n",
    "for a, b in info_tuples:\n",
    "    index_list.append(a)\n",
    "    value_list.append(b)\n",
    "    \n",
    "ser = pd.Series(value_list, index = index_list)\n",
    "ser.sort_values(axis = 0, ascending = False)"
   ]
  },
  {
   "cell_type": "code",
   "execution_count": 49,
   "id": "bb0c3ae8",
   "metadata": {},
   "outputs": [
    {
     "name": "stdout",
     "output_type": "stream",
     "text": [
      "48-32=16\n"
     ]
    }
   ],
   "source": [
    "print(ser.sort_values(axis = 0, ascending = False).idxmax())"
   ]
  },
  {
   "cell_type": "code",
   "execution_count": 54,
   "id": "b63534a4",
   "metadata": {},
   "outputs": [
    {
     "name": "stdout",
     "output_type": "stream",
     "text": [
      "Original bits: 14.090691366860767\n"
     ]
    }
   ],
   "source": [
    "print(\"Original bits: \" + str(math.log(17447, 2)))"
   ]
  },
  {
   "cell_type": "markdown",
   "id": "a4145067",
   "metadata": {},
   "source": [
    "That means that the ideal starter is '48-32=16', as it results in the lowest expected entropy.\n",
    "\n",
    "It has 9.782 bits of information, meaning it is expected to cut the number of possible solutions down to 14.09 - 9.782 = 4.31 bits, or ${2}^{4.31}$ = 20 solutions!"
   ]
  },
  {
   "cell_type": "markdown",
   "id": "81563464",
   "metadata": {},
   "source": [
    "#### What does going with the best starter look like at the worst case?\n",
    "\n",
    "Sort of like a minimax - we're minimizing the loss on the worst case"
   ]
  },
  {
   "cell_type": "code",
   "execution_count": 55,
   "id": "b0e25240",
   "metadata": {},
   "outputs": [
    {
     "name": "stdout",
     "output_type": "stream",
     "text": [
      "48-32=16\n"
     ]
    }
   ],
   "source": [
    "best_starter = ser.sort_values(axis = 0, ascending = False).idxmax()\n",
    "print(best_starter)"
   ]
  },
  {
   "cell_type": "code",
   "execution_count": 56,
   "id": "c88b30ce",
   "metadata": {},
   "outputs": [],
   "source": [
    "best_starter_dist = get_info_distribution(valid_eqs, best_starter)"
   ]
  },
  {
   "cell_type": "code",
   "execution_count": 57,
   "id": "27d5ccaa",
   "metadata": {},
   "outputs": [
    {
     "data": {
      "text/plain": [
       "00011210    110\n",
       "10001110     93\n",
       "00010110     90\n",
       "00101110     89\n",
       "01000210     87\n",
       "           ... \n",
       "22000212      1\n",
       "22002211      1\n",
       "22010201      1\n",
       "20221221      1\n",
       "01020100      1\n",
       "Length: 1687, dtype: int64"
      ]
     },
     "execution_count": 57,
     "metadata": {},
     "output_type": "execute_result"
    }
   ],
   "source": [
    "index_list_best = []\n",
    "value_list_best = []\n",
    "\n",
    "for a in best_starter_dist.keys():\n",
    "    index_list_best.append(a)\n",
    "    value_list_best.append(best_starter_dist.get(a, 0))\n",
    "    \n",
    "ser_best = pd.Series(value_list_best, index = index_list_best)\n",
    "ser_best.sort_values(axis = 0, ascending = False)"
   ]
  },
  {
   "cell_type": "code",
   "execution_count": 58,
   "id": "ed512308",
   "metadata": {},
   "outputs": [
    {
     "name": "stdout",
     "output_type": "stream",
     "text": [
      "['9*93=837']\n"
     ]
    }
   ],
   "source": [
    "remain = get_remaining_solutions(valid_eqs, '48-32=16', [0, 1, 0, 2, 0, 1, 0, 0])\n",
    "print(remain)"
   ]
  },
  {
   "cell_type": "code",
   "execution_count": 59,
   "id": "e4b254a5",
   "metadata": {},
   "outputs": [
    {
     "name": "stdout",
     "output_type": "stream",
     "text": [
      "110\n"
     ]
    }
   ],
   "source": [
    "remain = get_remaining_solutions(valid_eqs, '48-32=16', [0, 0, 0, 1, 1, 2, 1, 0])\n",
    "print(len(remain))"
   ]
  },
  {
   "cell_type": "code",
   "execution_count": 60,
   "id": "aaa2dfdb",
   "metadata": {
    "scrolled": true
   },
   "outputs": [
    {
     "name": "stderr",
     "output_type": "stream",
     "text": [
      "100%|█████████████████████████████████████████| 110/110 [00:01<00:00, 80.92it/s]\n"
     ]
    }
   ],
   "source": [
    "step2 = Parallel(n_jobs=16)(delayed(get_info_bits)(remain, eq) for eq in tqdm(remain))"
   ]
  },
  {
   "cell_type": "code",
   "execution_count": 61,
   "id": "5f644980",
   "metadata": {},
   "outputs": [
    {
     "name": "stdout",
     "output_type": "stream",
     "text": [
      "Next step: 19+13=32\n",
      "Worst case state: \n",
      "[1, 1, 0, 0, 1, 2, 0, 1]\n",
      "7\n"
     ]
    }
   ],
   "source": [
    "index_list = []\n",
    "value_list = []\n",
    "\n",
    "for a, b in step2:\n",
    "    index_list.append(a)\n",
    "    value_list.append(b)\n",
    "    \n",
    "ser = pd.Series(value_list, index = index_list)\n",
    "next_step = ser.sort_values(axis = 0, ascending = False).idxmax()\n",
    "print(\"Next step: \" + next_step)\n",
    "\n",
    "next_step_dist = get_info_distribution(remain, next_step)\n",
    "\n",
    "index_list_next = []\n",
    "value_list_next = []\n",
    "\n",
    "for a in next_step_dist.keys():\n",
    "    index_list_next.append(a)\n",
    "    value_list_next.append(next_step_dist.get(a, 0))\n",
    "    \n",
    "ser_next = pd.Series(value_list_next, index = index_list_next)\n",
    "worst_case_state = ser_next.sort_values(axis = 0, ascending = False).idxmax()\n",
    "worst_case = [int(x) for x in worst_case_state]\n",
    "print(\"Worst case state: \")\n",
    "print(worst_case)\n",
    "\n",
    "remain = get_remaining_solutions(remain, next_step, worst_case)\n",
    "print(len(remain))"
   ]
  },
  {
   "cell_type": "code",
   "execution_count": 62,
   "id": "6c6df398",
   "metadata": {},
   "outputs": [],
   "source": [
    "def worst_case_on_best_info(possible_eqs):\n",
    "    \n",
    "    tries = 0\n",
    "    remain = possible_eqs\n",
    "    \n",
    "    while len(remain) > 1:\n",
    "    \n",
    "        step = Parallel(n_jobs=32)(delayed(get_info_bits)(remain, eq) for eq in tqdm(remain))\n",
    "\n",
    "        index_list = []\n",
    "        value_list = []\n",
    "\n",
    "        for a, b in step:\n",
    "            index_list.append(a)\n",
    "            value_list.append(b)\n",
    "\n",
    "        ser = pd.Series(value_list, index = index_list)\n",
    "        next_step = ser.sort_values(axis = 0, ascending = False).idxmax()\n",
    "        print(\"Next step: \" + next_step)\n",
    "\n",
    "        next_step_dist = get_info_distribution(remain, next_step)\n",
    "\n",
    "        index_list_next = []\n",
    "        value_list_next = []\n",
    "\n",
    "        for a in next_step_dist.keys():\n",
    "            index_list_next.append(a)\n",
    "            value_list_next.append(next_step_dist.get(a, 0))\n",
    "\n",
    "        ser_next = pd.Series(value_list_next, index = index_list_next)\n",
    "        worst_case_state = ser_next.sort_values(axis = 0, ascending = False).idxmax()\n",
    "        worst_case = [int(x) for x in worst_case_state]\n",
    "        print(\"Worst case state: \")\n",
    "        print(worst_case)\n",
    "\n",
    "        remain = get_remaining_solutions(remain, next_step, worst_case)\n",
    "        print(len(remain))\n",
    "        \n",
    "        tries += 1\n",
    "    \n",
    "    return tries + 1"
   ]
  },
  {
   "cell_type": "code",
   "execution_count": 63,
   "id": "892d8893",
   "metadata": {},
   "outputs": [
    {
     "name": "stderr",
     "output_type": "stream",
     "text": [
      "100%|█████████████████████████████████████| 17447/17447 [10:17<00:00, 28.26it/s]\n"
     ]
    },
    {
     "name": "stdout",
     "output_type": "stream",
     "text": [
      "Next step: 48-32=16\n",
      "Worst case state: \n",
      "[0, 0, 0, 1, 1, 2, 1, 0]\n",
      "110\n"
     ]
    },
    {
     "name": "stderr",
     "output_type": "stream",
     "text": [
      "100%|███████████████████████████████████████| 110/110 [00:00<00:00, 8640.92it/s]\n"
     ]
    },
    {
     "name": "stdout",
     "output_type": "stream",
     "text": [
      "Next step: 19+13=32\n",
      "Worst case state: \n",
      "[1, 1, 0, 0, 1, 2, 0, 1]\n",
      "7\n"
     ]
    },
    {
     "name": "stderr",
     "output_type": "stream",
     "text": [
      "100%|███████████████████████████████████████████| 7/7 [00:00<00:00, 6629.06it/s]"
     ]
    },
    {
     "name": "stdout",
     "output_type": "stream",
     "text": [
      "Next step: 3*9/1=27\n",
      "Worst case state: \n",
      "[2, 2, 2, 2, 2, 2, 2, 2]\n",
      "1\n"
     ]
    },
    {
     "name": "stderr",
     "output_type": "stream",
     "text": [
      "\n"
     ]
    },
    {
     "data": {
      "text/plain": [
       "4"
      ]
     },
     "execution_count": 63,
     "metadata": {},
     "output_type": "execute_result"
    }
   ],
   "source": [
    "worst_case_on_best_info(valid_eqs)"
   ]
  },
  {
   "cell_type": "markdown",
   "id": "8ab290d2",
   "metadata": {},
   "source": [
    "Theoretically, you can generally expect to score 4/6 based on the outcome above.\n",
    "\n",
    "Let's test it out in the event space to see if that's true."
   ]
  },
  {
   "cell_type": "code",
   "execution_count": 64,
   "id": "8e894ebd",
   "metadata": {},
   "outputs": [],
   "source": [
    "def num_tries_best_info(possible_eqs, solution, annotate = True):\n",
    "    \n",
    "    if annotate:\n",
    "        print(\"Next step: 48-32=16\")\n",
    "    \n",
    "    if solution == '48-32=16':\n",
    "        print(\"Solution: \")\n",
    "        print(\"['48-32=16']\")\n",
    "        return 1\n",
    "    \n",
    "    tries = 1\n",
    "    states = generate_states('48-32=16', solution)\n",
    "    remain = get_remaining_solutions(possible_eqs, '48-32=16', states)\n",
    "    \n",
    "    while len(remain) > 1:\n",
    "    \n",
    "        step = Parallel(n_jobs=32)(delayed(get_info_bits)(remain, eq) for eq in remain)\n",
    "\n",
    "        index_list = []\n",
    "        value_list = []\n",
    "\n",
    "        for a, b in step:\n",
    "            index_list.append(a)\n",
    "            value_list.append(b)\n",
    "\n",
    "        ser = pd.Series(value_list, index = index_list).sort_values(axis = 0, ascending = False)\n",
    "        #print(ser)\n",
    "        next_step = ser.idxmax()\n",
    "        if annotate:\n",
    "            print(\"Next step: \" + next_step)\n",
    "\n",
    "        states = generate_states(next_step, solution)\n",
    "        #print(states)\n",
    "        remain = get_remaining_solutions(remain, next_step, states)\n",
    "        #print(len(remain))\n",
    "        if states == [2] * 8:\n",
    "            break\n",
    "        \n",
    "        tries += 1\n",
    "    \n",
    "    if annotate:\n",
    "        print(\"Solution: \")\n",
    "        print(remain)\n",
    "    return tries + 1"
   ]
  },
  {
   "cell_type": "code",
   "execution_count": 65,
   "id": "3c2027d8",
   "metadata": {
    "scrolled": false
   },
   "outputs": [],
   "source": [
    "#num_tries_best_info(valid_eqs, '7*4-3=25')"
   ]
  },
  {
   "cell_type": "markdown",
   "id": "7fedda8c",
   "metadata": {},
   "source": [
    "states = [2, 0, 2, 2, 2, 2, 2, 0]\n",
    "remain = get_remaining_solutions(remain, '47-16=31', states)\n",
    "\n",
    "step = Parallel(n_jobs=32)(delayed(get_info_bits)(remain, eq) for eq in remain)\n",
    "\n",
    "index_list = []\n",
    "value_list = []\n",
    "\n",
    "for a, b in step:\n",
    "    index_list.append(a)\n",
    "    value_list.append(b)\n",
    "\n",
    "ser = pd.Series(value_list, index = index_list).sort_values(axis = 0, ascending = False)\n",
    "print(ser)\n",
    "next_step = ser.idxmax()\n",
    "print(\"Next step: \" + next_step)"
   ]
  },
  {
   "cell_type": "code",
   "execution_count": 66,
   "id": "e859199f",
   "metadata": {
    "scrolled": true
   },
   "outputs": [
    {
     "name": "stderr",
     "output_type": "stream",
     "text": [
      " 56%|█████████████████████▎                | 9811/17447 [23:48<03:39, 34.72it/s]"
     ]
    },
    {
     "name": "stdout",
     "output_type": "stream",
     "text": [
      "Solution: \n",
      "['48-32=16']\n"
     ]
    },
    {
     "name": "stderr",
     "output_type": "stream",
     "text": [
      "100%|█████████████████████████████████████| 17447/17447 [35:38<00:00,  8.16it/s]\n"
     ]
    }
   ],
   "source": [
    "tries = dict()\n",
    "for eq in tqdm(valid_eqs):\n",
    "    tries[eq] = num_tries_best_info(valid_eqs, eq, annotate = False)"
   ]
  },
  {
   "cell_type": "code",
   "execution_count": 67,
   "id": "8f748a6e",
   "metadata": {},
   "outputs": [],
   "source": [
    "# print(tries)"
   ]
  },
  {
   "cell_type": "code",
   "execution_count": 68,
   "id": "d66887be",
   "metadata": {},
   "outputs": [
    {
     "data": {
      "text/plain": [
       "12-8-2=2    6\n",
       "37-27=10    6\n",
       "99-80=19    6\n",
       "87-17=70    6\n",
       "4+6+5=15    6\n",
       "           ..\n",
       "6-14+9=1    2\n",
       "56-12=44    2\n",
       "101-2=99    2\n",
       "17-3-6=8    2\n",
       "48-32=16    1\n",
       "Length: 17447, dtype: int64"
      ]
     },
     "execution_count": 68,
     "metadata": {},
     "output_type": "execute_result"
    }
   ],
   "source": [
    "eq_list = []\n",
    "tries_list = []\n",
    "\n",
    "for a, b in tries.items():\n",
    "    eq_list.append(a)\n",
    "    tries_list.append(b)\n",
    "    \n",
    "ser = pd.Series(tries_list, index = eq_list)\n",
    "ser.sort_values(axis = 0, ascending = False)"
   ]
  },
  {
   "cell_type": "markdown",
   "id": "f315c39a",
   "metadata": {},
   "source": [
    "Our strategy solves all of the cases within 6 tries!\n",
    "\n",
    "Let's test one out."
   ]
  },
  {
   "cell_type": "code",
   "execution_count": 69,
   "id": "6eaa179c",
   "metadata": {
    "scrolled": true
   },
   "outputs": [
    {
     "name": "stdout",
     "output_type": "stream",
     "text": [
      "Next step: 48-32=16\n",
      "Next step: 4/1+6=10\n",
      "Solution: \n",
      "['4+1+6=11']\n"
     ]
    },
    {
     "data": {
      "text/plain": [
       "3"
      ]
     },
     "execution_count": 69,
     "metadata": {},
     "output_type": "execute_result"
    }
   ],
   "source": [
    "num_tries_best_info(valid_eqs, '4+1+6=11')"
   ]
  },
  {
   "cell_type": "markdown",
   "id": "efc5cfc6",
   "metadata": {},
   "source": [
    "It is a 3-sum case, where two numbers sum to 10, generating a repeat digit and many possibilities for the last sum component.\n",
    "\n",
    "In other words,\n",
    "4 + x + 6 = 1x\n",
    "where the x can theoretically be any digit 0-9 but is only subsetted based on prior guesses."
   ]
  },
  {
   "cell_type": "code",
   "execution_count": 70,
   "id": "492295e0",
   "metadata": {},
   "outputs": [
    {
     "data": {
      "text/plain": [
       "3.0733650484323953"
      ]
     },
     "execution_count": 70,
     "metadata": {},
     "output_type": "execute_result"
    }
   ],
   "source": [
    "import numpy as np\n",
    "\n",
    "np_tries = np.array(tries_list)\n",
    "np.average(np_tries)"
   ]
  },
  {
   "cell_type": "code",
   "execution_count": 71,
   "id": "b177b997",
   "metadata": {
    "scrolled": true
   },
   "outputs": [
    {
     "data": {
      "text/plain": [
       "[Text(0.5, 1.0, 'Distribution of scores for info theory / entropy method')]"
      ]
     },
     "execution_count": 71,
     "metadata": {},
     "output_type": "execute_result"
    },
    {
     "data": {
      "image/png": "[encoded data removed]",
      "text/plain": [
       "<Figure size 432x288 with 1 Axes>"
      ]
     },
     "metadata": {},
     "output_type": "display_data"
    }
   ],
   "source": [
    "ax = sns.countplot(x = tries_list)\n",
    "\n",
    "unique, counts = np.unique(tries_list, return_counts = True)\n",
    "\n",
    "abs_values = counts\n",
    "rel_values = counts / sum(counts) * 100\n",
    "lbls = [f'{p[0]} ({p[1]:.0f}%)' for p in zip(abs_values, rel_values)]\n",
    "\n",
    "ax.bar_label(container=ax.containers[0], labels=lbls)\n",
    "ax.set_xlabel(\"Number of Tries (out of 6)\", fontsize = 12)\n",
    "ax.set(title = 'Distribution of scores for info theory / entropy method')"
   ]
  },
  {
   "cell_type": "markdown",
   "id": "6a9d26a0",
   "metadata": {},
   "source": [
    "Our strategy never fails a game, and scores 3/6 or better 84% of the time!\n",
    "\n",
    "Average score of 3.07 / 6, which is a great score.\n",
    "\n",
    "Validated against some of the archived days and the solutions and score check out, e.g. nerdlegame.com/20220121"
   ]
  },
  {
   "cell_type": "markdown",
   "id": "b0b86af1",
   "metadata": {},
   "source": [
    "## Conclusion"
   ]
  },
  {
   "cell_type": "markdown",
   "id": "02d44d97",
   "metadata": {},
   "source": [
    "#### We analyzed a solutions set of 17,447 which is close to Nerdle's stated cardinality of 17,723.\n",
    "\n",
    "#### Exploratory analysis results\n",
    "* The digit 1 appears most often in solutions, followed by 2.\n",
    "* The operator - appears most often in solutions, followed by +.\n",
    "* The numbers 1-9 appear most frequently, compared to 0 and 10-99. 100-999 are the most remote.\n",
    "* 77.9% of solutions have at least 1 repeat digit.\n",
    "* 22.7% of solutions have at least 2 repeat digits.\n",
    "* 11.9% of solutions have at least 1 digit that is repeated more than twice.\n",
    "* In the form of solutions 0 1 2 3 4 5 6 7, slots 7 then 0 most frequently contain a repeat digit. Slots 2 and 5 are least frequent (likely due to holding operators like -/+ and =).\n",
    "\n",
    "#### Ideal starter\n",
    "* A bit refers to 2 solutions.\n",
    "* 17,447 converts to $log_{2}(17,447) = $ about 14.09 bits of information.\n",
    "* The ideal starter is 48-32=16, which holds an expected 9.78 bits of information.\n",
    "* This means that using this starter, you can expect to have ~20 remaining solutions after 1 guess.\n",
    "\n",
    "#### Gameplay strategy\n",
    "* Iteratively select the remaining solution (hard mode) with the highest expected amount of information.\n",
    "* This strategy never loses a game, i.e. always finishes within 6 tries.\n",
    "* In Wordle, a score of 3/6 is analogous to a 'birdie' (above average outcome). This strategy achieves a 3/6 or better 84% of the time.\n",
    "* The average number of tries it takes this strategy to get the solution is 3.07/6."
   ]
  }
 ],
 "metadata": {
  "kernelspec": {
   "display_name": "Python 3 (ipykernel)",
   "language": "python",
   "name": "python3"
  },
  "language_info": {
   "codemirror_mode": {
    "name": "ipython",
    "version": 3
   },
   "file_extension": ".py",
   "mimetype": "text/x-python",
   "name": "python",
   "nbconvert_exporter": "python",
   "pygments_lexer": "ipython3",
   "version": "3.9.7"
  }
 },
 "nbformat": 4,
 "nbformat_minor": 5
}
