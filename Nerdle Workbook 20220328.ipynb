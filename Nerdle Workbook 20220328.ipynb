{
 "cells": [
  {
   "cell_type": "markdown",
   "id": "278b3557",
   "metadata": {},
   "source": [
    "# Nerdle Analysis\n",
    "## by Tim Wang"
   ]
  },
  {
   "cell_type": "markdown",
   "id": "ab6a23a3",
   "metadata": {},
   "source": [
    "## Goals for this analysis: \n",
    "* Look at the possible entries for Nerdle\n",
    "* Identify which numbers and operators are more likely to occur in solutions\n",
    "* Identify the best opening strategy\n",
    "* See if there is a systematic way to minimize the amount of steps"
   ]
  },
  {
   "cell_type": "markdown",
   "id": "42d0674c",
   "metadata": {},
   "source": [
    "## Step 1: Define the Universe"
   ]
  },
  {
   "cell_type": "markdown",
   "id": "7d0d8956",
   "metadata": {},
   "source": [
    "### Determine set of possible solutions"
   ]
  },
  {
   "cell_type": "markdown",
   "id": "85a87f2f",
   "metadata": {},
   "source": [
    "Rules\n",
    "* Each guess is a calculation.\n",
    "* You can use 0 1 2 3 4 5 6 7 8 9 + - * / or =.\n",
    "* It must contain one “=”.\n",
    "* It must only have a number to the right of the “=”, not another calculation.\n",
    "* Standard order of operations applies, so calculate * and / before + and -\n",
    "* If the answer we're looking for is 10+20=30, then we will accept 20+10=30 too (unless you turn off 'commutative answers' in settings)."
   ]
  },
  {
   "cell_type": "code",
   "execution_count": 2,
   "id": "c6dca950",
   "metadata": {},
   "outputs": [
    {
     "name": "stdout",
     "output_type": "stream",
     "text": [
      "4 True\n",
      "5 True\n",
      "6 True\n",
      "+ False\n",
      "3 True\n",
      "4 True\n",
      "= False\n",
      "7 True\n",
      "9 True\n",
      "0 True\n"
     ]
    }
   ],
   "source": [
    "# Iterate a string and check if each character is numeric vs operator\n",
    "\n",
    "test = '456+34=790'\n",
    "\n",
    "for c in test:\n",
    "    print(c + ' ' + str(c.isnumeric()))"
   ]
  },
  {
   "cell_type": "markdown",
   "id": "2faeb296",
   "metadata": {},
   "source": [
    "#### Define functions to check if a string represents a valid equation."
   ]
  },
  {
   "cell_type": "code",
   "execution_count": 3,
   "id": "53452a52",
   "metadata": {},
   "outputs": [],
   "source": [
    "def consolidate(eq_str):\n",
    "    \n",
    "    parts = []\n",
    "    current = ''\n",
    "    \n",
    "    for c in eq_str:\n",
    "        \n",
    "        if c.isnumeric():\n",
    "            current += c\n",
    "            \n",
    "        else:\n",
    "            parts.append(current)\n",
    "            current = ''\n",
    "            parts.append(c)\n",
    "            \n",
    "    if current != '':\n",
    "        parts.append(current)\n",
    "        \n",
    "    return parts"
   ]
  },
  {
   "cell_type": "code",
   "execution_count": 4,
   "id": "9071cca4",
   "metadata": {},
   "outputs": [
    {
     "data": {
      "text/plain": [
       "['30', '+', '40', '=', '70']"
      ]
     },
     "execution_count": 4,
     "metadata": {},
     "output_type": "execute_result"
    }
   ],
   "source": [
    "consolidate('30+40=70')"
   ]
  },
  {
   "cell_type": "code",
   "execution_count": 5,
   "id": "b944b3c2",
   "metadata": {},
   "outputs": [],
   "source": [
    "def is_valid(eq_str):\n",
    "    \n",
    "    # print(eq_str)\n",
    "    \n",
    "    allowed_ops = ['+', '-', '*', '/', '=']\n",
    "    \n",
    "    operators = []\n",
    "    numbers = []\n",
    "    \n",
    "    # Per Nerdle rules, equations must always end in an equal sign and a number.\n",
    "    \n",
    "    eq_list = consolidate(eq_str)\n",
    "    right_result = eq_list.pop()\n",
    "    eq_sign = eq_list.pop()\n",
    "    \n",
    "    if not(right_result.isnumeric()) or eq_sign != '=':\n",
    "        return False\n",
    "    \n",
    "    # The rest needs to alternate: number, operator, number, ..., operator, number\n",
    "    # Define 0 as number, 1 as operator\n",
    "    \n",
    "    last_ind = -1\n",
    "    \n",
    "    for c in eq_list:\n",
    "        \n",
    "        # print(c)\n",
    "        \n",
    "        if c.isnumeric():\n",
    "            \n",
    "            if last_ind == 0:\n",
    "                return False\n",
    "            else:\n",
    "                \n",
    "                ### Theoretically, 0's can exist on the left side, but\n",
    "                ### makers of Nerdle stated there are quite many left out\n",
    "                ### that the players wouldn't like.\n",
    "                \n",
    "                ### Eliminating 0's (like + 0, * 0, 0 / x)\n",
    "                ### gets us closer to the target of 17,723 solutions.\n",
    "                \n",
    "                # if len(c) > 1 and c[0] == '0':\n",
    "                #     return False\n",
    "                \n",
    "                \n",
    "                ### Get rid of numbers like '00001'\n",
    "                \n",
    "                if c[0] == '0':\n",
    "                    return False\n",
    "                \n",
    "                int_c = int(c)\n",
    "                \n",
    "                if last_ind == -1:\n",
    "                    numbers.append(int_c)\n",
    "                    \n",
    "                else:\n",
    "                    \n",
    "                    # Implement PEMDAS\n",
    "                    # If * or /, calculate now and append product/quotient\n",
    "                    # If + or -, save for final step\n",
    "                    # Only one = is allowed, so if =, return False since not valid\n",
    "                    \n",
    "                    recent_op = operators.pop()\n",
    "                    if recent_op == '*':\n",
    "                        numbers.append(numbers.pop() * int_c)\n",
    "                    elif recent_op == '/':\n",
    "                        last_num = numbers.pop()\n",
    "                        if int_c == 0:\n",
    "                            return False\n",
    "                        if last_num % int_c != 0:\n",
    "                            return False\n",
    "                        numbers.append(last_num / int_c)\n",
    "                    elif recent_op == '=':\n",
    "                        return False\n",
    "                    else:\n",
    "                        numbers.append(int_c)\n",
    "                        operators.append(recent_op)\n",
    "            \n",
    "                \n",
    "            last_ind = 0\n",
    "            \n",
    "        else:\n",
    "            \n",
    "            if not(c in allowed_ops):\n",
    "                return False\n",
    "            \n",
    "            if last_ind != 0:\n",
    "                return False\n",
    "            else:\n",
    "                last_ind = 1\n",
    "                operators.append(c)\n",
    "                \n",
    "                \n",
    "    # At this point, the last operators should be + or - with enough arguments.\n",
    "    \n",
    "    left_result = numbers.pop(0)\n",
    "    \n",
    "    while len(operators) > 0:\n",
    "        next_op = operators.pop(0)\n",
    "        num2 = numbers.pop(0)\n",
    "        \n",
    "        if next_op == '+':\n",
    "            left_result += num2\n",
    "        elif next_op == '-':\n",
    "            left_result -= num2\n",
    "        else:\n",
    "            pass\n",
    "        \n",
    "    # print(left_result)\n",
    "    # print(right_result)\n",
    "    \n",
    "    return left_result == int(right_result)"
   ]
  },
  {
   "cell_type": "code",
   "execution_count": 6,
   "id": "3d30e503",
   "metadata": {},
   "outputs": [
    {
     "name": "stdout",
     "output_type": "stream",
     "text": [
      "30+40=70: True\n",
      "+30+40=70: False\n",
      "-30+40=70: False\n",
      "30+*40=70: False\n",
      "30+4*0=70: False\n",
      "30=40=70: False\n",
      "70-40=30: True\n",
      "3*4=12: True\n",
      "30/10=3: True\n",
      "30/4=7: False\n",
      "3+6*4=27: True\n"
     ]
    }
   ],
   "source": [
    "# Test cases\n",
    "\n",
    "test_cases = ['30+40=70',\n",
    "              '+30+40=70',\n",
    "              '-30+40=70',\n",
    "              '30+*40=70',\n",
    "              '30+4*0=70',\n",
    "              '30=40=70',\n",
    "              '70-40=30',\n",
    "              '3*4=12',\n",
    "              '30/10=3',\n",
    "              '30/4=7',\n",
    "              '3+6*4=27'\n",
    "             ]\n",
    "\n",
    "for test in test_cases:\n",
    "    print(test + \": \" + str(is_valid(test)))"
   ]
  },
  {
   "cell_type": "code",
   "execution_count": 7,
   "id": "7c42a4e7",
   "metadata": {},
   "outputs": [
    {
     "data": {
      "text/plain": [
       "'\\n\\nimport sys\\nimport time\\n\\na_string = \\'012345\\'\\n\\nfinal_list = [[]]\\nlength = 8\\ngroups = [list(a_string)] * length\\n\\nprint(groups)\\n\\nfor i in groups:\\n    final_list = [x+[y] for x in final_list for y in i]\\n    \\n## permutations = [\\'\\'.join(item) for item in final_list]\\n\\npermutations = []\\n\\nfor item in final_list:\\n    new_entry = \\'\\'.join(item)\\n    permutations.append(new_entry)\\n\\n    print(new_entry, end = \"\\r\")\\n    sys.stdout.write(\"\\x1b[F\") # Cursor up one line\\n    # time.sleep(1)\\n\\nprint(permutations)\\n# Returns [\\'aaa\\', \\'aab\\', \\'aac\\', \\'aba\\', \\'abb\\', \\'abc\\', \\'aca\\', \\'acb\\', \\'acc\\', \\'baa\\', \\'bab\\', \\'bac\\', \\'bba\\', \\'bbb\\', \\'bbc\\', \\'bca\\', \\'bcb\\', \\'bcc\\', \\'caa\\', \\'cab\\', \\'cac\\', \\'cba\\', \\'cbb\\', \\'cbc\\', \\'cca\\', \\'ccb\\', \\'ccc\\']\\n'"
      ]
     },
     "execution_count": 7,
     "metadata": {},
     "output_type": "execute_result"
    }
   ],
   "source": [
    "# From https://datagy.io/python-permutations-of-string/\n",
    "# Use Python to get all combinations of a string with repetition\n",
    "\n",
    "\"\"\"\n",
    "\n",
    "import sys\n",
    "import time\n",
    "\n",
    "a_string = '012345'\n",
    "\n",
    "final_list = [[]]\n",
    "length = 8\n",
    "groups = [list(a_string)] * length\n",
    "\n",
    "print(groups)\n",
    "\n",
    "for i in groups:\n",
    "    final_list = [x+[y] for x in final_list for y in i]\n",
    "    \n",
    "## permutations = [''.join(item) for item in final_list]\n",
    "\n",
    "permutations = []\n",
    "\n",
    "for item in final_list:\n",
    "    new_entry = ''.join(item)\n",
    "    permutations.append(new_entry)\n",
    "\n",
    "    print(new_entry, end = \"\\r\")\n",
    "    sys.stdout.write(\"\\033[F\") # Cursor up one line\n",
    "    # time.sleep(1)\n",
    "\n",
    "print(permutations)\n",
    "# Returns ['aaa', 'aab', 'aac', 'aba', 'abb', 'abc', 'aca', 'acb', 'acc', 'baa', 'bab', 'bac', 'bba', 'bbb', 'bbc', 'bca', 'bcb', 'bcc', 'caa', 'cab', 'cac', 'cba', 'cbb', 'cbc', 'cca', 'ccb', 'ccc']\n",
    "\"\"\""
   ]
  },
  {
   "cell_type": "code",
   "execution_count": 8,
   "id": "d46b6dee",
   "metadata": {},
   "outputs": [],
   "source": [
    "# print(len(permutations))"
   ]
  },
  {
   "cell_type": "code",
   "execution_count": 9,
   "id": "295a97dc",
   "metadata": {},
   "outputs": [],
   "source": [
    "def get_permutations(chars, length, suffix):\n",
    "\n",
    "    a_string = chars\n",
    "\n",
    "    final_list = [[]]\n",
    "    groups = [list(a_string)] * length\n",
    "\n",
    "    for i in groups:\n",
    "        final_list = [x+[y] for x in final_list for y in i]\n",
    "\n",
    "    permutations = [''.join(item) + suffix for item in final_list]\n",
    "    \n",
    "    return permutations"
   ]
  },
  {
   "cell_type": "markdown",
   "id": "64451903",
   "metadata": {},
   "source": [
    "#### Generating all permutations with repetition for each digit + operator, for a length of 8, will take too much time and memory.\n",
    "\n",
    "We must split it down to smaller cases.\n",
    "\n",
    "We know that the equation is 8 slots long, and must end with an equal sign and a number.\n",
    "* Case 1: _ _ _ _ _ _ = #\n",
    "* Case 2: _ _ _ _ _ = # #\n",
    "* Case 3: _ _ _ _ = # # #\n",
    "\n",
    "If we continue, Case 4 has four digits on the right.\n",
    "\n",
    "* Case 4: _ _ _ = # # # #\n",
    "\n",
    "However, the highest the left result is 999, and semantically, the right side should not start with a 0.\n",
    "\n",
    "Therefore, Case 4 is impossible and we have 3 cases."
   ]
  },
  {
   "cell_type": "markdown",
   "id": "ae454f3f",
   "metadata": {},
   "source": [
    "#### Case 1: _ _ _ _ _ _ = _"
   ]
  },
  {
   "cell_type": "code",
   "execution_count": 10,
   "id": "14d2f4b5",
   "metadata": {},
   "outputs": [],
   "source": [
    "left1 = get_permutations('0123456789+-*/', 6, '=')\n",
    "case1 = []\n",
    "\n",
    "for i in range(0, 10):\n",
    "    for j in left1:\n",
    "        case1.append(j + str(i))"
   ]
  },
  {
   "cell_type": "markdown",
   "id": "bdf125bc",
   "metadata": {},
   "source": [
    "#### Case 2: _ _ _ _ _ = _ _"
   ]
  },
  {
   "cell_type": "code",
   "execution_count": 11,
   "id": "679938bf",
   "metadata": {},
   "outputs": [],
   "source": [
    "left2 = get_permutations('0123456789+-*/', 5, '=')\n",
    "right2 = [*range(10, 100)]\n",
    "case2 = []\n",
    "\n",
    "for i in left2:\n",
    "    for j in right2:\n",
    "        case2.append(i + str(j))"
   ]
  },
  {
   "cell_type": "markdown",
   "id": "e9f1160c",
   "metadata": {},
   "source": [
    "#### Case 3: _ _ _ _ = _ _ _"
   ]
  },
  {
   "cell_type": "code",
   "execution_count": 12,
   "id": "27fac4f0",
   "metadata": {},
   "outputs": [],
   "source": [
    "left3 = get_permutations('0123456789+-*/', 4, '=')\n",
    "right3 = [*range(100, 1000)]\n",
    "case3 = []\n",
    "\n",
    "for i in left3:\n",
    "    for j in right3:\n",
    "        case3.append(i + str(j))"
   ]
  },
  {
   "cell_type": "markdown",
   "id": "5db10d2b",
   "metadata": {},
   "source": [
    "#### Combine Case 1-3 and extract valid equations"
   ]
  },
  {
   "cell_type": "code",
   "execution_count": 13,
   "id": "27e3fbd1",
   "metadata": {},
   "outputs": [
    {
     "name": "stdout",
     "output_type": "stream",
     "text": [
      "Case 1: 75295360\n",
      "Case 2: 48404160\n",
      "Case 3: 34574400\n",
      "Total number of cases: 158273920\n"
     ]
    }
   ],
   "source": [
    "all_cases = case1 + case2 + case3\n",
    "\n",
    "print(\"Case 1: \" + str(len(case1)))\n",
    "print(\"Case 2: \" + str(len(case2)))\n",
    "print(\"Case 3: \" + str(len(case3)))\n",
    "print(\"Total number of cases: \" + str(len(all_cases)))"
   ]
  },
  {
   "cell_type": "code",
   "execution_count": 14,
   "id": "32684c9b",
   "metadata": {},
   "outputs": [
    {
     "name": "stdout",
     "output_type": "stream",
     "text": [
      "Number of valid entries: 17447\n"
     ]
    }
   ],
   "source": [
    "valid_eqs = []\n",
    "\n",
    "for i in all_cases:\n",
    "    if is_valid(i):\n",
    "        valid_eqs.append(i)\n",
    "        \n",
    "print(\"Number of valid entries: \" + str(len(valid_eqs)))"
   ]
  },
  {
   "cell_type": "code",
   "execution_count": 15,
   "id": "2973f38c",
   "metadata": {},
   "outputs": [],
   "source": [
    "# valid_eqs[-50:]"
   ]
  },
  {
   "cell_type": "markdown",
   "id": "36324ac1",
   "metadata": {},
   "source": [
    "## Step 2: Analyze"
   ]
  },
  {
   "cell_type": "markdown",
   "id": "13b18cf2",
   "metadata": {},
   "source": [
    "Use the set of valid equations derived in the last set."
   ]
  },
  {
   "cell_type": "code",
   "execution_count": 16,
   "id": "bced233e",
   "metadata": {},
   "outputs": [],
   "source": [
    "# valid_eqs"
   ]
  },
  {
   "cell_type": "markdown",
   "id": "7f94e198",
   "metadata": {},
   "source": [
    "### Simple frequencies"
   ]
  },
  {
   "cell_type": "markdown",
   "id": "45b61318",
   "metadata": {},
   "source": [
    "#### Frequencies for each digit 0-9 and each allowed operator"
   ]
  },
  {
   "cell_type": "code",
   "execution_count": 17,
   "id": "79e93093",
   "metadata": {},
   "outputs": [
    {
     "name": "stdout",
     "output_type": "stream",
     "text": [
      "True\n"
     ]
    }
   ],
   "source": [
    "### Make one master string to search each allowed char\n",
    "\n",
    "master_string = ''.join(c for c in valid_eqs)\n",
    "print(str(master_string[-8:] == valid_eqs[-1:][0]))"
   ]
  },
  {
   "cell_type": "code",
   "execution_count": 18,
   "id": "faeb772f",
   "metadata": {},
   "outputs": [
    {
     "name": "stdout",
     "output_type": "stream",
     "text": [
      "['0', '1', '2', '3', '4', '5', '6', '7', '8', '9', '+', '-', '*', '/', '=']\n"
     ]
    }
   ],
   "source": [
    "### Make a list of keys, 0-9 and allowed ops\n",
    "### We will use each element as a search criterium\n",
    "\n",
    "digits = [str(a) for a in range(0, 10)]\n",
    "allowed_ops = ['+', '-', '*', '/', '=']\n",
    "allowed_chars = digits + allowed_ops\n",
    "print(allowed_chars)"
   ]
  },
  {
   "cell_type": "code",
   "execution_count": 19,
   "id": "64bf325e",
   "metadata": {},
   "outputs": [
    {
     "name": "stdout",
     "output_type": "stream",
     "text": [
      "{'0': 4943, '1': 14156, '2': 11552, '3': 10087, '4': 10331, '5': 9572, '6': 9540, '7': 8618, '8': 9000, '9': 8552, '+': 7484, '-': 8500, '*': 5672, '/': 4122, '=': 17447}\n"
     ]
    }
   ],
   "source": [
    "### Create a dictionary which produces the frequency\n",
    "\n",
    "counts = {a:master_string.count(a) for a in allowed_chars}\n",
    "print(counts)"
   ]
  },
  {
   "cell_type": "code",
   "execution_count": 20,
   "id": "a1778ed5",
   "metadata": {},
   "outputs": [],
   "source": [
    "### Create the chart\n",
    "\n",
    "import matplotlib.pyplot as plt\n",
    "import numpy as np\n",
    "\n",
    "N = len(counts)\n",
    "ind = np.arange(N)    # the x locations for the groups\n",
    "width = 0.35       # the width of the bars: can also be len(x) sequence"
   ]
  },
  {
   "cell_type": "code",
   "execution_count": 21,
   "id": "075f8641",
   "metadata": {},
   "outputs": [
    {
     "data": {
      "image/png": "[encoded data removed]",
      "text/plain": [
       "<Figure size 432x288 with 1 Axes>"
      ]
     },
     "metadata": {
      "needs_background": "light"
     },
     "output_type": "display_data"
    }
   ],
   "source": [
    "fig, ax = plt.subplots()\n",
    "\n",
    "p1 = ax.bar(ind, counts.values(), width)\n",
    "\n",
    "ax.axhline(0, color='grey', linewidth=0.8)\n",
    "ax.set_ylabel('Counts')\n",
    "ax.set_title('Frequency of entries in solutions')\n",
    "ax.set_xticks(ind)\n",
    "ax.set_xticklabels(counts.keys())\n",
    "# ax.legend()\n",
    "\n",
    "# Label with label_type 'center' instead of the default 'edge'\n",
    "ax.bar_label(p1, label_type = 'edge')\n",
    "\n",
    "plt.show()"
   ]
  },
  {
   "cell_type": "markdown",
   "id": "7ec6861b",
   "metadata": {},
   "source": [
    "It seems that the lower digits, 1-4, see more solutions than 0 and 5-9.\n",
    "\n",
    "* 1-2 are highest iin frequency, likely driven by the two-digit result summations.\n",
    "* 0 is lower in frequency because the form of a solution likely does not have a number leading with 0, e.g. 01 instead of 1.\n",
    "\n",
    "Next step: look at numbers instead of digits - may shed more light to digits as well as operators, e.g. higher frequencies of teens may suggest higher usage of + and -."
   ]
  },
  {
   "cell_type": "markdown",
   "id": "72509171",
   "metadata": {},
   "source": [
    "#### Frequencies for each number 0 - 999"
   ]
  },
  {
   "cell_type": "code",
   "execution_count": 22,
   "id": "f52b368b",
   "metadata": {},
   "outputs": [
    {
     "name": "stdout",
     "output_type": "stream",
     "text": [
      "[83, 747, 9, 84, 756, 9, 85, 765, 9, 86, 774, 9, 87, 783, 9, 88, 792, 9, 89, 801, 9, 90, 810, 9, 91, 819, 9, 92, 828, 9, 93, 837, 9, 94, 846, 9, 95, 855, 9, 96, 864, 9, 97, 873, 9, 98, 882, 9, 99, 891]\n"
     ]
    }
   ],
   "source": [
    "### Traverse valid equations and collect numbers\n",
    "\n",
    "numbers = []\n",
    "\n",
    "for eq in valid_eqs:\n",
    "    comps = consolidate(eq)\n",
    "    for comp in comps:\n",
    "        if comp.isnumeric():\n",
    "            numbers.append(int(comp))\n",
    "            \n",
    "print(numbers[-50:])"
   ]
  },
  {
   "cell_type": "code",
   "execution_count": 23,
   "id": "20ddd1b8",
   "metadata": {},
   "outputs": [
    {
     "name": "stdout",
     "output_type": "stream",
     "text": [
      "range(950, 1000)\n",
      "[0, 0, 0, 0, 0, 0, 0, 0, 0, 0, 0, 0, 0, 0, 0, 0, 0, 0, 0, 0, 0, 0, 0, 0, 0, 0, 0, 0, 0, 0, 0, 0, 0, 0, 0, 0, 0, 0, 0, 0, 0, 0, 0, 0, 0, 0, 0, 0, 0, 0]\n"
     ]
    }
   ],
   "source": [
    "### Create array of keys, i.e. 0-999\n",
    "\n",
    "x = range(0, 1000)\n",
    "y = [numbers.count(a) for a in x]\n",
    "\n",
    "print(x[-50:])\n",
    "print(y[-50:])"
   ]
  },
  {
   "cell_type": "code",
   "execution_count": 24,
   "id": "869f9bf9",
   "metadata": {},
   "outputs": [
    {
     "data": {
      "image/png": "[encoded data removed]",
      "text/plain": [
       "<Figure size 432x288 with 1 Axes>"
      ]
     },
     "metadata": {
      "needs_background": "light"
     },
     "output_type": "display_data"
    }
   ],
   "source": [
    "width = 1\n",
    "\n",
    "fig, ax = plt.subplots()\n",
    "\n",
    "p1 = ax.bar(x, y, width)\n",
    "\n",
    "ax.axhline(0, color='grey', linewidth=0.8)\n",
    "ax.set_ylabel('Counts')\n",
    "ax.set_title('Frequency of numbers in solutions: 0 - 1000')\n",
    "# ax.legend()\n",
    "\n",
    "# Label with label_type 'center' instead of the default 'edge'\n",
    "# ax.bar_label(p1, label_type = 'edge')\n",
    "\n",
    "plt.show()"
   ]
  },
  {
   "cell_type": "markdown",
   "id": "e128dc70",
   "metadata": {},
   "source": [
    "As expected, we don't see much activity past 100 which would require the use of at least one multiplication (*).\n",
    "\n",
    "Try to truncate at 100 to get a better sense of frequencies."
   ]
  },
  {
   "cell_type": "code",
   "execution_count": 25,
   "id": "9d2b10b8",
   "metadata": {},
   "outputs": [],
   "source": [
    "### Truncate to 100\n",
    "\n",
    "trunc_pt = 101\n",
    "\n",
    "x_trunc = x[:trunc_pt]\n",
    "y_trunc = y[:trunc_pt]"
   ]
  },
  {
   "cell_type": "code",
   "execution_count": 26,
   "id": "f65c0eb7",
   "metadata": {},
   "outputs": [
    {
     "data": {
      "image/png": "[encoded data removed]",
      "text/plain": [
       "<Figure size 432x288 with 1 Axes>"
      ]
     },
     "metadata": {
      "needs_background": "light"
     },
     "output_type": "display_data"
    }
   ],
   "source": [
    "width = 1\n",
    "\n",
    "fig, ax = plt.subplots()\n",
    "\n",
    "p1 = ax.bar(x_trunc, y_trunc, width)\n",
    "\n",
    "ax.axhline(0, color='grey', linewidth=0.8)\n",
    "ax.set_ylabel('Counts')\n",
    "ax.set_title('Frequency of numbers in solutions: 0 - 100')\n",
    "# ax.legend()\n",
    "\n",
    "# Label with label_type 'center' instead of the default 'edge'\n",
    "# ax.bar_label(p1, label_type = 'edge')\n",
    "\n",
    "plt.show()"
   ]
  },
  {
   "cell_type": "markdown",
   "id": "7865d5df",
   "metadata": {},
   "source": [
    "We see another cutoff at 10, which makes sense. If there are 3 operands and 2 operators on the left, this maximizes the permutations for an eligible equation."
   ]
  },
  {
   "cell_type": "code",
   "execution_count": 27,
   "id": "3d516abc",
   "metadata": {},
   "outputs": [],
   "source": [
    "### Truncate to 100\n",
    "\n",
    "trunc_pt = 11\n",
    "\n",
    "x_trunc = x[:trunc_pt]\n",
    "y_trunc = y[:trunc_pt]"
   ]
  },
  {
   "cell_type": "code",
   "execution_count": 28,
   "id": "b76801cf",
   "metadata": {},
   "outputs": [
    {
     "data": {
      "image/png": "[encoded data removed]",
      "text/plain": [
       "<Figure size 432x288 with 1 Axes>"
      ]
     },
     "metadata": {
      "needs_background": "light"
     },
     "output_type": "display_data"
    }
   ],
   "source": [
    "width = 1\n",
    "\n",
    "fig, ax = plt.subplots()\n",
    "\n",
    "p1 = ax.bar(x_trunc, y_trunc, width)\n",
    "\n",
    "ax.axhline(0, color='grey', linewidth=0.8)\n",
    "ax.set_ylabel('Counts')\n",
    "ax.set_title('Frequency of numbers in solutions: 0 - 10')\n",
    "# ax.legend()\n",
    "\n",
    "# Label with label_type 'center' instead of the default 'edge'\n",
    "# ax.bar_label(p1, label_type = 'edge')\n",
    "\n",
    "plt.show()"
   ]
  },
  {
   "cell_type": "markdown",
   "id": "e814527d",
   "metadata": {},
   "source": [
    "### Repeated entries in solutions"
   ]
  },
  {
   "cell_type": "markdown",
   "id": "9fe49f61",
   "metadata": {},
   "source": [
    "In order to find the most ideal opener, it might help to look at if it is more effective to open with a solution:\n",
    "* with repeated digits and/or operators\n",
    "* with all unique digits and operators"
   ]
  },
  {
   "cell_type": "markdown",
   "id": "af1495c1",
   "metadata": {},
   "source": [
    "#### Repeated digits"
   ]
  },
  {
   "cell_type": "markdown",
   "id": "82c0383f",
   "metadata": {},
   "source": [
    "Are there more solutions with repeated digits?"
   ]
  },
  {
   "cell_type": "code",
   "execution_count": 29,
   "id": "477b9ae9",
   "metadata": {},
   "outputs": [
    {
     "name": "stdout",
     "output_type": "stream",
     "text": [
      "Repeat counts: \n",
      "{'0': 415, '1': 3202, '2': 2161, '3': 1747, '4': 1828, '5': 1691, '6': 1491, '7': 1318, '8': 1393, '9': 1321}\n",
      "\n",
      "Sum of repeat counts: 16567\n",
      "Unique equations: 13584\n"
     ]
    }
   ],
   "source": [
    "### Traverse valid equations and collect digits\n",
    "\n",
    "repeats = []\n",
    "repeat_eqs = []\n",
    "unique_eq_bool = 0\n",
    "\n",
    "for eq in valid_eqs:\n",
    "    eq_dedup = ''.join(set(eq))\n",
    "    for char in eq_dedup:\n",
    "        if eq.count(char) > 1 and char.isnumeric():\n",
    "            repeats.append(char)\n",
    "            unique_eq_bool = 1\n",
    "    if unique_eq_bool == 1:\n",
    "        repeat_eqs.append(eq)\n",
    "    unique_eq_bool = 0\n",
    "        \n",
    "# repeat_counts = {a:repeats.count(a) for a in allowed_chars}\n",
    "repeat_counts = {a:repeats.count(a) for a in digits}\n",
    "# repeat_counts = {a:repeats.count(a) for a in allowed_ops}\n",
    "            \n",
    "print(\"Repeat counts: \")\n",
    "print(repeat_counts)\n",
    "print(\"\")\n",
    "print(\"Sum of repeat counts: \" + str(sum(repeat_counts.values())))\n",
    "print(\"Unique equations: \" + str(len(repeat_eqs)))"
   ]
  },
  {
   "cell_type": "code",
   "execution_count": 30,
   "id": "d686c1c5",
   "metadata": {},
   "outputs": [
    {
     "name": "stdout",
     "output_type": "stream",
     "text": [
      "All unique equation counts: 3863\n",
      "['94*8=752', '95+7=102', '95+8=103', '95*4=380', '95*8=760', '96+7=103', '96+8=104', '96*5=480', '97+5=102', '97+6=103', '97+8=105', '97*6=582', '98+4=102', '98+5=103', '98+6=104', '98+7=105', '9*42=378', '9*52=468', '9*72=648', '9*84=756']\n"
     ]
    }
   ],
   "source": [
    "### Double check: all unique should be 17,447 - # unique equations above\n",
    "### i.e. 3,863\n",
    "\n",
    "repeats = []\n",
    "all_unique = []\n",
    "unique_eq_counter = 0\n",
    "unique_eq_bool = 0\n",
    "\n",
    "for eq in valid_eqs:\n",
    "    eq_dedup = ''.join(set(eq))\n",
    "    for char in eq_dedup:\n",
    "        if eq.count(char) > 1 and char.isnumeric():\n",
    "            #repeats.append(char)\n",
    "            unique_eq_bool = 1\n",
    "    if unique_eq_bool == 0:\n",
    "        all_unique.append(eq)\n",
    "        unique_eq_counter += 1\n",
    "    unique_eq_bool = 0\n",
    "        \n",
    "# repeat_counts = {a:repeats.count(a) for a in allowed_chars}\n",
    "# repeat_counts = {a:repeats.count(a) for a in digits}\n",
    "# repeat_counts = {a:repeats.count(a) for a in allowed_ops}\n",
    "            \n",
    "print(\"All unique equation counts: \" + str(unique_eq_counter))\n",
    "print(all_unique[-20:])"
   ]
  },
  {
   "cell_type": "markdown",
   "id": "06bef0f3",
   "metadata": {},
   "source": [
    "The answer is **yes**.\n",
    "\n",
    "There are 13,584 equations out of 17,447 (77.9%) that have a repeat digit!\n",
    "\n",
    "Now let's split out by number of repeats.\n",
    "* Are the multiple repeats, e.g. two 1's and two 2's?\n",
    "* Are there more than two of one digit, e.g. three 1's?"
   ]
  },
  {
   "cell_type": "markdown",
   "id": "d43c5e98",
   "metadata": {},
   "source": [
    "#### Multiple repeats"
   ]
  },
  {
   "cell_type": "code",
   "execution_count": 31,
   "id": "136e0a7a",
   "metadata": {},
   "outputs": [
    {
     "name": "stdout",
     "output_type": "stream",
     "text": [
      "Equations with multiple repeats: 3965\n",
      "\n",
      "['95*9=855', '96*2=192', '96*7=672', '96*8=768', '96*9=864', '97*7=679', '97*9=873', '98*7=686', '98*9=882', '99+1=100', '99+2=101', '99*5=495', '9+91=100', '9+92=101', '9*15=135', '9*16=144', '9*19=171', '9*21=189', '9*22=198', '9*25=225', '9*29=261', '9*32=288', '9*33=297', '9*35=315', '9*39=351', '9*44=396', '9*45=405', '9*49=441', '9*50=450', '9*51=459', '9*55=495', '9*58=522', '9*59=531', '9*66=594', '9*69=621', '9*75=675', '9*77=693', '9*79=711', '9*87=783', '9*88=792', '9*89=801', '9*90=810', '9*91=819', '9*92=828', '9*93=837', '9*94=846', '9*95=855', '9*96=864', '9*97=873', '9*98=882']\n"
     ]
    }
   ],
   "source": [
    "### Traverse valid equations and collect digits\n",
    "\n",
    "from itertools import compress\n",
    "\n",
    "multiple_repeat_eqs = []\n",
    "\n",
    "for eq in valid_eqs:\n",
    "    eq_dedup = ''.join(set(eq))\n",
    "    counts = [eq.count(char) for char in eq_dedup]\n",
    "    num_repeats = len(list(compress(counts, [a > 1 for a in counts])))\n",
    "    if num_repeats > 1:\n",
    "        multiple_repeat_eqs.append(eq)\n",
    "            \n",
    "print(\"Equations with multiple repeats: \" + str(len(multiple_repeat_eqs)))\n",
    "print(\"\")\n",
    "print(multiple_repeat_eqs[-50:])"
   ]
  },
  {
   "cell_type": "code",
   "execution_count": 32,
   "id": "708e3c84",
   "metadata": {},
   "outputs": [
    {
     "data": {
      "text/plain": [
       "0.22725970080816185"
      ]
     },
     "execution_count": 32,
     "metadata": {},
     "output_type": "execute_result"
    }
   ],
   "source": [
    "len(multiple_repeat_eqs) / len(valid_eqs)"
   ]
  },
  {
   "cell_type": "markdown",
   "id": "d21278fd",
   "metadata": {},
   "source": [
    "3,965 solutions out of 17,447 valid equations contain more than one digit repeated. That's about 22.7% of solutions."
   ]
  },
  {
   "cell_type": "markdown",
   "id": "7e08193e",
   "metadata": {},
   "source": [
    "#### Repeats more than double"
   ]
  },
  {
   "cell_type": "code",
   "execution_count": 33,
   "id": "eafc6e43",
   "metadata": {},
   "outputs": [
    {
     "name": "stdout",
     "output_type": "stream",
     "text": [
      "Equations with multiple repeats: 2077\n",
      "\n",
      "['95*9=855', '96*2=192', '96*7=672', '96*8=768', '96*9=864', '97*7=679', '97*9=873', '98*7=686', '98*9=882', '99+1=100', '99+2=101', '99*5=495', '9+91=100', '9+92=101', '9*15=135', '9*16=144', '9*19=171', '9*21=189', '9*22=198', '9*25=225', '9*29=261', '9*32=288', '9*33=297', '9*35=315', '9*39=351', '9*44=396', '9*45=405', '9*49=441', '9*50=450', '9*51=459', '9*55=495', '9*58=522', '9*59=531', '9*66=594', '9*69=621', '9*75=675', '9*77=693', '9*79=711', '9*87=783', '9*88=792', '9*89=801', '9*90=810', '9*91=819', '9*92=828', '9*93=837', '9*94=846', '9*95=855', '9*96=864', '9*97=873', '9*98=882']\n"
     ]
    }
   ],
   "source": [
    "### Traverse valid equations and collect digits\n",
    "\n",
    "from itertools import compress\n",
    "\n",
    "repeat_more_than_double_eqs = []\n",
    "repeat_more_than_double_digits = []\n",
    "\n",
    "for eq in valid_eqs:\n",
    "    eq_dedup = ''.join(set(eq))\n",
    "    counts = [eq.count(char) for char in eq_dedup]\n",
    "    num_repeats = len(list(compress(counts, [a > 2 for a in counts])))\n",
    "    if num_repeats > 0:\n",
    "        repeat_more_than_double_eqs.append(eq)\n",
    "        digit_add = list(compress(eq_dedup, [a > 2 for a in counts]))\n",
    "        repeat_more_than_double_digits += digit_add\n",
    "            \n",
    "print(\"Equations with multiple repeats: \" + str(len(repeat_more_than_double_eqs)))\n",
    "print(\"\")\n",
    "print(multiple_repeat_eqs[-50:])"
   ]
  },
  {
   "cell_type": "code",
   "execution_count": 34,
   "id": "0da70fd1",
   "metadata": {},
   "outputs": [
    {
     "name": "stdout",
     "output_type": "stream",
     "text": [
      "{'0': 104, '1': 412, '2': 283, '3': 213, '4': 253, '5': 264, '6': 175, '7': 106, '8': 149, '9': 118}\n"
     ]
    }
   ],
   "source": [
    "repeat_more_than_double_digits_counts = {a:repeat_more_than_double_digits.count(a) for a in digits}\n",
    "print(repeat_more_than_double_digits_counts)"
   ]
  },
  {
   "cell_type": "code",
   "execution_count": 35,
   "id": "e2ce84a8",
   "metadata": {},
   "outputs": [
    {
     "data": {
      "text/plain": [
       "0.11904625437037886"
      ]
     },
     "execution_count": 35,
     "metadata": {},
     "output_type": "execute_result"
    }
   ],
   "source": [
    "len(repeat_more_than_double_eqs) / len(valid_eqs)"
   ]
  },
  {
   "cell_type": "markdown",
   "id": "60ac0cf8",
   "metadata": {},
   "source": [
    "2,077 solutions out of 17,447 valid equations contain repeat digits of 3 or more instances. That's about 11.9% of solutions.\n",
    "\n",
    "Not surprisingly, 1 is the most common repeated digit here as well."
   ]
  },
  {
   "cell_type": "markdown",
   "id": "68ef4ef0",
   "metadata": {},
   "source": [
    "#### Positions for repeat digits"
   ]
  },
  {
   "cell_type": "code",
   "execution_count": 36,
   "id": "b1f569ca",
   "metadata": {},
   "outputs": [
    {
     "name": "stdout",
     "output_type": "stream",
     "text": [
      "['0', '3']\n"
     ]
    }
   ],
   "source": [
    "eq='30+30=60'\n",
    "eq_dedup = ''.join(set(eq))\n",
    "counts = [eq.count(char) for char in eq_dedup]\n",
    "dup_digits = list(compress(eq_dedup, [a > 1 for a in counts]))\n",
    "\n",
    "print(dup_digits)"
   ]
  },
  {
   "cell_type": "code",
   "execution_count": 37,
   "id": "2641fb8e",
   "metadata": {},
   "outputs": [],
   "source": [
    "positions = []\n",
    "\n",
    "for eq in repeat_eqs:\n",
    "    eq_dedup = ''.join(set(eq))\n",
    "    counts = [eq.count(char) for char in eq_dedup]\n",
    "    dup_digits = list(compress(eq_dedup, [a > 1 for a in counts]))\n",
    "    for i in range(0, 8):\n",
    "        if eq[i].isnumeric() and eq[i] in dup_digits:\n",
    "            positions.append(i)\n",
    "            # print(eq)\n",
    "            # print(i)"
   ]
  },
  {
   "cell_type": "code",
   "execution_count": 38,
   "id": "941dc376",
   "metadata": {},
   "outputs": [
    {
     "name": "stdout",
     "output_type": "stream",
     "text": [
      "{0: 5820, 1: 4689, 2: 2603, 3: 4386, 4: 4736, 5: 2323, 6: 4073, 7: 6667}\n"
     ]
    }
   ],
   "source": [
    "position_freqs = {ind:positions.count(ind) for ind in range(0, 8)}\n",
    "print(position_freqs)"
   ]
  },
  {
   "cell_type": "code",
   "execution_count": 39,
   "id": "50bc2750",
   "metadata": {},
   "outputs": [
    {
     "data": {
      "image/png": "[encoded data removed]",
      "text/plain": [
       "<Figure size 432x288 with 1 Axes>"
      ]
     },
     "metadata": {
      "needs_background": "light"
     },
     "output_type": "display_data"
    }
   ],
   "source": [
    "width = 0.5\n",
    "\n",
    "fig, ax = plt.subplots()\n",
    "\n",
    "p1 = ax.bar(position_freqs.keys(), position_freqs.values(), width)\n",
    "\n",
    "ax.axhline(0, color='grey', linewidth = 0.8)\n",
    "ax.set_ylabel('Counts')\n",
    "ax.set_title('Positions of repeated digits, 0-7')\n",
    "# ax.legend()\n",
    "\n",
    "# Label with label_type 'center' instead of the default 'edge'\n",
    "ax.bar_label(p1, label_type = 'edge')\n",
    "\n",
    "plt.show()"
   ]
  },
  {
   "cell_type": "markdown",
   "id": "b2f7dd32",
   "metadata": {},
   "source": [
    "#### Digit companionship heat map"
   ]
  },
  {
   "cell_type": "markdown",
   "id": "8f53c082",
   "metadata": {},
   "source": [
    "\"Companionship\" is meant by the co-existence of two digits in the solutions base.\n",
    "\n",
    "For example, given that there is a \"1\" in the solution, what is the probability that there is also a \"7\"?"
   ]
  },
  {
   "cell_type": "code",
   "execution_count": 40,
   "id": "542e1873",
   "metadata": {},
   "outputs": [],
   "source": [
    "import numpy as np\n",
    " \n",
    "rows = 10\n",
    "cols = 10\n",
    "size = rows * cols\n",
    " \n",
    "companionship_map = np.array([0] * size, dtype=float).reshape(rows,cols)\n",
    "\n",
    "for given in range(0, 10):\n",
    "    limited_set = list(compress(valid_eqs, [eq.count(str(given)) > 0 for eq in valid_eqs]))\n",
    "    for second in range(0, 10):\n",
    "        double_limit_set = list(compress(limited_set, [eq.count(str(second)) > 0 for eq in limited_set]))\n",
    "        companionship_map[given][second] = len(double_limit_set) / len(limited_set)"
   ]
  },
  {
   "cell_type": "code",
   "execution_count": 41,
   "id": "27ba6a18",
   "metadata": {
    "scrolled": true
   },
   "outputs": [
    {
     "name": "stdout",
     "output_type": "stream",
     "text": [
      "[[1.         0.53910488 0.45976492 0.38517179 0.41094033 0.42631103\n",
      "  0.38132911 0.32368897 0.35443038 0.32911392]\n",
      " [0.22649573 1.         0.4640076  0.42507123 0.42573599 0.39838557\n",
      "  0.41927825 0.38347578 0.39468186 0.37283951]\n",
      " [0.22351648 0.53692308 1.         0.41516484 0.4489011  0.38615385\n",
      "  0.40912088 0.39395604 0.39923077 0.35461538]\n",
      " [0.20998152 0.55157116 0.46555761 1.         0.4207024  0.41873075\n",
      "  0.41355514 0.38151571 0.38077634 0.37634011]\n",
      " [0.22073822 0.54431763 0.4959932  0.41452161 1.         0.38513842\n",
      "  0.41537154 0.36316173 0.39667314 0.35709082]\n",
      " [0.24802735 0.55168332 0.4621252  0.44687007 0.41714887 1.\n",
      "  0.38532351 0.36875329 0.37019989 0.36796423]\n",
      " [0.21452187 0.56141913 0.47342319 0.42675483 0.43502035 0.37258393\n",
      "  1.         0.35414547 0.39331129 0.36762462]\n",
      " [0.19911012 0.56145717 0.49847052 0.43047831 0.41587875 0.38987764\n",
      "  0.38723582 1.         0.368604   0.39126808]\n",
      " [0.21041331 0.55770263 0.48752013 0.41465378 0.4384058  0.37775094\n",
      "  0.41505636 0.35574342 1.         0.34889962]\n",
      " [0.20495495 0.5526464  0.45425113 0.42989865 0.41399212 0.39386261\n",
      "  0.40695383 0.39611486 0.36599099 1.        ]]\n"
     ]
    }
   ],
   "source": [
    "print(companionship_map)"
   ]
  },
  {
   "cell_type": "code",
   "execution_count": 42,
   "id": "c69b3350",
   "metadata": {},
   "outputs": [
    {
     "data": {
      "image/png": "[encoded data removed]",
      "text/plain": [
       "<Figure size 432x288 with 2 Axes>"
      ]
     },
     "metadata": {},
     "output_type": "display_data"
    }
   ],
   "source": [
    "import numpy as np; np.random.seed(0)\n",
    "import seaborn as sns; sns.set_theme()\n",
    "ax = sns.heatmap(companionship_map, vmin = 0.3, vmax = 0.6)"
   ]
  },
  {
   "cell_type": "markdown",
   "id": "52210ee2",
   "metadata": {},
   "source": [
    "### Ideal starter"
   ]
  },
  {
   "cell_type": "markdown",
   "id": "b7e7c40d",
   "metadata": {},
   "source": [
    "This analysis relies on similar concepts presented in the Wordle analysis below.\n",
    "https://www.youtube.com/watch?v=v68zYyaEmEA\n",
    "\n",
    "Presented is some information theory, which states that 1 bit of information cuts the number of possible outcomes in half."
   ]
  },
  {
   "cell_type": "markdown",
   "id": "03259bf5",
   "metadata": {},
   "source": [
    "For each equation, we make use of the three different states - black, purple, and green - and run through the $3^{8}$ scenarios to get a weighted information bits \"score\"."
   ]
  },
  {
   "cell_type": "code",
   "execution_count": 43,
   "id": "35d58762",
   "metadata": {},
   "outputs": [
    {
     "name": "stdout",
     "output_type": "stream",
     "text": [
      "[0, 2, 4]\n",
      "<enumerate object at 0x7ff1d8d01340>\n"
     ]
    }
   ],
   "source": [
    "a = [2, 3, 2, 3, 2, 1, 4]\n",
    "indices = [i for i, x in enumerate(a) if x == 2]\n",
    "print(indices)\n",
    "print(enumerate(a))"
   ]
  },
  {
   "cell_type": "code",
   "execution_count": 44,
   "id": "167734b5",
   "metadata": {},
   "outputs": [
    {
     "name": "stdout",
     "output_type": "stream",
     "text": [
      "None\n",
      "None\n"
     ]
    }
   ],
   "source": [
    "import re\n",
    "\n",
    "pattern = '.0.4.=.1'\n",
    "test = '30+40=70'\n",
    "\n",
    "result = re.match(pattern, test)\n",
    "print(result)\n",
    "\n",
    "pattern = '[^3]0.4.=.0'\n",
    "test = '30+40=70'\n",
    "\n",
    "result = re.match(pattern, test)\n",
    "print(result)"
   ]
  },
  {
   "cell_type": "code",
   "execution_count": 45,
   "id": "6467797d",
   "metadata": {},
   "outputs": [
    {
     "name": "stdout",
     "output_type": "stream",
     "text": [
      "..3....\n",
      "['.', '.', '.', '.', '.', '.', '.', '.']\n",
      "True\n"
     ]
    }
   ],
   "source": [
    "a = '.......'\n",
    "list_a = list(a)\n",
    "list_a[2] = '3'\n",
    "print(''.join(list_a))\n",
    "\n",
    "print(['.'] * 8)\n",
    "\n",
    "print(2 != 3)"
   ]
  },
  {
   "cell_type": "code",
   "execution_count": 46,
   "id": "2963ffcc",
   "metadata": {},
   "outputs": [
    {
     "name": "stdout",
     "output_type": "stream",
     "text": [
      "[3]\n",
      "[4, 5]\n"
     ]
    }
   ],
   "source": [
    "a = [1, 2, 3]\n",
    "b = [3, 4, 5, 3, 4]\n",
    "\n",
    "inters = list(set(a).intersection(set(b)))\n",
    "\n",
    "print(inters)\n",
    "print(list(set(b) - set(inters)))"
   ]
  },
  {
   "cell_type": "code",
   "execution_count": 47,
   "id": "fe49183e",
   "metadata": {},
   "outputs": [
    {
     "data": {
      "text/plain": [
       "3"
      ]
     },
     "execution_count": 47,
     "metadata": {},
     "output_type": "execute_result"
    }
   ],
   "source": [
    "a = [(2, 3)]\n",
    "a[0][1]"
   ]
  },
  {
   "cell_type": "markdown",
   "id": "81180e7d",
   "metadata": {},
   "source": [
    "\"\"\"\n",
    "Get score = -log_2{p}\n",
    "Since each outcome is equally likely, p = 1 / (# of outcomes)\n",
    "Thus, score = -log_2{p} = log_2{# of outcomes}\n",
    "\n",
    "Parameters:\n",
    "    states - list of 8 elements; 0 for black, 1 for purple, 2 for green\n",
    "\"\"\"\n",
    "\n",
    "import re\n",
    "\n",
    "def get_remaining_solutions(remaining_eqs, checking_eq, states):\n",
    "    BLACK = 0\n",
    "    PURPLE = 1\n",
    "    GREEN = 2\n",
    "    \n",
    "    residual_eqs_1 = []\n",
    "    \n",
    "    # First, eliminate equations that don't meet green slots.\n",
    "    \n",
    "    # Then purge equations that have entries in the wrong spot \n",
    "    # as shown in checking_eq, aka any spot with black OR purple\n",
    "    \n",
    "    green_indices = [i for i, x in enumerate(states) if x == GREEN]\n",
    "    other_indices = [i for i, x in enumerate(states) if x != GREEN]\n",
    "    regex_list = ['.'] * 8\n",
    "    \n",
    "    # print(green_indices)\n",
    "    # print(other_indices)\n",
    "    \n",
    "    for ind in green_indices:\n",
    "        literal_prefix = ''\n",
    "        if checking_eq[ind] in ['+', '*']:\n",
    "            literal_prefix = '\\\\'\n",
    "        regex_list[ind] = literal_prefix + checking_eq[ind]\n",
    "        # print(regex_list)\n",
    "        \n",
    "    for ind in other_indices:\n",
    "        literal_prefix = ''\n",
    "        if checking_eq[ind] in ['+', '*']:\n",
    "            literal_prefix = '\\\\'\n",
    "        regex_list[ind] = '[^' + literal_prefix + checking_eq[ind] + ']'\n",
    "    \n",
    "    for eq in remaining_eqs:\n",
    "        result = re.match(''.join(regex_list), eq)\n",
    "        # print(''.join(regex_list))\n",
    "        if result:\n",
    "            residual_eqs_1.append(eq)\n",
    "    \n",
    "    # Then, consider equations that violate counts \n",
    "    # using purple and black.\n",
    "    \n",
    "    black_indices = [i for i, x in enumerate(states) if x == BLACK]\n",
    "    purple_indices = [i for i, x in enumerate(states) if x == PURPLE]\n",
    "\n",
    "    black_values = []\n",
    "    purple_values = []\n",
    "    green_values = []\n",
    "    \n",
    "    for i in black_indices:\n",
    "        black_values.append(checking_eq[i])\n",
    "    for i in purple_indices:\n",
    "        purple_values.append(checking_eq[i])\n",
    "    for i in green_indices:\n",
    "        green_values.append(checking_eq[i])\n",
    "    \n",
    "    # Start with digits with both black and purple.\n",
    "    # Purge equations with incorrect count.\n",
    "    \n",
    "    intersect_values = list(set(black_values).intersection(set(purple_values)))\n",
    "    \n",
    "    purge_eqs_1 = []\n",
    "    \n",
    "    for val in intersect_values:\n",
    "        num_in_solution = purple_values.count(val) + green_values.count(val)\n",
    "        for eq in residual_eqs_1:\n",
    "            eq_count = eq.count(val)\n",
    "            if eq_count != num_in_solution:\n",
    "                purge_eqs_1.append(eq)\n",
    "            \n",
    "    residual_eqs_2 = list(set(residual_eqs_1) - set(purge_eqs_1))\n",
    "            \n",
    "    # Then purge equations that have 0 of values with purple \n",
    "    # but no black\n",
    "    \n",
    "    purple_only_values = list(set(purple_values) - set(intersect_values))\n",
    "    \n",
    "    purge_eqs_2 = []\n",
    "    \n",
    "    for val in purple_only_values:\n",
    "        num_in_solution = purple_values.count(val)\n",
    "        for eq in residual_eqs_2:\n",
    "            eq_count = eq.count(val)\n",
    "            if eq_count != num_in_solution:\n",
    "                purge_eqs_2.append(eq)    \n",
    "    \n",
    "    residual_eqs_3 = list(set(residual_eqs_2) - set(purge_eqs_2))\n",
    "    \n",
    "    # Then purge equations that have 1+ of values with black \n",
    "    # but no purple\n",
    "    \n",
    "    black_only_values = list(set(black_values) - set(intersect_values))\n",
    "    \n",
    "    purge_eqs_3 = []\n",
    "    \n",
    "    for val in black_only_values:\n",
    "        for eq in residual_eqs_3:\n",
    "            eq_count = eq.count(val)\n",
    "            if eq_count > 0:\n",
    "                purge_eqs_3.append(eq)    \n",
    "    \n",
    "    residual_eqs_4 = list(set(residual_eqs_3) - set(purge_eqs_3))\n",
    "\n",
    "    return residual_eqs_4\n",
    "    "
   ]
  },
  {
   "cell_type": "code",
   "execution_count": 58,
   "id": "0597680c",
   "metadata": {},
   "outputs": [],
   "source": [
    "# Global variables for 3 colored states.\n",
    "\n",
    "BLACK = 0\n",
    "PURPLE = 1\n",
    "GREEN = 2"
   ]
  },
  {
   "cell_type": "code",
   "execution_count": 48,
   "id": "1917a3ae",
   "metadata": {},
   "outputs": [],
   "source": [
    "\"\"\"\n",
    "Get score = -log_2{p}\n",
    "Since each outcome is equally likely, p = 1 / (# of outcomes)\n",
    "Thus, score = -log_2{p} = log_2{# of outcomes}\n",
    "\n",
    "Parameters:\n",
    "    states - list of 8 elements; 0 for black, 1 for purple, 2 for green\n",
    "    \n",
    "v2 - improvements for efficiency...because v1 was taking too long even with parallelization\n",
    "    Put everything in one for-loop for all remaining equations.\n",
    "    \n",
    "    That way, the efficiency becomes O(n) for this method, \n",
    "    and O(n^2) as we traverse for all equations.\n",
    "    \n",
    "\"\"\"\n",
    "\n",
    "import re\n",
    "\n",
    "def get_remaining_solutions(remaining_eqs, checking_eq, states):\n",
    "    BLACK = 0\n",
    "    PURPLE = 1\n",
    "    GREEN = 2\n",
    "    \n",
    "    residual_eqs_1 = []\n",
    "    \n",
    "    # Case 1\n",
    "    \n",
    "    # First, eliminate equations that don't meet green slots.\n",
    "    \n",
    "    # Then purge equations that have entries in the wrong spot \n",
    "    # as shown in checking_eq, aka any spot with black OR purple\n",
    "    \n",
    "    green_indices = [i for i, x in enumerate(states) if x == GREEN]\n",
    "    other_indices = [i for i, x in enumerate(states) if x != GREEN]\n",
    "    regex_list = ['.'] * 8\n",
    "    \n",
    "    # print(green_indices)\n",
    "    # print(other_indices)\n",
    "    \n",
    "    for ind in green_indices:\n",
    "        literal_prefix = ''\n",
    "        if checking_eq[ind] in ['+', '*']:\n",
    "            literal_prefix = '\\\\'\n",
    "        regex_list[ind] = literal_prefix + checking_eq[ind]\n",
    "        # print(regex_list)\n",
    "        \n",
    "    for ind in other_indices:\n",
    "        literal_prefix = ''\n",
    "        if checking_eq[ind] in ['+', '*']:\n",
    "            literal_prefix = '\\\\'\n",
    "        regex_list[ind] = '[^' + literal_prefix + checking_eq[ind] + ']'\n",
    "    \n",
    "    # Case 2\n",
    "    \n",
    "    # Then, consider equations that violate counts \n",
    "    # using purple and black.\n",
    "    \n",
    "    black_indices = [i for i, x in enumerate(states) if x == BLACK]\n",
    "    purple_indices = [i for i, x in enumerate(states) if x == PURPLE]\n",
    "\n",
    "    black_values = []\n",
    "    purple_values = []\n",
    "    green_values = []\n",
    "    \n",
    "    for i in black_indices:\n",
    "        black_values.append(checking_eq[i])\n",
    "    for i in purple_indices:\n",
    "        purple_values.append(checking_eq[i])\n",
    "    for i in green_indices:\n",
    "        green_values.append(checking_eq[i])\n",
    "    \n",
    "    # Case 2a\n",
    "    \n",
    "    # Start with digits with both black and purple.\n",
    "    # Purge equations with incorrect count.\n",
    "    \n",
    "    intersect_values = list(set(black_values).intersection(set(purple_values)))\n",
    "          \n",
    "    # Case 2b\n",
    "    \n",
    "    # Then purge equations that have 0 of values with purple \n",
    "    # but no black\n",
    "    \n",
    "    purple_only_values = list(set(purple_values) - set(intersect_values))\n",
    "    \n",
    "    # Case 2c\n",
    "    \n",
    "    # Then purge equations that have 1+ of values with black \n",
    "    # but no purple\n",
    "    \n",
    "    black_only_values = list(set(black_values) - set(intersect_values))\n",
    "    \n",
    "    # Final - put everything together in one for loop to only traverse once\n",
    "    \n",
    "    eqs_to_eliminate = []\n",
    "    \n",
    "    for eq in remaining_eqs:\n",
    "        \n",
    "        # Case 1 - Exact indices\n",
    "        \n",
    "        result = re.match(''.join(regex_list), eq)\n",
    "        \n",
    "        if not result:\n",
    "            eqs_to_eliminate.append(eq)\n",
    "            continue\n",
    "        \n",
    "        # Case 2a - Purple and black repeat chars\n",
    "        \n",
    "        case2 = 0\n",
    "        \n",
    "        for val in intersect_values:\n",
    "            num_in_solution = purple_values.count(val) + green_values.count(val)\n",
    "            eq_count = eq.count(val)\n",
    "            if eq_count != num_in_solution:\n",
    "                eqs_to_eliminate.append(eq)\n",
    "                case2 = 1\n",
    "        \n",
    "        if case2 == 1:\n",
    "            continue\n",
    "            \n",
    "        # Case 2b - Purple chars with no black repeats\n",
    "        \n",
    "        for val in purple_only_values:\n",
    "            num_in_solution = purple_values.count(val)\n",
    "            eq_count = eq.count(val)\n",
    "            if eq_count < num_in_solution:\n",
    "                eqs_to_eliminate.append(eq)\n",
    "                case2 = 1\n",
    "        \n",
    "        if case2 == 1:\n",
    "            continue\n",
    "            \n",
    "        # Case 2c - Black chars with no purple repeats\n",
    "        \n",
    "        for val in black_only_values:\n",
    "            eq_count = eq.count(val)\n",
    "            if eq_count > 0:\n",
    "                eqs_to_eliminate.append(eq)\n",
    "\n",
    "    residual_eqs = list(set(remaining_eqs) - set(eqs_to_eliminate))\n",
    "    \n",
    "    return residual_eqs\n",
    "    "
   ]
  },
  {
   "cell_type": "code",
   "execution_count": 49,
   "id": "f433fa40",
   "metadata": {},
   "outputs": [],
   "source": [
    "\"\"\"\n",
    "Get remaining bits = -log_2{p}\n",
    "Since each outcome is equally likely, p = 1 / (# of outcomes)\n",
    "Thus, bits = -log_2{p} = log_2{# of outcomes}\n",
    "\n",
    "Parameters:\n",
    "    potential_sols - list of remaining solutions\n",
    "    \n",
    "Returns:\n",
    "    bits, probability\n",
    "\"\"\"\n",
    "\n",
    "import math\n",
    "\n",
    "def get_bits(potential_sols):\n",
    "    if len(potential_sols) == 0:\n",
    "        return 0.0, 0.0\n",
    "    return math.log(len(potential_sols), 2), 1 / len(potential_sols)"
   ]
  },
  {
   "cell_type": "code",
   "execution_count": 50,
   "id": "71819978",
   "metadata": {},
   "outputs": [
    {
     "name": "stdout",
     "output_type": "stream",
     "text": [
      "['140/5=28', '68-28=40', '540/9=60', '450/9=50', '42-22=20', '480/6=80', '91-50=41', '95-55=40', '4*5/2=10', '65-20=45', '640/8=80', '58-10=48', '62-22=40', '6*8-8=40', '68-20=48', '540/6=90', '52-10=42', '5*9-5=40', '42-20=22', '490/5=98', '66-26=40', '91-51=40', '1*8*5=40', '45-20=25', '92-52=40', '45-25=20', '96-56=40', '1*5*8=40', '9*5-5=40', '5*4/2=10', '48-20=28', '99-50=49', '58-18=40', '4/1*5=20', '5*8*1=40', '95-50=45', '49-20=29', '99-59=40', '460/5=92', '4*5/1=20', '62-20=42', '5*4/1=20', '46-20=26', '69-20=49', '8*5*1=40', '48-28=20', '5*8/1=40', '98-50=48', '5*4*1=20', '56-16=40', '49-29=20', '4/2*5=10', '69-29=40', '59-19=40', '51-11=40', '41-20=21', '61-21=40', '41-21=20', '61-20=41', '410/5=82', '8*5/1=40', '480/8=60', '1*4*5=20', '210/5=42', '98-58=40', '5/1*8=40', '8*6-8=40', '52-12=40', '55-15=40', '92-50=42', '480/5=96', '59-10=49', '56-10=46', '4*5*1=20', '46-26=20', '55-10=45', '51-10=41', '66-20=46', '8*1*5=40', '8/4*5=10', '8/1*5=40', '65-25=40', '5*1*8=40', '96-50=46', '4*1*5=20', '450/5=90']\n",
      "(6.426264754702098, 0.011627906976744186)\n"
     ]
    }
   ],
   "source": [
    "# Test cell\n",
    "# 0 for black, 1 for purple, 2 for green\n",
    "\n",
    "remaining_eqs = valid_eqs\n",
    "checking_eq = \"30+44=74\"\n",
    "states = [0, 1, 0, 1, 0, 2, 0, 0]\n",
    "# states = [2] * 8\n",
    "\n",
    "remain = get_remaining_solutions(remaining_eqs, checking_eq, states)\n",
    "print(remain)\n",
    "\n",
    "bits = get_bits(remain)\n",
    "print(bits)"
   ]
  },
  {
   "cell_type": "markdown",
   "id": "c71c451e",
   "metadata": {},
   "source": [
    "perms = get_permutations('012', 8, '')\n",
    "list_perms = []\n",
    "for st in perms:\n",
    "    new_item = []\n",
    "    for i in range(0, len(st)):\n",
    "        new_item.append(int(st[i]))\n",
    "    list_perms.append(new_item)\n",
    "# print(list_perms)        \n",
    "\n",
    "info_bits = []\n",
    "print_num = 0\n",
    "\n",
    "for eq in valid_eqs:\n",
    "    print(print_num, end = \"\\r\")\n",
    "    print_num += 1\n",
    "    running_scenarios = 0\n",
    "    weights = []\n",
    "    for perm in list_perms:\n",
    "        remain = get_remaining_solutions(valid_eqs, eq, perm)\n",
    "        bits, prob = get_bits(remain)\n",
    "        running_scenarios += len(remain)\n",
    "        weights.append((len(remain), bits))\n",
    "\n",
    "    running_bits_remaining = 0\n",
    "    for w, b in weights:\n",
    "        running_bits_remaining += w * b\n",
    "        \n",
    "    info_bits.append(math.log(len(valid_eqs), 2) - float(running_bits_remaining / running_scenarios))\n",
    "    \n",
    "print(info_bits[:50])"
   ]
  },
  {
   "cell_type": "markdown",
   "id": "286ff623",
   "metadata": {},
   "source": [
    "perms = get_permutations('012', 8, '')\n",
    "list_perms = []\n",
    "for st in perms:\n",
    "    new_item = []\n",
    "    for i in range(0, len(st)):\n",
    "        new_item.append(int(st[i]))\n",
    "    list_perms.append(new_item)\n",
    "    \n",
    "print(list_perms)"
   ]
  },
  {
   "cell_type": "code",
   "execution_count": 56,
   "id": "7bb5d407",
   "metadata": {},
   "outputs": [],
   "source": [
    "def get_info_bits(remaining_eqs, eq):\n",
    "    \n",
    "    perms = get_permutations('012', 8, '')\n",
    "    list_perms = []\n",
    "    for st in perms:\n",
    "        new_item = []\n",
    "        for i in range(0, len(st)):\n",
    "            new_item.append(int(st[i]))\n",
    "        list_perms.append(new_item)\n",
    "    \n",
    "    running_scenarios = 0\n",
    "    weights = []\n",
    "    for perm in list_perms:\n",
    "        remain = get_remaining_solutions(remaining_eqs, eq, perm)\n",
    "        bits, prob = get_bits(remain)\n",
    "        running_scenarios += len(remain)\n",
    "        weights.append((len(remain), bits))\n",
    "\n",
    "    running_bits_remaining = 0\n",
    "    for w, b in weights:\n",
    "        running_bits_remaining += w * b\n",
    "       \n",
    "    print(running_bits_remaining)\n",
    "    print(running_scenarios)\n",
    "    \n",
    "    return (eq, math.log(len(valid_eqs), 2) - float(running_bits_remaining / running_scenarios))"
   ]
  },
  {
   "cell_type": "code",
   "execution_count": 62,
   "id": "c00d7d35",
   "metadata": {},
   "outputs": [],
   "source": [
    "### Helper method\n",
    "### For guess, generate list of 8 colors representing the states based on true_answer.\n",
    "\n",
    "def generate_states(guess, true_answer):\n",
    "\n",
    "    states = [0] * 8\n",
    "    not_green = []\n",
    "    \n",
    "    for i in range(8):\n",
    "        if guess[i] == true_answer[i]:\n",
    "            states[i] = GREEN\n",
    "        else:\n",
    "            not_green.append(i)\n",
    "    \n",
    "    #guess_counts = dict()\n",
    "    ans_counts = dict()\n",
    "    \n",
    "    # Get counts in answer for purple/black overlaps.\n",
    "    for j in not_green:\n",
    "\n",
    "        #guess_counts[j] = guess_counts.get(j, 0) + 1\n",
    "        char = true_answer[j]\n",
    "        ans_counts[char] = ans_counts.get(char, 0) + 1\n",
    "        \n",
    "    # Assign sequentially for non-green indices.\n",
    "    for k in not_green:\n",
    "        \n",
    "        char = guess[k]\n",
    "        if ans_counts.get(char, 0) > 0:\n",
    "            states[k] = PURPLE\n",
    "            ans_counts[char] = ans_counts.get(char, 0) - 1\n",
    "        else:\n",
    "            states[k] = BLACK\n",
    "    \n",
    "    return states\n",
    "        "
   ]
  },
  {
   "cell_type": "code",
   "execution_count": 66,
   "id": "ce42c711",
   "metadata": {},
   "outputs": [
    {
     "data": {
      "text/plain": [
       "[1, 1, 0, 0, 0, 2, 0, 0]"
      ]
     },
     "execution_count": 66,
     "metadata": {},
     "output_type": "execute_result"
    }
   ],
   "source": [
    "generate_states('33+33=66', '88-55=33')"
   ]
  },
  {
   "cell_type": "code",
   "execution_count": 77,
   "id": "f596764f",
   "metadata": {},
   "outputs": [
    {
     "name": "stdout",
     "output_type": "stream",
     "text": [
      "{'11000200': 1}\n",
      "1\n"
     ]
    }
   ],
   "source": [
    "blamka = dict()\n",
    "blamka[\"\".join([str(x) for x in generate_states('33+33=66', '88-55=33')])] = 1\n",
    "print(blamka)\n",
    "\n",
    "print(list(blamka.values())[0])"
   ]
  },
  {
   "cell_type": "code",
   "execution_count": 78,
   "id": "5b0ab62a",
   "metadata": {},
   "outputs": [],
   "source": [
    "def get_info_bits(remaining_eqs, eq):\n",
    "    \n",
    "    # If poss were the answer, what would the UI show?\n",
    "    # Partition remaining_eqs and get counts for each configuration.\n",
    "    dist = dict()\n",
    "    for poss in remaining_eqs:\n",
    "        states = generate_states(eq, poss)\n",
    "        hashed_key = \"\".join([str(x) for x in states])\n",
    "        dist[hashed_key] = dist.get(hashed_key, 0) + 1\n",
    "    \n",
    "    # Iterate the configurations and weight the info (entropy).\n",
    "    weighted_bits_remaining = 0\n",
    "    for count in list(dist.values()):\n",
    "        weighted_bits_remaining += float(count) / len(remaining_eqs) * math.log(count, 2)\n",
    "    \n",
    "    return (eq, math.log(len(remaining_eqs), 2) - weighted_bits_remaining)"
   ]
  },
  {
   "cell_type": "code",
   "execution_count": 52,
   "id": "0431a85a",
   "metadata": {},
   "outputs": [
    {
     "data": {
      "text/plain": [
       "14.090691366860767"
      ]
     },
     "execution_count": 52,
     "metadata": {},
     "output_type": "execute_result"
    }
   ],
   "source": [
    "math.log(len(valid_eqs), 2)"
   ]
  },
  {
   "cell_type": "code",
   "execution_count": 79,
   "id": "7fc2211f",
   "metadata": {
    "scrolled": true
   },
   "outputs": [
    {
     "data": {
      "text/plain": [
       "('30+40=70', 7.183895523875603)"
      ]
     },
     "execution_count": 79,
     "metadata": {},
     "output_type": "execute_result"
    }
   ],
   "source": [
    "get_info_bits(valid_eqs, '30+40=70')"
   ]
  },
  {
   "cell_type": "code",
   "execution_count": 80,
   "id": "59cd62e7",
   "metadata": {
    "scrolled": true
   },
   "outputs": [
    {
     "data": {
      "text/plain": [
       "('2*3+4=10', 8.81193328009121)"
      ]
     },
     "execution_count": 80,
     "metadata": {},
     "output_type": "execute_result"
    }
   ],
   "source": [
    "get_info_bits(valid_eqs, '2*3+4=10')"
   ]
  },
  {
   "cell_type": "code",
   "execution_count": 83,
   "id": "21cc6622",
   "metadata": {
    "scrolled": true
   },
   "outputs": [
    {
     "name": "stderr",
     "output_type": "stream",
     "text": [
      "\n",
      "  0%|                                                 | 0/17447 [00:00<?, ?it/s]\u001b[A\n",
      "  0%|                                        | 16/17447 [00:00<16:14, 17.89it/s]\u001b[A\n",
      "  0%|                                        | 32/17447 [00:01<13:03, 22.23it/s]\u001b[A\n",
      "  0%|                                        | 48/17447 [00:01<10:28, 27.68it/s]\u001b[A\n",
      "  0%|▏                                       | 64/17447 [00:02<09:15, 31.27it/s]\u001b[A\n",
      "  0%|▏                                       | 80/17447 [00:02<08:29, 34.12it/s]\u001b[A\n",
      "  1%|▏                                       | 96/17447 [00:03<07:58, 36.28it/s]\u001b[A\n",
      "  1%|▎                                      | 112/17447 [00:03<07:42, 37.49it/s]\u001b[A\n",
      "  1%|▎                                      | 128/17447 [00:03<07:31, 38.34it/s]\u001b[A\n",
      "  1%|▎                                      | 144/17447 [00:04<07:33, 38.19it/s]\u001b[A\n",
      "  1%|▎                                      | 160/17447 [00:04<07:24, 38.91it/s]\u001b[A\n",
      "  1%|▍                                      | 176/17447 [00:05<07:24, 38.89it/s]\u001b[A\n",
      "  1%|▍                                      | 192/17447 [00:05<07:16, 39.55it/s]\u001b[A\n",
      "  1%|▍                                      | 208/17447 [00:05<07:15, 39.56it/s]\u001b[A\n",
      "  1%|▌                                      | 224/17447 [00:06<07:14, 39.66it/s]\u001b[A\n",
      "  1%|▌                                      | 240/17447 [00:06<07:27, 38.44it/s]\u001b[A\n",
      "  1%|▌                                      | 256/17447 [00:07<07:23, 38.74it/s]\u001b[A\n",
      "  2%|▌                                      | 272/17447 [00:07<07:24, 38.64it/s]\u001b[A\n",
      "  2%|▋                                      | 288/17447 [00:07<07:18, 39.10it/s]\u001b[A\n",
      "  2%|▋                                      | 304/17447 [00:08<07:20, 38.90it/s]\u001b[A\n",
      "  2%|▋                                      | 320/17447 [00:08<07:38, 37.36it/s]\u001b[A\n",
      "  2%|▊                                      | 336/17447 [00:09<07:38, 37.34it/s]\u001b[A\n",
      "  2%|▊                                      | 352/17447 [00:09<07:27, 38.19it/s]\u001b[A\n",
      "  2%|▊                                      | 368/17447 [00:10<07:23, 38.48it/s]\u001b[A\n",
      "  2%|▊                                      | 384/17447 [00:10<07:31, 37.79it/s]\u001b[A\n",
      "  2%|▉                                      | 400/17447 [00:10<07:37, 37.25it/s]\u001b[A\n",
      "  2%|▉                                      | 416/17447 [00:11<07:25, 38.20it/s]\u001b[A\n",
      "  2%|▉                                      | 432/17447 [00:11<07:22, 38.43it/s]\u001b[A\n",
      "  3%|█                                      | 448/17447 [00:12<07:31, 37.68it/s]\u001b[A\n",
      "  3%|█                                      | 464/17447 [00:12<07:41, 36.76it/s]\u001b[A\n",
      "  3%|█                                      | 480/17447 [00:13<07:32, 37.51it/s]\u001b[A\n",
      "  3%|█                                      | 496/17447 [00:13<07:33, 37.34it/s]\u001b[A\n",
      "  3%|█▏                                     | 512/17447 [00:13<07:42, 36.58it/s]\u001b[A\n",
      "  3%|█▏                                     | 528/17447 [00:14<07:54, 35.67it/s]\u001b[A\n",
      "  3%|█▏                                     | 544/17447 [00:14<07:42, 36.52it/s]\u001b[A\n",
      "  3%|█▎                                     | 560/17447 [00:15<07:43, 36.47it/s]\u001b[A\n",
      "  3%|█▎                                     | 576/17447 [00:15<07:40, 36.66it/s]\u001b[A\n",
      "  3%|█▎                                     | 592/17447 [00:16<07:48, 35.95it/s]\u001b[A\n",
      "  3%|█▎                                     | 608/17447 [00:16<07:52, 35.64it/s]\u001b[A\n",
      "  4%|█▍                                     | 624/17447 [00:17<07:39, 36.58it/s]\u001b[A\n",
      "  4%|█▍                                     | 640/17447 [00:17<07:39, 36.56it/s]\u001b[A\n",
      "  4%|█▍                                     | 656/17447 [00:17<07:49, 35.74it/s]\u001b[A\n",
      "  4%|█▌                                     | 672/17447 [00:18<07:39, 36.54it/s]\u001b[A\n",
      "  4%|█▌                                     | 688/17447 [00:18<07:37, 36.67it/s]\u001b[A\n",
      "  4%|█▌                                     | 704/17447 [00:19<07:42, 36.17it/s]\u001b[A\n",
      "  4%|█▌                                     | 720/17447 [00:19<07:39, 36.42it/s]\u001b[A\n",
      "  4%|█▋                                     | 736/17447 [00:20<07:48, 35.70it/s]\u001b[A\n",
      "  4%|█▋                                     | 752/17447 [00:20<07:39, 36.35it/s]\u001b[A\n",
      "  4%|█▋                                     | 768/17447 [00:21<07:53, 35.21it/s]\u001b[A\n",
      "  4%|█▊                                     | 784/17447 [00:21<07:51, 35.36it/s]\u001b[A\n",
      "  5%|█▊                                     | 800/17447 [00:22<07:58, 34.80it/s]\u001b[A\n",
      "  5%|█▊                                     | 816/17447 [00:22<07:59, 34.69it/s]\u001b[A\n",
      "  5%|█▊                                     | 832/17447 [00:22<08:01, 34.50it/s]\u001b[A\n",
      "  5%|█▉                                     | 848/17447 [00:23<07:57, 34.75it/s]\u001b[A\n",
      "  5%|█▉                                     | 864/17447 [00:23<08:00, 34.54it/s]\u001b[A\n",
      "  5%|█▉                                     | 880/17447 [00:24<07:52, 35.03it/s]\u001b[A\n",
      "  5%|██                                     | 896/17447 [00:24<07:47, 35.38it/s]\u001b[A\n",
      "  5%|██                                     | 912/17447 [00:25<07:47, 35.33it/s]\u001b[A\n",
      "  5%|██                                     | 928/17447 [00:25<07:33, 36.42it/s]\u001b[A\n",
      "  5%|██                                     | 944/17447 [00:26<07:20, 37.47it/s]\u001b[A\n",
      "  6%|██▏                                    | 960/17447 [00:26<07:15, 37.83it/s]\u001b[A\n",
      "  6%|██▏                                    | 976/17447 [00:26<07:26, 36.85it/s]\u001b[A\n",
      "  6%|██▏                                    | 992/17447 [00:27<07:14, 37.85it/s]\u001b[A\n",
      "  6%|██▏                                   | 1008/17447 [00:27<07:03, 38.78it/s]\u001b[A\n",
      "  6%|██▏                                   | 1024/17447 [00:28<07:15, 37.71it/s]\u001b[A\n",
      "  6%|██▎                                   | 1040/17447 [00:28<07:06, 38.43it/s]\u001b[A\n",
      "  6%|██▎                                   | 1056/17447 [00:28<07:03, 38.73it/s]\u001b[A\n",
      "  6%|██▎                                   | 1072/17447 [00:29<06:55, 39.43it/s]\u001b[A\n",
      "  6%|██▎                                   | 1088/17447 [00:29<06:58, 39.08it/s]\u001b[A\n",
      "  6%|██▍                                   | 1104/17447 [00:30<07:04, 38.51it/s]\u001b[A\n",
      "  6%|██▍                                   | 1120/17447 [00:30<06:53, 39.51it/s]\u001b[A\n",
      "  7%|██▍                                   | 1136/17447 [00:30<06:54, 39.39it/s]\u001b[A\n",
      "  7%|██▌                                   | 1152/17447 [00:31<06:52, 39.51it/s]\u001b[A\n",
      "  7%|██▌                                   | 1168/17447 [00:31<06:52, 39.48it/s]\u001b[A\n",
      "  7%|██▌                                   | 1184/17447 [00:32<06:54, 39.22it/s]\u001b[A\n",
      "  7%|██▌                                   | 1200/17447 [00:32<06:51, 39.50it/s]\u001b[A\n",
      "  7%|██▋                                   | 1216/17447 [00:32<06:50, 39.57it/s]\u001b[A\n",
      "  7%|██▋                                   | 1232/17447 [00:33<06:46, 39.93it/s]\u001b[A\n",
      "  7%|██▋                                   | 1248/17447 [00:33<06:55, 38.97it/s]\u001b[A\n",
      "  7%|██▊                                   | 1264/17447 [00:34<06:50, 39.39it/s]\u001b[A\n",
      "  7%|██▊                                   | 1280/17447 [00:34<06:51, 39.24it/s]\u001b[A\n",
      "  7%|██▊                                   | 1296/17447 [00:35<06:50, 39.37it/s]\u001b[A\n",
      "  8%|██▊                                   | 1312/17447 [00:35<06:51, 39.23it/s]\u001b[A\n",
      "  8%|██▉                                   | 1328/17447 [00:35<06:51, 39.20it/s]\u001b[A\n",
      "  8%|██▉                                   | 1344/17447 [00:36<06:54, 38.86it/s]\u001b[A\n",
      "  8%|██▉                                   | 1360/17447 [00:36<06:50, 39.19it/s]\u001b[A\n",
      "  8%|██▉                                   | 1376/17447 [00:37<06:55, 38.63it/s]\u001b[A\n",
      "  8%|███                                   | 1392/17447 [00:37<06:55, 38.68it/s]\u001b[A\n",
      "  8%|███                                   | 1408/17447 [00:37<06:52, 38.89it/s]\u001b[A\n",
      "  8%|███                                   | 1424/17447 [00:38<06:48, 39.21it/s]\u001b[A\n",
      "  8%|███▏                                  | 1440/17447 [00:38<06:52, 38.77it/s]\u001b[A\n",
      "  8%|███▏                                  | 1456/17447 [00:39<06:57, 38.29it/s]\u001b[A\n",
      "  8%|███▏                                  | 1472/17447 [00:39<06:51, 38.81it/s]\u001b[A\n",
      "  9%|███▏                                  | 1488/17447 [00:39<06:53, 38.60it/s]\u001b[A\n",
      "  9%|███▎                                  | 1504/17447 [00:40<06:50, 38.85it/s]\u001b[A\n",
      "  9%|███▎                                  | 1520/17447 [00:40<06:51, 38.71it/s]\u001b[A\n",
      "  9%|███▎                                  | 1536/17447 [00:41<06:47, 39.08it/s]\u001b[A\n"
     ]
    },
    {
     "name": "stderr",
     "output_type": "stream",
     "text": [
      "  9%|███▍                                  | 1552/17447 [00:41<06:50, 38.72it/s]\u001b[A\n",
      "  9%|███▍                                  | 1568/17447 [00:42<06:49, 38.75it/s]\u001b[A\n",
      "  9%|███▍                                  | 1584/17447 [00:42<06:47, 38.96it/s]\u001b[A\n",
      "  9%|███▍                                  | 1600/17447 [00:42<06:46, 38.97it/s]\u001b[A\n",
      "  9%|███▌                                  | 1616/17447 [00:43<06:44, 39.14it/s]\u001b[A\n",
      "  9%|███▌                                  | 1632/17447 [00:43<06:44, 39.06it/s]\u001b[A\n",
      "  9%|███▌                                  | 1648/17447 [00:44<06:42, 39.22it/s]\u001b[A\n",
      " 10%|███▌                                  | 1664/17447 [00:44<06:41, 39.34it/s]\u001b[A\n",
      " 10%|███▋                                  | 1680/17447 [00:44<06:42, 39.21it/s]\u001b[A\n",
      " 10%|███▋                                  | 1696/17447 [00:45<06:44, 38.95it/s]\u001b[A\n",
      " 10%|███▋                                  | 1712/17447 [00:45<06:45, 38.85it/s]\u001b[A\n",
      " 10%|███▊                                  | 1728/17447 [00:46<06:48, 38.50it/s]\u001b[A\n",
      " 10%|███▊                                  | 1744/17447 [00:46<06:47, 38.50it/s]\u001b[A\n",
      " 10%|███▊                                  | 1760/17447 [00:46<06:47, 38.47it/s]\u001b[A\n",
      " 10%|███▊                                  | 1776/17447 [00:47<06:46, 38.57it/s]\u001b[A\n",
      " 10%|███▉                                  | 1792/17447 [00:47<06:46, 38.51it/s]\u001b[A\n",
      " 10%|███▉                                  | 1808/17447 [00:48<06:41, 38.96it/s]\u001b[A\n",
      " 10%|███▉                                  | 1824/17447 [00:48<06:38, 39.17it/s]\u001b[A\n",
      " 11%|████                                  | 1840/17447 [00:49<06:42, 38.73it/s]\u001b[A\n",
      " 11%|████                                  | 1856/17447 [00:49<06:45, 38.42it/s]\u001b[A\n",
      " 11%|████                                  | 1872/17447 [00:49<06:41, 38.76it/s]\u001b[A\n",
      " 11%|████                                  | 1888/17447 [00:50<06:46, 38.26it/s]\u001b[A\n",
      " 11%|████▏                                 | 1904/17447 [00:50<06:47, 38.13it/s]\u001b[A\n",
      " 11%|████▏                                 | 1920/17447 [00:51<06:41, 38.68it/s]\u001b[A\n",
      " 11%|████▏                                 | 1936/17447 [00:51<06:39, 38.80it/s]\u001b[A\n",
      " 11%|████▎                                 | 1952/17447 [00:51<06:38, 38.87it/s]\u001b[A\n",
      " 11%|████▎                                 | 1968/17447 [00:52<06:43, 38.38it/s]\u001b[A\n",
      " 11%|████▎                                 | 1984/17447 [00:52<06:43, 38.28it/s]\u001b[A\n",
      " 11%|████▎                                 | 2000/17447 [00:53<06:40, 38.56it/s]\u001b[A\n",
      " 12%|████▍                                 | 2016/17447 [00:53<06:39, 38.66it/s]\u001b[A\n",
      " 12%|████▍                                 | 2032/17447 [00:54<06:36, 38.85it/s]\u001b[A\n",
      " 12%|████▍                                 | 2048/17447 [00:54<06:34, 39.07it/s]\u001b[A\n",
      " 12%|████▍                                 | 2064/17447 [00:54<06:37, 38.66it/s]\u001b[A\n",
      " 12%|████▌                                 | 2080/17447 [00:55<06:35, 38.86it/s]\u001b[A\n",
      " 12%|████▌                                 | 2096/17447 [00:55<06:35, 38.79it/s]\u001b[A\n",
      " 12%|████▌                                 | 2112/17447 [00:56<06:37, 38.54it/s]\u001b[A\n",
      " 12%|████▋                                 | 2128/17447 [00:56<06:36, 38.61it/s]\u001b[A\n",
      " 12%|████▋                                 | 2144/17447 [00:56<06:35, 38.66it/s]\u001b[A\n",
      " 12%|████▋                                 | 2160/17447 [00:57<06:33, 38.88it/s]\u001b[A\n",
      " 12%|████▋                                 | 2176/17447 [00:57<06:36, 38.53it/s]\u001b[A\n",
      " 13%|████▊                                 | 2192/17447 [00:58<06:39, 38.22it/s]\u001b[A\n",
      " 13%|████▊                                 | 2208/17447 [00:58<06:41, 37.98it/s]\u001b[A\n",
      " 13%|████▊                                 | 2224/17447 [00:59<06:37, 38.27it/s]\u001b[A\n",
      " 13%|████▉                                 | 2240/17447 [00:59<06:35, 38.40it/s]\u001b[A\n",
      " 13%|████▉                                 | 2256/17447 [00:59<06:37, 38.25it/s]\u001b[A\n",
      " 13%|████▉                                 | 2272/17447 [01:00<06:36, 38.29it/s]\u001b[A\n",
      " 13%|████▉                                 | 2288/17447 [01:00<06:36, 38.26it/s]\u001b[A\n",
      " 13%|█████                                 | 2304/17447 [01:01<06:32, 38.59it/s]\u001b[A\n",
      " 13%|█████                                 | 2320/17447 [01:01<06:35, 38.23it/s]\u001b[A\n",
      " 13%|█████                                 | 2336/17447 [01:01<06:37, 38.01it/s]\u001b[A\n",
      " 13%|█████                                 | 2352/17447 [01:02<06:36, 38.09it/s]\u001b[A\n",
      " 14%|█████▏                                | 2368/17447 [01:02<06:36, 38.02it/s]\u001b[A\n",
      " 14%|█████▏                                | 2384/17447 [01:03<06:38, 37.75it/s]\u001b[A\n",
      " 14%|█████▏                                | 2400/17447 [01:03<06:31, 38.40it/s]\u001b[A\n",
      " 14%|█████▎                                | 2416/17447 [01:04<06:35, 38.03it/s]\u001b[A\n",
      " 14%|█████▎                                | 2432/17447 [01:04<06:30, 38.43it/s]\u001b[A\n",
      " 14%|█████▎                                | 2448/17447 [01:04<06:26, 38.80it/s]\u001b[A\n",
      " 14%|█████▎                                | 2464/17447 [01:05<06:26, 38.75it/s]\u001b[A\n",
      " 14%|█████▍                                | 2480/17447 [01:05<06:26, 38.69it/s]\u001b[A\n",
      " 14%|█████▍                                | 2496/17447 [01:06<06:25, 38.77it/s]\u001b[A\n",
      " 14%|█████▍                                | 2512/17447 [01:06<06:23, 38.99it/s]\u001b[A\n",
      " 14%|█████▌                                | 2528/17447 [01:06<06:22, 39.02it/s]\u001b[A\n",
      " 15%|█████▌                                | 2544/17447 [01:07<06:23, 38.84it/s]\u001b[A\n",
      " 15%|█████▌                                | 2560/17447 [01:07<06:23, 38.81it/s]\u001b[A\n",
      " 15%|█████▌                                | 2576/17447 [01:08<06:22, 38.83it/s]\u001b[A\n",
      " 15%|█████▋                                | 2592/17447 [01:08<06:22, 38.80it/s]\u001b[A\n",
      " 15%|█████▋                                | 2608/17447 [01:08<06:18, 39.23it/s]\u001b[A\n",
      " 15%|█████▋                                | 2624/17447 [01:09<06:16, 39.36it/s]\u001b[A\n",
      " 15%|█████▋                                | 2640/17447 [01:09<06:18, 39.07it/s]\u001b[A\n",
      " 15%|█████▊                                | 2656/17447 [01:10<06:22, 38.66it/s]\u001b[A\n",
      " 15%|█████▊                                | 2672/17447 [01:10<06:23, 38.57it/s]\u001b[A\n",
      " 15%|█████▊                                | 2688/17447 [01:11<06:20, 38.77it/s]\u001b[A\n",
      " 15%|█████▉                                | 2704/17447 [01:11<06:20, 38.74it/s]\u001b[A\n",
      " 16%|█████▉                                | 2720/17447 [01:11<06:20, 38.65it/s]\u001b[A\n",
      " 16%|█████▉                                | 2736/17447 [01:12<06:19, 38.77it/s]\u001b[A\n",
      " 16%|█████▉                                | 2752/17447 [01:12<06:19, 38.72it/s]\u001b[A\n",
      " 16%|██████                                | 2768/17447 [01:13<06:21, 38.48it/s]\u001b[A\n",
      " 16%|██████                                | 2784/17447 [01:13<06:22, 38.38it/s]\u001b[A\n",
      " 16%|██████                                | 2800/17447 [01:13<06:22, 38.30it/s]\u001b[A\n",
      " 16%|██████▏                               | 2816/17447 [01:14<06:23, 38.12it/s]\u001b[A\n",
      " 16%|██████▏                               | 2832/17447 [01:14<06:24, 38.00it/s]\u001b[A\n",
      " 16%|██████▏                               | 2848/17447 [01:15<06:17, 38.64it/s]\u001b[A\n",
      " 16%|██████▏                               | 2864/17447 [01:15<06:17, 38.58it/s]\u001b[A\n",
      " 17%|██████▎                               | 2880/17447 [01:16<06:20, 38.33it/s]\u001b[A\n",
      " 17%|██████▎                               | 2896/17447 [01:16<06:16, 38.63it/s]\u001b[A\n",
      " 17%|██████▎                               | 2912/17447 [01:16<06:17, 38.51it/s]\u001b[A\n",
      " 17%|██████▍                               | 2928/17447 [01:17<06:13, 38.91it/s]\u001b[A\n",
      " 17%|██████▍                               | 2944/17447 [01:17<06:12, 38.92it/s]\u001b[A\n",
      " 17%|██████▍                               | 2960/17447 [01:18<06:11, 39.00it/s]\u001b[A\n",
      " 17%|██████▍                               | 2976/17447 [01:18<06:11, 38.97it/s]\u001b[A\n",
      " 17%|██████▌                               | 2992/17447 [01:18<06:12, 38.79it/s]\u001b[A\n",
      " 17%|██████▌                               | 3008/17447 [01:19<06:13, 38.64it/s]\u001b[A\n",
      " 17%|██████▌                               | 3024/17447 [01:19<06:11, 38.81it/s]\u001b[A\n",
      " 17%|██████▌                               | 3040/17447 [01:20<06:15, 38.41it/s]\u001b[A\n",
      " 18%|██████▋                               | 3056/17447 [01:20<06:10, 38.83it/s]\u001b[A\n",
      " 18%|██████▋                               | 3072/17447 [01:20<06:07, 39.12it/s]\u001b[A\n",
      " 18%|██████▋                               | 3088/17447 [01:21<06:03, 39.47it/s]\u001b[A\n"
     ]
    },
    {
     "name": "stderr",
     "output_type": "stream",
     "text": [
      " 18%|██████▊                               | 3104/17447 [01:21<06:18, 37.89it/s]\u001b[A\n",
      " 18%|██████▊                               | 3120/17447 [01:22<06:16, 38.02it/s]\u001b[A\n",
      " 18%|██████▊                               | 3136/17447 [01:22<06:13, 38.36it/s]\u001b[A\n",
      " 18%|██████▊                               | 3152/17447 [01:23<06:10, 38.61it/s]\u001b[A\n",
      " 18%|██████▉                               | 3168/17447 [01:23<06:08, 38.73it/s]\u001b[A\n",
      " 18%|██████▉                               | 3184/17447 [01:23<06:04, 39.08it/s]\u001b[A\n",
      " 18%|██████▉                               | 3200/17447 [01:24<06:02, 39.32it/s]\u001b[A\n",
      " 18%|███████                               | 3216/17447 [01:24<06:05, 38.89it/s]\u001b[A\n",
      " 19%|███████                               | 3232/17447 [01:25<05:59, 39.51it/s]\u001b[A\n",
      " 19%|███████                               | 3248/17447 [01:25<05:59, 39.51it/s]\u001b[A\n",
      " 19%|███████                               | 3264/17447 [01:25<05:56, 39.78it/s]\u001b[A\n",
      " 19%|███████▏                              | 3280/17447 [01:26<05:52, 40.15it/s]\u001b[A\n",
      " 19%|███████▏                              | 3296/17447 [01:26<05:57, 39.58it/s]\u001b[A\n",
      " 19%|███████▏                              | 3312/17447 [01:27<05:59, 39.30it/s]\u001b[A\n",
      " 19%|███████▏                              | 3328/17447 [01:27<05:56, 39.58it/s]\u001b[A\n",
      " 19%|███████▎                              | 3344/17447 [01:27<05:57, 39.47it/s]\u001b[A\n",
      " 19%|███████▎                              | 3360/17447 [01:28<05:58, 39.31it/s]\u001b[A\n",
      " 19%|███████▎                              | 3376/17447 [01:28<06:03, 38.75it/s]\u001b[A\n",
      " 19%|███████▍                              | 3392/17447 [01:29<06:03, 38.70it/s]\u001b[A\n",
      " 20%|███████▍                              | 3408/17447 [01:29<06:05, 38.42it/s]\u001b[A\n",
      " 20%|███████▍                              | 3424/17447 [01:30<06:08, 38.04it/s]\u001b[A\n",
      " 20%|███████▍                              | 3440/17447 [01:30<06:05, 38.27it/s]\u001b[A\n",
      " 20%|███████▌                              | 3456/17447 [01:30<06:12, 37.59it/s]\u001b[A\n",
      " 20%|███████▌                              | 3472/17447 [01:31<06:08, 37.96it/s]\u001b[A\n",
      " 20%|███████▌                              | 3488/17447 [01:31<06:04, 38.27it/s]\u001b[A\n",
      " 20%|███████▋                              | 3504/17447 [01:32<06:04, 38.29it/s]\u001b[A\n",
      " 20%|███████▋                              | 3520/17447 [01:32<06:05, 38.13it/s]\u001b[A\n",
      " 20%|███████▋                              | 3536/17447 [01:32<06:00, 38.55it/s]\u001b[A\n",
      " 20%|███████▋                              | 3552/17447 [01:33<05:58, 38.81it/s]\u001b[A\n",
      " 20%|███████▊                              | 3568/17447 [01:33<06:06, 37.89it/s]\u001b[A\n",
      " 21%|███████▊                              | 3584/17447 [01:34<06:01, 38.31it/s]\u001b[A\n",
      " 21%|███████▊                              | 3600/17447 [01:34<05:59, 38.47it/s]\u001b[A\n",
      " 21%|███████▉                              | 3616/17447 [01:35<05:57, 38.70it/s]\u001b[A\n",
      " 21%|███████▉                              | 3632/17447 [01:35<05:56, 38.71it/s]\u001b[A\n",
      " 21%|███████▉                              | 3648/17447 [01:35<05:54, 38.95it/s]\u001b[A\n",
      " 21%|███████▉                              | 3664/17447 [01:36<05:53, 38.96it/s]\u001b[A\n",
      " 21%|████████                              | 3680/17447 [01:36<05:53, 38.94it/s]\u001b[A\n",
      " 21%|████████                              | 3696/17447 [01:37<05:52, 39.03it/s]\u001b[A\n",
      " 21%|████████                              | 3712/17447 [01:37<05:53, 38.89it/s]\u001b[A\n",
      " 21%|████████                              | 3728/17447 [01:37<05:49, 39.23it/s]\u001b[A\n",
      " 21%|████████▏                             | 3744/17447 [01:38<05:51, 38.94it/s]\u001b[A\n",
      " 22%|████████▏                             | 3760/17447 [01:38<05:52, 38.80it/s]\u001b[A\n",
      " 22%|████████▏                             | 3776/17447 [01:39<05:49, 39.13it/s]\u001b[A\n",
      " 22%|████████▎                             | 3792/17447 [01:39<05:47, 39.27it/s]\u001b[A\n",
      " 22%|████████▎                             | 3808/17447 [01:39<05:51, 38.82it/s]\u001b[A\n",
      " 22%|████████▎                             | 3824/17447 [01:40<05:53, 38.51it/s]\u001b[A\n",
      " 22%|████████▎                             | 3840/17447 [01:40<05:51, 38.69it/s]\u001b[A\n",
      " 22%|████████▍                             | 3856/17447 [01:41<05:52, 38.53it/s]\u001b[A\n",
      " 22%|████████▍                             | 3872/17447 [01:41<05:51, 38.67it/s]\u001b[A\n",
      " 22%|████████▍                             | 3888/17447 [01:42<05:55, 38.16it/s]\u001b[A\n",
      " 22%|████████▌                             | 3904/17447 [01:42<05:52, 38.37it/s]\u001b[A\n",
      " 22%|████████▌                             | 3920/17447 [01:42<05:52, 38.36it/s]\u001b[A\n",
      " 23%|████████▌                             | 3936/17447 [01:43<05:51, 38.40it/s]\u001b[A\n",
      " 23%|████████▌                             | 3952/17447 [01:43<05:49, 38.64it/s]\u001b[A\n",
      " 23%|████████▋                             | 3968/17447 [01:44<05:50, 38.48it/s]\u001b[A\n",
      " 23%|████████▋                             | 3984/17447 [01:44<05:52, 38.15it/s]\u001b[A\n",
      " 23%|████████▋                             | 4000/17447 [01:44<05:49, 38.52it/s]\u001b[A\n",
      " 23%|████████▋                             | 4016/17447 [01:45<05:48, 38.49it/s]\u001b[A\n",
      " 23%|████████▊                             | 4032/17447 [01:45<05:44, 38.97it/s]\u001b[A\n",
      " 23%|████████▊                             | 4048/17447 [01:46<05:40, 39.32it/s]\u001b[A\n",
      " 23%|████████▊                             | 4064/17447 [01:46<05:41, 39.17it/s]\u001b[A\n",
      " 23%|████████▉                             | 4080/17447 [01:47<05:55, 37.58it/s]\u001b[A\n",
      " 23%|████████▉                             | 4096/17447 [01:47<06:05, 36.56it/s]\u001b[A\n",
      " 24%|████████▉                             | 4112/17447 [01:47<06:16, 35.40it/s]\u001b[A\n",
      " 24%|████████▉                             | 4128/17447 [01:48<06:18, 35.23it/s]\u001b[A\n",
      " 24%|█████████                             | 4144/17447 [01:48<06:09, 36.01it/s]\u001b[A\n",
      " 24%|█████████                             | 4160/17447 [01:49<06:07, 36.17it/s]\u001b[A\n",
      " 24%|█████████                             | 4176/17447 [01:49<05:57, 37.10it/s]\u001b[A\n",
      " 24%|█████████▏                            | 4192/17447 [01:50<05:52, 37.57it/s]\u001b[A\n",
      " 24%|█████████▏                            | 4208/17447 [01:50<05:49, 37.87it/s]\u001b[A\n",
      " 24%|█████████▏                            | 4224/17447 [01:50<05:48, 37.97it/s]\u001b[A\n",
      " 24%|█████████▏                            | 4240/17447 [01:51<05:44, 38.33it/s]\u001b[A\n",
      " 24%|█████████▎                            | 4256/17447 [01:51<05:45, 38.22it/s]\u001b[A\n",
      " 24%|█████████▎                            | 4272/17447 [01:52<05:42, 38.52it/s]\u001b[A\n",
      " 25%|█████████▎                            | 4288/17447 [01:52<05:40, 38.67it/s]\u001b[A\n",
      " 25%|█████████▎                            | 4304/17447 [01:53<05:39, 38.76it/s]\u001b[A\n",
      " 25%|█████████▍                            | 4320/17447 [01:53<05:38, 38.77it/s]\u001b[A\n",
      " 25%|█████████▍                            | 4336/17447 [01:53<05:39, 38.63it/s]\u001b[A\n",
      " 25%|█████████▍                            | 4352/17447 [01:54<05:36, 38.89it/s]\u001b[A\n",
      " 25%|█████████▌                            | 4368/17447 [01:54<05:36, 38.82it/s]\u001b[A\n",
      " 25%|█████████▌                            | 4384/17447 [01:55<05:31, 39.36it/s]\u001b[A\n",
      " 25%|█████████▌                            | 4400/17447 [01:55<05:31, 39.32it/s]\u001b[A\n",
      " 25%|█████████▌                            | 4416/17447 [01:55<05:29, 39.58it/s]\u001b[A\n",
      " 25%|█████████▋                            | 4432/17447 [01:56<05:31, 39.30it/s]\u001b[A\n",
      " 25%|█████████▋                            | 4448/17447 [01:56<05:28, 39.58it/s]\u001b[A\n",
      " 26%|█████████▋                            | 4464/17447 [01:57<05:25, 39.84it/s]\u001b[A\n",
      " 26%|█████████▊                            | 4480/17447 [01:57<05:26, 39.74it/s]\u001b[A\n",
      " 26%|█████████▊                            | 4496/17447 [01:57<05:29, 39.27it/s]\u001b[A\n",
      " 26%|█████████▊                            | 4512/17447 [01:58<05:30, 39.09it/s]\u001b[A\n",
      " 26%|█████████▊                            | 4528/17447 [01:58<05:30, 39.05it/s]\u001b[A\n",
      " 26%|█████████▉                            | 4544/17447 [01:59<05:28, 39.31it/s]\u001b[A\n",
      " 26%|█████████▉                            | 4560/17447 [01:59<05:26, 39.45it/s]\u001b[A\n",
      " 26%|█████████▉                            | 4576/17447 [01:59<05:28, 39.20it/s]\u001b[A\n",
      " 26%|██████████                            | 4592/17447 [02:00<05:29, 38.96it/s]\u001b[A\n",
      " 26%|██████████                            | 4608/17447 [02:00<05:31, 38.72it/s]\u001b[A\n",
      " 27%|██████████                            | 4624/17447 [02:01<05:30, 38.83it/s]\u001b[A\n",
      " 27%|██████████                            | 4640/17447 [02:01<05:26, 39.25it/s]\u001b[A\n"
     ]
    },
    {
     "name": "stderr",
     "output_type": "stream",
     "text": [
      " 27%|██████████▏                           | 4656/17447 [02:01<05:26, 39.15it/s]\u001b[A\n",
      " 27%|██████████▏                           | 4672/17447 [02:02<05:21, 39.75it/s]\u001b[A\n",
      " 27%|██████████▏                           | 4688/17447 [02:02<05:22, 39.52it/s]\u001b[A\n",
      " 27%|██████████▏                           | 4704/17447 [02:03<05:18, 40.00it/s]\u001b[A\n",
      " 27%|██████████▎                           | 4720/17447 [02:03<05:20, 39.74it/s]\u001b[A\n",
      " 27%|██████████▎                           | 4736/17447 [02:03<05:18, 39.97it/s]\u001b[A\n",
      " 27%|██████████▎                           | 4752/17447 [02:04<05:19, 39.71it/s]\u001b[A\n",
      " 27%|██████████▍                           | 4768/17447 [02:04<05:16, 40.01it/s]\u001b[A\n",
      " 27%|██████████▍                           | 4784/17447 [02:05<05:18, 39.74it/s]\u001b[A\n",
      " 28%|██████████▍                           | 4800/17447 [02:05<05:21, 39.34it/s]\u001b[A\n",
      " 28%|██████████▍                           | 4816/17447 [02:06<05:22, 39.16it/s]\u001b[A\n",
      " 28%|██████████▌                           | 4832/17447 [02:06<05:22, 39.14it/s]\u001b[A\n",
      " 28%|██████████▌                           | 4848/17447 [02:06<05:22, 39.05it/s]\u001b[A\n",
      " 28%|██████████▌                           | 4864/17447 [02:07<05:21, 39.19it/s]\u001b[A\n",
      " 28%|██████████▋                           | 4880/17447 [02:07<05:20, 39.16it/s]\u001b[A\n",
      " 28%|██████████▋                           | 4896/17447 [02:08<05:17, 39.55it/s]\u001b[A\n",
      " 28%|██████████▋                           | 4912/17447 [02:08<05:15, 39.75it/s]\u001b[A\n",
      " 28%|██████████▋                           | 4928/17447 [02:08<05:12, 40.00it/s]\u001b[A\n",
      " 28%|██████████▊                           | 4944/17447 [02:09<05:15, 39.60it/s]\u001b[A\n",
      " 28%|██████████▊                           | 4960/17447 [02:09<05:11, 40.03it/s]\u001b[A\n",
      " 29%|██████████▊                           | 4976/17447 [02:10<05:14, 39.67it/s]\u001b[A\n",
      " 29%|██████████▊                           | 4992/17447 [02:10<05:12, 39.87it/s]\u001b[A\n",
      " 29%|██████████▉                           | 5008/17447 [02:10<05:09, 40.19it/s]\u001b[A\n",
      " 29%|██████████▉                           | 5024/17447 [02:11<05:07, 40.44it/s]\u001b[A\n",
      " 29%|██████████▉                           | 5040/17447 [02:11<05:07, 40.40it/s]\u001b[A\n",
      " 29%|███████████                           | 5056/17447 [02:12<05:09, 40.06it/s]\u001b[A\n",
      " 29%|███████████                           | 5072/17447 [02:12<05:09, 39.93it/s]\u001b[A\n",
      " 29%|███████████                           | 5088/17447 [02:12<05:08, 40.12it/s]\u001b[A\n",
      " 29%|███████████                           | 5104/17447 [02:13<05:08, 40.01it/s]\u001b[A\n",
      " 29%|███████████▏                          | 5120/17447 [02:13<05:10, 39.64it/s]\u001b[A\n",
      " 29%|███████████▏                          | 5136/17447 [02:14<05:08, 39.94it/s]\u001b[A\n",
      " 30%|███████████▏                          | 5152/17447 [02:14<05:04, 40.33it/s]\u001b[A\n",
      " 30%|███████████▎                          | 5168/17447 [02:14<05:02, 40.64it/s]\u001b[A\n",
      " 30%|███████████▎                          | 5184/17447 [02:15<05:01, 40.63it/s]\u001b[A\n",
      " 30%|███████████▎                          | 5200/17447 [02:15<05:03, 40.41it/s]\u001b[A\n",
      " 30%|███████████▎                          | 5216/17447 [02:15<05:04, 40.22it/s]\u001b[A\n",
      " 30%|███████████▍                          | 5232/17447 [02:16<05:05, 39.97it/s]\u001b[A\n",
      " 30%|███████████▍                          | 5248/17447 [02:16<05:02, 40.29it/s]\u001b[A\n",
      " 30%|███████████▍                          | 5264/17447 [02:17<05:06, 39.73it/s]\u001b[A\n",
      " 30%|███████████▍                          | 5280/17447 [02:17<05:01, 40.36it/s]\u001b[A\n",
      " 30%|███████████▌                          | 5296/17447 [02:18<05:03, 40.03it/s]\u001b[A\n",
      " 30%|███████████▌                          | 5312/17447 [02:18<05:03, 39.97it/s]\u001b[A\n",
      " 31%|███████████▌                          | 5328/17447 [02:18<05:08, 39.33it/s]\u001b[A\n",
      " 31%|███████████▋                          | 5344/17447 [02:19<05:08, 39.25it/s]\u001b[A\n",
      " 31%|███████████▋                          | 5360/17447 [02:19<05:06, 39.49it/s]\u001b[A\n",
      " 31%|███████████▋                          | 5376/17447 [02:20<05:01, 40.03it/s]\u001b[A\n",
      " 31%|███████████▋                          | 5392/17447 [02:20<05:04, 39.63it/s]\u001b[A\n",
      " 31%|███████████▊                          | 5408/17447 [02:20<05:04, 39.58it/s]\u001b[A\n",
      " 31%|███████████▊                          | 5424/17447 [02:21<05:04, 39.54it/s]\u001b[A\n",
      " 31%|███████████▊                          | 5440/17447 [02:21<05:04, 39.48it/s]\u001b[A\n",
      " 31%|███████████▉                          | 5456/17447 [02:22<05:02, 39.69it/s]\u001b[A\n",
      " 31%|███████████▉                          | 5472/17447 [02:22<05:05, 39.25it/s]\u001b[A\n",
      " 31%|███████████▉                          | 5488/17447 [02:22<05:04, 39.31it/s]\u001b[A\n",
      " 32%|███████████▉                          | 5504/17447 [02:23<05:00, 39.80it/s]\u001b[A\n",
      " 32%|████████████                          | 5520/17447 [02:23<05:00, 39.72it/s]\u001b[A\n",
      " 32%|████████████                          | 5536/17447 [02:24<04:59, 39.74it/s]\u001b[A\n",
      " 32%|████████████                          | 5552/17447 [02:24<05:01, 39.48it/s]\u001b[A\n",
      " 32%|████████████▏                         | 5568/17447 [02:24<05:02, 39.25it/s]\u001b[A\n",
      " 32%|████████████▏                         | 5584/17447 [02:25<04:58, 39.73it/s]\u001b[A\n",
      " 32%|████████████▏                         | 5600/17447 [02:25<04:58, 39.73it/s]\u001b[A\n",
      " 32%|████████████▏                         | 5616/17447 [02:26<05:05, 38.69it/s]\u001b[A\n",
      " 32%|████████████▎                         | 5632/17447 [02:26<05:10, 38.09it/s]\u001b[A\n",
      " 32%|████████████▎                         | 5648/17447 [02:26<05:13, 37.62it/s]\u001b[A\n",
      " 32%|████████████▎                         | 5664/17447 [02:27<05:24, 36.36it/s]\u001b[A\n",
      " 33%|████████████▎                         | 5680/17447 [02:27<05:27, 35.97it/s]\u001b[A\n",
      " 33%|████████████▍                         | 5696/17447 [02:28<05:39, 34.66it/s]\u001b[A\n",
      " 33%|████████████▍                         | 5712/17447 [02:28<05:34, 35.10it/s]\u001b[A\n",
      " 33%|████████████▍                         | 5728/17447 [02:29<05:34, 35.06it/s]\u001b[A\n",
      " 33%|████████████▌                         | 5744/17447 [02:29<05:27, 35.70it/s]\u001b[A\n",
      " 33%|████████████▌                         | 5760/17447 [02:30<05:34, 34.97it/s]\u001b[A\n",
      " 33%|████████████▌                         | 5776/17447 [02:30<05:31, 35.19it/s]\u001b[A\n",
      " 33%|████████████▌                         | 5792/17447 [02:31<05:30, 35.31it/s]\u001b[A\n",
      " 33%|████████████▋                         | 5808/17447 [02:31<05:28, 35.48it/s]\u001b[A\n",
      " 33%|████████████▋                         | 5824/17447 [02:32<05:27, 35.48it/s]\u001b[A\n",
      " 33%|████████████▋                         | 5840/17447 [02:32<05:18, 36.45it/s]\u001b[A\n",
      " 34%|████████████▊                         | 5856/17447 [02:32<05:25, 35.64it/s]\u001b[A\n",
      " 34%|████████████▊                         | 5872/17447 [02:33<05:15, 36.68it/s]\u001b[A\n",
      " 34%|████████████▊                         | 5888/17447 [02:33<05:19, 36.17it/s]\u001b[A\n",
      " 34%|████████████▊                         | 5904/17447 [02:34<05:21, 35.94it/s]\u001b[A\n",
      " 34%|████████████▉                         | 5920/17447 [02:34<05:11, 36.99it/s]\u001b[A\n",
      " 34%|████████████▉                         | 5936/17447 [02:35<05:04, 37.75it/s]\u001b[A\n",
      " 34%|████████████▉                         | 5952/17447 [02:35<04:58, 38.53it/s]\u001b[A\n",
      " 34%|████████████▉                         | 5968/17447 [02:35<04:53, 39.09it/s]\u001b[A\n",
      " 34%|█████████████                         | 5984/17447 [02:36<04:49, 39.59it/s]\u001b[A\n",
      " 34%|█████████████                         | 6000/17447 [02:36<04:47, 39.86it/s]\u001b[A\n",
      " 34%|█████████████                         | 6016/17447 [02:37<04:49, 39.53it/s]\u001b[A\n",
      " 35%|█████████████▏                        | 6032/17447 [02:37<04:46, 39.79it/s]\u001b[A\n",
      " 35%|█████████████▏                        | 6048/17447 [02:37<04:45, 39.90it/s]\u001b[A\n",
      " 35%|█████████████▏                        | 6064/17447 [02:38<04:45, 39.88it/s]\u001b[A\n",
      " 35%|█████████████▏                        | 6080/17447 [02:38<04:41, 40.33it/s]\u001b[A\n",
      " 35%|█████████████▎                        | 6096/17447 [02:39<04:41, 40.36it/s]\u001b[A\n",
      " 35%|█████████████▎                        | 6112/17447 [02:39<04:41, 40.22it/s]\u001b[A\n",
      " 35%|█████████████▎                        | 6128/17447 [02:39<04:42, 40.05it/s]\u001b[A\n",
      " 35%|█████████████▍                        | 6144/17447 [02:40<04:42, 40.06it/s]\u001b[A\n",
      " 35%|█████████████▍                        | 6160/17447 [02:40<04:39, 40.33it/s]\u001b[A\n",
      " 35%|█████████████▍                        | 6176/17447 [02:41<04:40, 40.22it/s]\u001b[A\n",
      " 35%|█████████████▍                        | 6192/17447 [02:41<04:38, 40.37it/s]\u001b[A\n"
     ]
    },
    {
     "name": "stderr",
     "output_type": "stream",
     "text": [
      " 36%|█████████████▌                        | 6208/17447 [02:41<04:38, 40.33it/s]\u001b[A\n",
      " 36%|█████████████▌                        | 6224/17447 [02:42<04:40, 40.08it/s]\u001b[A\n",
      " 36%|█████████████▌                        | 6240/17447 [02:42<04:36, 40.47it/s]\u001b[A\n",
      " 36%|█████████████▋                        | 6256/17447 [02:42<04:33, 40.97it/s]\u001b[A\n",
      " 36%|█████████████▋                        | 6272/17447 [02:43<04:29, 41.43it/s]\u001b[A\n",
      " 36%|█████████████▋                        | 6288/17447 [02:43<04:30, 41.30it/s]\u001b[A\n",
      " 36%|█████████████▋                        | 6304/17447 [02:44<04:29, 41.32it/s]\u001b[A\n",
      " 36%|█████████████▊                        | 6320/17447 [02:44<04:28, 41.45it/s]\u001b[A\n",
      " 36%|█████████████▊                        | 6336/17447 [02:44<04:29, 41.18it/s]\u001b[A\n",
      " 36%|█████████████▊                        | 6352/17447 [02:45<04:27, 41.40it/s]\u001b[A\n",
      " 36%|█████████████▊                        | 6368/17447 [02:45<04:27, 41.45it/s]\u001b[A\n",
      " 37%|█████████████▉                        | 6384/17447 [02:46<04:28, 41.20it/s]\u001b[A\n",
      " 37%|█████████████▉                        | 6400/17447 [02:46<04:29, 40.99it/s]\u001b[A\n",
      " 37%|█████████████▉                        | 6416/17447 [02:46<04:31, 40.57it/s]\u001b[A\n",
      " 37%|██████████████                        | 6432/17447 [02:47<04:33, 40.25it/s]\u001b[A\n",
      " 37%|██████████████                        | 6448/17447 [02:47<04:31, 40.57it/s]\u001b[A\n",
      " 37%|██████████████                        | 6464/17447 [02:48<04:30, 40.58it/s]\u001b[A\n",
      " 37%|██████████████                        | 6480/17447 [02:48<04:27, 40.95it/s]\u001b[A\n",
      " 37%|██████████████▏                       | 6496/17447 [02:48<04:26, 41.11it/s]\u001b[A\n",
      " 37%|██████████████▏                       | 6512/17447 [02:49<04:27, 40.93it/s]\u001b[A\n",
      " 37%|██████████████▏                       | 6528/17447 [02:49<04:27, 40.85it/s]\u001b[A\n",
      " 38%|██████████████▎                       | 6544/17447 [02:49<04:28, 40.60it/s]\u001b[A\n",
      " 38%|██████████████▎                       | 6560/17447 [02:50<04:27, 40.74it/s]\u001b[A\n",
      " 38%|██████████████▎                       | 6576/17447 [02:50<04:23, 41.22it/s]\u001b[A\n",
      " 38%|██████████████▎                       | 6592/17447 [02:51<04:23, 41.12it/s]\u001b[A\n",
      " 38%|██████████████▍                       | 6608/17447 [02:51<04:24, 41.02it/s]\u001b[A\n",
      " 38%|██████████████▍                       | 6624/17447 [02:51<04:23, 41.00it/s]\u001b[A\n",
      " 38%|██████████████▍                       | 6640/17447 [02:52<04:25, 40.77it/s]\u001b[A\n",
      " 38%|██████████████▍                       | 6656/17447 [02:52<04:21, 41.23it/s]\u001b[A\n",
      " 38%|██████████████▌                       | 6672/17447 [02:53<04:23, 40.91it/s]\u001b[A\n",
      " 38%|██████████████▌                       | 6688/17447 [02:53<04:22, 40.98it/s]\u001b[A\n",
      " 38%|██████████████▌                       | 6704/17447 [02:53<04:25, 40.43it/s]\u001b[A\n",
      " 39%|██████████████▋                       | 6720/17447 [02:54<04:25, 40.47it/s]\u001b[A\n",
      " 39%|██████████████▋                       | 6736/17447 [02:54<04:27, 40.05it/s]\u001b[A\n",
      " 39%|██████████████▋                       | 6752/17447 [02:55<04:23, 40.56it/s]\u001b[A\n",
      " 39%|██████████████▋                       | 6768/17447 [02:55<04:24, 40.31it/s]\u001b[A\n",
      " 39%|██████████████▊                       | 6784/17447 [02:55<04:22, 40.57it/s]\u001b[A\n",
      " 39%|██████████████▊                       | 6800/17447 [02:56<04:21, 40.64it/s]\u001b[A\n",
      " 39%|██████████████▊                       | 6816/17447 [02:56<04:20, 40.78it/s]\u001b[A\n",
      " 39%|██████████████▉                       | 6832/17447 [02:57<04:19, 40.83it/s]\u001b[A\n",
      " 39%|██████████████▉                       | 6848/17447 [02:57<04:19, 40.87it/s]\u001b[A\n",
      " 39%|██████████████▉                       | 6864/17447 [02:57<04:20, 40.67it/s]\u001b[A\n",
      " 39%|██████████████▉                       | 6880/17447 [02:58<04:18, 40.93it/s]\u001b[A\n",
      " 40%|███████████████                       | 6896/17447 [02:58<04:15, 41.26it/s]\u001b[A\n",
      " 40%|███████████████                       | 6912/17447 [02:58<04:12, 41.74it/s]\u001b[A\n",
      " 40%|███████████████                       | 6928/17447 [02:59<04:12, 41.61it/s]\u001b[A\n",
      " 40%|███████████████                       | 6944/17447 [02:59<04:11, 41.75it/s]\u001b[A\n",
      " 40%|███████████████▏                      | 6960/17447 [03:00<04:13, 41.40it/s]\u001b[A\n",
      " 40%|███████████████▏                      | 6976/17447 [03:00<04:15, 40.91it/s]\u001b[A\n",
      " 40%|███████████████▏                      | 6992/17447 [03:00<04:19, 40.35it/s]\u001b[A\n",
      " 40%|███████████████▎                      | 7008/17447 [03:01<04:18, 40.42it/s]\u001b[A\n",
      " 40%|███████████████▎                      | 7024/17447 [03:01<04:16, 40.60it/s]\u001b[A\n",
      " 40%|███████████████▎                      | 7040/17447 [03:02<04:13, 40.98it/s]\u001b[A\n",
      " 40%|███████████████▎                      | 7056/17447 [03:02<04:13, 41.03it/s]\u001b[A\n",
      " 41%|███████████████▍                      | 7072/17447 [03:02<04:12, 41.06it/s]\u001b[A\n",
      " 41%|███████████████▍                      | 7088/17447 [03:03<04:12, 41.08it/s]\u001b[A\n",
      " 41%|███████████████▍                      | 7104/17447 [03:03<04:13, 40.83it/s]\u001b[A\n",
      " 41%|███████████████▌                      | 7120/17447 [03:04<04:13, 40.81it/s]\u001b[A\n",
      " 41%|███████████████▌                      | 7136/17447 [03:04<04:13, 40.66it/s]\u001b[A\n",
      " 41%|███████████████▌                      | 7152/17447 [03:04<04:12, 40.85it/s]\u001b[A\n",
      " 41%|███████████████▌                      | 7168/17447 [03:05<04:10, 41.07it/s]\u001b[A\n",
      " 41%|███████████████▋                      | 7184/17447 [03:05<04:10, 40.98it/s]\u001b[A\n",
      " 41%|███████████████▋                      | 7200/17447 [03:06<04:08, 41.28it/s]\u001b[A\n",
      " 41%|███████████████▋                      | 7216/17447 [03:06<04:06, 41.43it/s]\u001b[A\n",
      " 41%|███████████████▊                      | 7232/17447 [03:06<04:07, 41.28it/s]\u001b[A\n",
      " 42%|███████████████▊                      | 7248/17447 [03:07<04:06, 41.35it/s]\u001b[A\n",
      " 42%|███████████████▊                      | 7264/17447 [03:07<04:06, 41.34it/s]\u001b[A\n",
      " 42%|███████████████▊                      | 7280/17447 [03:07<04:07, 41.08it/s]\u001b[A\n",
      " 42%|███████████████▉                      | 7296/17447 [03:08<04:09, 40.71it/s]\u001b[A\n",
      " 42%|███████████████▉                      | 7312/17447 [03:08<04:10, 40.46it/s]\u001b[A\n",
      " 42%|███████████████▉                      | 7328/17447 [03:09<04:11, 40.27it/s]\u001b[A\n",
      " 42%|███████████████▉                      | 7344/17447 [03:09<04:06, 40.92it/s]\u001b[A\n",
      " 42%|████████████████                      | 7360/17447 [03:09<04:08, 40.57it/s]\u001b[A\n",
      " 42%|████████████████                      | 7376/17447 [03:10<04:09, 40.38it/s]\u001b[A\n",
      " 42%|████████████████                      | 7392/17447 [03:10<04:13, 39.73it/s]\u001b[A\n",
      " 42%|████████████████▏                     | 7408/17447 [03:11<04:22, 38.25it/s]\u001b[A\n",
      " 43%|████████████████▏                     | 7424/17447 [03:11<04:20, 38.44it/s]\u001b[A\n",
      " 43%|████████████████▏                     | 7440/17447 [03:12<04:26, 37.52it/s]\u001b[A\n",
      " 43%|████████████████▏                     | 7456/17447 [03:12<04:25, 37.61it/s]\u001b[A\n",
      " 43%|████████████████▎                     | 7472/17447 [03:12<04:27, 37.32it/s]\u001b[A\n",
      " 43%|████████████████▎                     | 7488/17447 [03:13<04:20, 38.23it/s]\u001b[A\n",
      " 43%|████████████████▎                     | 7504/17447 [03:13<04:16, 38.83it/s]\u001b[A\n",
      " 43%|████████████████▍                     | 7520/17447 [03:14<04:12, 39.29it/s]\u001b[A\n",
      " 43%|████████████████▍                     | 7536/17447 [03:14<04:10, 39.56it/s]\u001b[A\n",
      " 43%|████████████████▍                     | 7552/17447 [03:14<04:10, 39.44it/s]\u001b[A\n",
      " 43%|████████████████▍                     | 7568/17447 [03:15<04:07, 39.89it/s]\u001b[A\n",
      " 43%|████████████████▌                     | 7584/17447 [03:15<04:08, 39.76it/s]\u001b[A\n",
      " 44%|████████████████▌                     | 7600/17447 [03:16<04:07, 39.75it/s]\u001b[A\n",
      " 44%|████████████████▌                     | 7616/17447 [03:16<04:05, 40.06it/s]\u001b[A\n",
      " 44%|████████████████▌                     | 7632/17447 [03:16<04:04, 40.15it/s]\u001b[A\n",
      " 44%|████████████████▋                     | 7648/17447 [03:17<04:01, 40.52it/s]\u001b[A\n",
      " 44%|████████████████▋                     | 7664/17447 [03:17<04:00, 40.67it/s]\u001b[A\n",
      " 44%|████████████████▋                     | 7680/17447 [03:18<03:59, 40.80it/s]\u001b[A\n",
      " 44%|████████████████▊                     | 7696/17447 [03:18<03:59, 40.76it/s]\u001b[A\n",
      " 44%|████████████████▊                     | 7712/17447 [03:18<03:58, 40.84it/s]\u001b[A\n",
      " 44%|████████████████▊                     | 7728/17447 [03:19<03:58, 40.78it/s]\u001b[A\n",
      " 44%|████████████████▊                     | 7744/17447 [03:19<03:57, 40.87it/s]\u001b[A\n"
     ]
    },
    {
     "name": "stderr",
     "output_type": "stream",
     "text": [
      " 44%|████████████████▉                     | 7760/17447 [03:20<03:56, 40.97it/s]\u001b[A\n",
      " 45%|████████████████▉                     | 7776/17447 [03:20<03:57, 40.63it/s]\u001b[A\n",
      " 45%|████████████████▉                     | 7792/17447 [03:20<03:57, 40.63it/s]\u001b[A\n",
      " 45%|█████████████████                     | 7808/17447 [03:21<03:55, 40.89it/s]\u001b[A\n",
      " 45%|█████████████████                     | 7824/17447 [03:21<03:54, 41.05it/s]\u001b[A\n",
      " 45%|█████████████████                     | 7840/17447 [03:22<04:00, 39.93it/s]\u001b[A\n",
      " 45%|█████████████████                     | 7856/17447 [03:22<04:01, 39.70it/s]\u001b[A\n",
      " 45%|█████████████████▏                    | 7872/17447 [03:22<03:59, 40.05it/s]\u001b[A\n",
      " 45%|█████████████████▏                    | 7888/17447 [03:23<03:58, 40.01it/s]\u001b[A\n",
      " 45%|█████████████████▏                    | 7904/17447 [03:23<03:55, 40.47it/s]\u001b[A\n",
      " 45%|█████████████████▏                    | 7920/17447 [03:23<03:52, 41.05it/s]\u001b[A\n",
      " 45%|█████████████████▎                    | 7936/17447 [03:24<03:52, 40.99it/s]\u001b[A\n",
      " 46%|█████████████████▎                    | 7952/17447 [03:24<03:52, 40.88it/s]\u001b[A\n",
      " 46%|█████████████████▎                    | 7968/17447 [03:25<03:50, 41.10it/s]\u001b[A\n",
      " 46%|█████████████████▍                    | 7984/17447 [03:25<03:50, 41.00it/s]\u001b[A\n",
      " 46%|█████████████████▍                    | 8000/17447 [03:25<03:49, 41.19it/s]\u001b[A\n",
      " 46%|█████████████████▍                    | 8016/17447 [03:26<03:49, 41.07it/s]\u001b[A\n",
      " 46%|█████████████████▍                    | 8032/17447 [03:26<03:49, 41.00it/s]\u001b[A\n",
      " 46%|█████████████████▌                    | 8048/17447 [03:27<03:50, 40.85it/s]\u001b[A\n",
      " 46%|█████████████████▌                    | 8064/17447 [03:27<03:50, 40.75it/s]\u001b[A\n",
      " 46%|█████████████████▌                    | 8080/17447 [03:27<03:48, 40.94it/s]\u001b[A\n",
      " 46%|█████████████████▋                    | 8096/17447 [03:28<03:47, 41.18it/s]\u001b[A\n",
      " 46%|█████████████████▋                    | 8112/17447 [03:28<03:46, 41.21it/s]\u001b[A\n",
      " 47%|█████████████████▋                    | 8128/17447 [03:29<03:45, 41.38it/s]\u001b[A\n",
      " 47%|█████████████████▋                    | 8144/17447 [03:29<03:45, 41.23it/s]\u001b[A\n",
      " 47%|█████████████████▊                    | 8160/17447 [03:29<03:42, 41.76it/s]\u001b[A\n",
      "  9%|██▊                            | 1615/17447 [13:34:27<133:04:08, 30.26s/it]\u001b[A\n",
      "\n",
      " 47%|████████████████▊                   | 8176/17447 [04:15<2:14:01,  1.15it/s]\u001b[A\n",
      " 47%|████████████████▉                   | 8192/17447 [04:15<1:35:47,  1.61it/s]\u001b[A\n",
      " 47%|████████████████▉                   | 8208/17447 [04:16<1:08:15,  2.26it/s]\u001b[A\n",
      " 47%|█████████████████▉                    | 8224/17447 [04:16<48:57,  3.14it/s]\u001b[A\n",
      " 47%|█████████████████▉                    | 8240/17447 [04:17<35:26,  4.33it/s]\u001b[A\n",
      " 47%|█████████████████▉                    | 8256/17447 [04:17<25:53,  5.92it/s]\u001b[A\n",
      " 47%|██████████████████                    | 8272/17447 [04:18<19:14,  7.94it/s]\u001b[A\n",
      " 48%|██████████████████                    | 8288/17447 [04:18<14:40, 10.40it/s]\u001b[A\n",
      " 48%|██████████████████                    | 8304/17447 [04:18<11:21, 13.41it/s]\u001b[A\n",
      " 48%|██████████████████                    | 8320/17447 [04:19<09:06, 16.70it/s]\u001b[A\n",
      " 48%|██████████████████▏                   | 8336/17447 [04:19<07:32, 20.16it/s]\u001b[A\n",
      " 48%|██████████████████▏                   | 8352/17447 [04:20<06:22, 23.81it/s]\u001b[A\n",
      " 48%|██████████████████▏                   | 8368/17447 [04:20<05:33, 27.25it/s]\u001b[A\n",
      " 48%|██████████████████▎                   | 8384/17447 [04:20<05:15, 28.68it/s]\u001b[A\n",
      " 48%|██████████████████▎                   | 8400/17447 [04:21<04:54, 30.75it/s]\u001b[A\n",
      " 48%|██████████████████▎                   | 8416/17447 [04:21<04:44, 31.78it/s]\u001b[A\n",
      " 48%|██████████████████▎                   | 8432/17447 [04:22<04:35, 32.76it/s]\u001b[A\n",
      " 48%|██████████████████▍                   | 8448/17447 [04:22<04:35, 32.66it/s]\u001b[A\n",
      " 49%|██████████████████▍                   | 8464/17447 [04:23<04:31, 33.04it/s]\u001b[A\n",
      " 49%|██████████████████▍                   | 8480/17447 [04:23<04:25, 33.82it/s]\u001b[A\n",
      " 49%|██████████████████▌                   | 8496/17447 [04:24<04:14, 35.14it/s]\u001b[A\n",
      " 49%|██████████████████▌                   | 8512/17447 [04:24<04:14, 35.17it/s]\u001b[A\n",
      " 49%|██████████████████▌                   | 8528/17447 [04:24<04:07, 35.99it/s]\u001b[A\n",
      " 49%|██████████████████▌                   | 8544/17447 [04:25<04:06, 36.15it/s]\u001b[A\n",
      " 49%|██████████████████▋                   | 8560/17447 [04:25<04:04, 36.28it/s]\u001b[A\n",
      " 49%|██████████████████▋                   | 8576/17447 [04:26<04:03, 36.41it/s]\u001b[A\n",
      " 49%|██████████████████▋                   | 8592/17447 [04:26<04:05, 36.07it/s]\u001b[A\n",
      " 49%|██████████████████▋                   | 8608/17447 [04:27<04:02, 36.41it/s]\u001b[A\n",
      " 49%|██████████████████▊                   | 8624/17447 [04:27<03:57, 37.10it/s]\u001b[A\n",
      " 50%|██████████████████▊                   | 8640/17447 [04:28<04:06, 35.80it/s]\u001b[A\n",
      " 50%|██████████████████▊                   | 8656/17447 [04:28<04:04, 35.89it/s]\u001b[A\n",
      " 50%|██████████████████▉                   | 8672/17447 [04:28<03:57, 36.89it/s]\u001b[A\n",
      " 50%|██████████████████▉                   | 8688/17447 [04:29<03:52, 37.66it/s]\u001b[A\n",
      " 50%|██████████████████▉                   | 8704/17447 [04:29<03:51, 37.84it/s]\u001b[A\n",
      " 50%|██████████████████▉                   | 8720/17447 [04:30<03:46, 38.61it/s]\u001b[A\n",
      " 50%|███████████████████                   | 8736/17447 [04:30<03:44, 38.82it/s]\u001b[A\n",
      " 50%|███████████████████                   | 8752/17447 [04:30<03:41, 39.25it/s]\u001b[A\n",
      " 50%|███████████████████                   | 8768/17447 [04:31<03:37, 39.82it/s]\u001b[A\n",
      " 50%|███████████████████▏                  | 8784/17447 [04:31<03:39, 39.38it/s]\u001b[A\n",
      " 50%|███████████████████▏                  | 8800/17447 [04:32<03:37, 39.81it/s]\u001b[A\n",
      " 51%|███████████████████▏                  | 8816/17447 [04:32<03:35, 39.99it/s]\u001b[A\n",
      " 51%|███████████████████▏                  | 8832/17447 [04:32<03:34, 40.18it/s]\u001b[A\n",
      " 51%|███████████████████▎                  | 8848/17447 [04:33<03:34, 40.18it/s]\u001b[A\n",
      " 51%|███████████████████▎                  | 8864/17447 [04:33<03:32, 40.42it/s]\u001b[A\n",
      " 51%|███████████████████▎                  | 8880/17447 [04:34<03:32, 40.40it/s]\u001b[A\n",
      " 51%|███████████████████▍                  | 8896/17447 [04:34<03:29, 40.83it/s]\u001b[A\n",
      " 51%|███████████████████▍                  | 8912/17447 [04:34<03:28, 40.87it/s]\u001b[A\n",
      " 51%|███████████████████▍                  | 8928/17447 [04:35<03:29, 40.58it/s]\u001b[A\n",
      " 51%|███████████████████▍                  | 8944/17447 [04:35<03:30, 40.42it/s]\u001b[A\n",
      " 51%|███████████████████▌                  | 8960/17447 [04:36<03:32, 39.91it/s]\u001b[A\n",
      " 51%|███████████████████▌                  | 8976/17447 [04:36<03:31, 40.04it/s]\u001b[A\n",
      " 52%|███████████████████▌                  | 8992/17447 [04:36<03:32, 39.84it/s]\u001b[A\n",
      " 52%|███████████████████▌                  | 9008/17447 [04:37<03:37, 38.85it/s]\u001b[A\n",
      " 52%|███████████████████▋                  | 9024/17447 [04:37<03:44, 37.48it/s]\u001b[A\n",
      " 52%|███████████████████▋                  | 9040/17447 [04:38<03:48, 36.77it/s]\u001b[A\n",
      " 52%|███████████████████▋                  | 9056/17447 [04:38<03:50, 36.48it/s]\u001b[A\n",
      " 52%|███████████████████▊                  | 9072/17447 [04:39<03:49, 36.44it/s]\u001b[A\n",
      " 52%|███████████████████▊                  | 9088/17447 [04:39<03:51, 36.05it/s]\u001b[A\n",
      " 52%|███████████████████▊                  | 9104/17447 [04:40<03:50, 36.21it/s]\u001b[A\n",
      " 52%|███████████████████▊                  | 9120/17447 [04:40<03:46, 36.74it/s]\u001b[A\n",
      " 52%|███████████████████▉                  | 9136/17447 [04:40<03:40, 37.73it/s]\u001b[A\n",
      " 52%|███████████████████▉                  | 9152/17447 [04:41<03:34, 38.68it/s]\u001b[A\n",
      " 53%|███████████████████▉                  | 9168/17447 [04:41<03:30, 39.29it/s]\u001b[A\n",
      " 53%|████████████████████                  | 9184/17447 [04:42<03:27, 39.77it/s]\u001b[A\n",
      " 53%|████████████████████                  | 9200/17447 [04:42<03:26, 39.86it/s]\u001b[A\n",
      " 53%|████████████████████                  | 9216/17447 [04:42<03:25, 40.07it/s]\u001b[A\n",
      " 53%|████████████████████                  | 9232/17447 [04:43<03:25, 39.93it/s]\u001b[A\n",
      " 53%|████████████████████▏                 | 9248/17447 [04:43<03:23, 40.31it/s]\u001b[A\n",
      " 53%|████████████████████▏                 | 9264/17447 [04:44<03:23, 40.30it/s]\u001b[A\n",
      " 53%|████████████████████▏                 | 9280/17447 [04:44<03:21, 40.46it/s]\u001b[A\n"
     ]
    },
    {
     "name": "stderr",
     "output_type": "stream",
     "text": [
      " 53%|████████████████████▏                 | 9296/17447 [04:44<03:20, 40.62it/s]\u001b[A\n",
      " 53%|████████████████████▎                 | 9312/17447 [04:45<03:20, 40.49it/s]\u001b[A\n",
      " 53%|████████████████████▎                 | 9328/17447 [04:45<03:19, 40.76it/s]\u001b[A\n",
      " 54%|████████████████████▎                 | 9344/17447 [04:45<03:19, 40.52it/s]\u001b[A\n",
      " 54%|████████████████████▍                 | 9360/17447 [04:46<03:17, 40.89it/s]\u001b[A\n",
      " 54%|████████████████████▍                 | 9376/17447 [04:46<03:16, 41.17it/s]\u001b[A\n",
      " 54%|████████████████████▍                 | 9392/17447 [04:47<03:16, 40.99it/s]\u001b[A\n",
      " 54%|████████████████████▍                 | 9408/17447 [04:47<03:15, 41.17it/s]\u001b[A\n",
      " 54%|████████████████████▌                 | 9424/17447 [04:47<03:15, 41.01it/s]\u001b[A\n",
      " 54%|████████████████████▌                 | 9440/17447 [04:48<03:12, 41.55it/s]\u001b[A\n",
      " 54%|████████████████████▌                 | 9456/17447 [04:48<03:13, 41.39it/s]\u001b[A\n",
      " 54%|████████████████████▋                 | 9472/17447 [04:49<03:12, 41.34it/s]\u001b[A\n",
      " 54%|████████████████████▋                 | 9488/17447 [04:49<03:14, 41.02it/s]\u001b[A\n",
      " 54%|████████████████████▋                 | 9504/17447 [04:49<03:13, 40.95it/s]\u001b[A\n",
      " 55%|████████████████████▋                 | 9520/17447 [04:50<03:13, 41.01it/s]\u001b[A\n",
      " 55%|████████████████████▊                 | 9536/17447 [04:50<03:17, 40.11it/s]\u001b[A\n",
      " 55%|████████████████████▊                 | 9552/17447 [04:51<03:24, 38.57it/s]\u001b[A\n",
      " 55%|████████████████████▊                 | 9568/17447 [04:51<03:26, 38.11it/s]\u001b[A\n",
      " 55%|████████████████████▊                 | 9584/17447 [04:51<03:25, 38.35it/s]\u001b[A\n",
      " 55%|████████████████████▉                 | 9600/17447 [04:52<03:19, 39.31it/s]\u001b[A\n",
      " 55%|████████████████████▉                 | 9616/17447 [04:52<03:16, 39.87it/s]\u001b[A\n",
      " 55%|████████████████████▉                 | 9632/17447 [04:53<03:14, 40.19it/s]\u001b[A\n",
      " 55%|█████████████████████                 | 9648/17447 [04:53<03:13, 40.38it/s]\u001b[A\n",
      " 55%|█████████████████████                 | 9664/17447 [04:53<03:11, 40.54it/s]\u001b[A\n",
      " 55%|█████████████████████                 | 9680/17447 [04:54<03:10, 40.68it/s]\u001b[A\n",
      " 56%|█████████████████████                 | 9696/17447 [04:54<03:10, 40.79it/s]\u001b[A\n",
      " 56%|█████████████████████▏                | 9712/17447 [04:55<03:08, 40.99it/s]\u001b[A\n",
      " 56%|█████████████████████▏                | 9728/17447 [04:55<03:08, 40.85it/s]\u001b[A\n",
      " 56%|█████████████████████▏                | 9744/17447 [04:55<03:07, 41.09it/s]\u001b[A\n",
      " 56%|█████████████████████▎                | 9760/17447 [04:56<03:06, 41.11it/s]\u001b[A\n",
      " 56%|█████████████████████▎                | 9776/17447 [04:56<03:06, 41.20it/s]\u001b[A\n",
      " 56%|█████████████████████▎                | 9792/17447 [04:57<03:07, 40.81it/s]\u001b[A\n",
      " 56%|█████████████████████▎                | 9808/17447 [04:57<03:06, 41.06it/s]\u001b[A\n",
      " 56%|█████████████████████▍                | 9824/17447 [04:57<03:07, 40.58it/s]\u001b[A\n",
      " 56%|█████████████████████▍                | 9840/17447 [04:58<03:06, 40.83it/s]\u001b[A\n",
      " 56%|█████████████████████▍                | 9856/17447 [04:58<03:05, 40.93it/s]\u001b[A\n",
      " 57%|█████████████████████▌                | 9872/17447 [04:58<03:05, 40.82it/s]\u001b[A\n",
      " 57%|█████████████████████▌                | 9888/17447 [04:59<03:04, 40.89it/s]\u001b[A\n",
      " 57%|█████████████████████▌                | 9904/17447 [04:59<03:04, 40.89it/s]\u001b[A\n",
      " 57%|█████████████████████▌                | 9920/17447 [05:00<03:04, 40.90it/s]\u001b[A\n",
      " 57%|█████████████████████▋                | 9936/17447 [05:00<03:04, 40.77it/s]\u001b[A\n",
      " 57%|█████████████████████▋                | 9952/17447 [05:01<03:09, 39.46it/s]\u001b[A\n",
      " 57%|█████████████████████▋                | 9968/17447 [05:01<03:15, 38.23it/s]\u001b[A\n",
      " 57%|█████████████████████▋                | 9984/17447 [05:01<03:12, 38.82it/s]\u001b[A\n",
      " 57%|█████████████████████▏               | 10000/17447 [05:02<03:08, 39.41it/s]\u001b[A\n",
      " 57%|█████████████████████▏               | 10016/17447 [05:02<03:07, 39.73it/s]\u001b[A\n",
      " 57%|█████████████████████▎               | 10032/17447 [05:03<03:04, 40.20it/s]\u001b[A\n",
      " 58%|█████████████████████▎               | 10048/17447 [05:03<03:04, 40.15it/s]\u001b[A\n",
      " 58%|█████████████████████▎               | 10064/17447 [05:03<03:03, 40.21it/s]\u001b[A\n",
      " 58%|█████████████████████▍               | 10080/17447 [05:04<03:01, 40.54it/s]\u001b[A\n",
      " 58%|█████████████████████▍               | 10096/17447 [05:04<03:02, 40.25it/s]\u001b[A\n",
      " 58%|█████████████████████▍               | 10112/17447 [05:05<03:02, 40.23it/s]\u001b[A\n",
      " 58%|█████████████████████▍               | 10128/17447 [05:05<03:01, 40.41it/s]\u001b[A\n",
      " 58%|█████████████████████▌               | 10144/17447 [05:05<02:57, 41.06it/s]\u001b[A\n",
      " 58%|█████████████████████▌               | 10160/17447 [05:06<02:58, 40.81it/s]\u001b[A\n",
      " 58%|█████████████████████▌               | 10176/17447 [05:06<02:58, 40.70it/s]\u001b[A\n",
      " 58%|█████████████████████▌               | 10192/17447 [05:06<02:57, 40.79it/s]\u001b[A\n",
      " 59%|█████████████████████▋               | 10208/17447 [05:07<02:57, 40.77it/s]\u001b[A\n",
      " 59%|█████████████████████▋               | 10224/17447 [05:07<02:57, 40.76it/s]\u001b[A\n",
      " 59%|█████████████████████▋               | 10240/17447 [05:08<02:56, 40.85it/s]\u001b[A\n",
      " 59%|█████████████████████▋               | 10256/17447 [05:08<02:55, 40.88it/s]\u001b[A\n",
      " 59%|█████████████████████▊               | 10272/17447 [05:08<02:56, 40.54it/s]\u001b[A\n",
      " 59%|█████████████████████▊               | 10288/17447 [05:09<02:56, 40.54it/s]\u001b[A\n",
      " 59%|█████████████████████▊               | 10304/17447 [05:09<02:55, 40.60it/s]\u001b[A\n",
      " 59%|█████████████████████▉               | 10320/17447 [05:10<02:55, 40.62it/s]\u001b[A\n",
      " 59%|█████████████████████▉               | 10336/17447 [05:10<02:54, 40.73it/s]\u001b[A\n",
      " 59%|█████████████████████▉               | 10352/17447 [05:10<02:53, 40.93it/s]\u001b[A\n",
      " 59%|█████████████████████▉               | 10368/17447 [05:11<02:52, 40.99it/s]\u001b[A\n",
      " 60%|██████████████████████               | 10384/17447 [05:11<02:52, 40.99it/s]\u001b[A\n",
      " 60%|██████████████████████               | 10400/17447 [05:12<02:55, 40.27it/s]\u001b[A\n",
      " 60%|██████████████████████               | 10416/17447 [05:12<02:58, 39.38it/s]\u001b[A\n",
      " 60%|██████████████████████               | 10432/17447 [05:12<03:07, 37.35it/s]\u001b[A\n",
      " 60%|██████████████████████▏              | 10448/17447 [05:13<03:07, 37.36it/s]\u001b[A\n",
      " 60%|██████████████████████▏              | 10464/17447 [05:13<03:04, 37.94it/s]\u001b[A\n",
      " 60%|██████████████████████▏              | 10480/17447 [05:14<03:11, 36.46it/s]\u001b[A\n",
      " 60%|██████████████████████▎              | 10496/17447 [05:14<03:08, 36.83it/s]\u001b[A\n",
      " 60%|██████████████████████▎              | 10512/17447 [05:15<03:03, 37.73it/s]\u001b[A\n",
      " 60%|██████████████████████▎              | 10528/17447 [05:15<03:00, 38.43it/s]\u001b[A\n",
      " 60%|██████████████████████▎              | 10544/17447 [05:15<02:56, 39.03it/s]\u001b[A\n",
      " 61%|██████████████████████▍              | 10560/17447 [05:16<02:54, 39.49it/s]\u001b[A\n",
      " 61%|██████████████████████▍              | 10576/17447 [05:16<02:52, 39.87it/s]\u001b[A\n",
      " 61%|██████████████████████▍              | 10592/17447 [05:17<02:53, 39.53it/s]\u001b[A\n",
      " 61%|██████████████████████▍              | 10608/17447 [05:17<02:50, 40.22it/s]\u001b[A\n",
      " 61%|██████████████████████▌              | 10624/17447 [05:17<02:48, 40.52it/s]\u001b[A\n",
      " 61%|██████████████████████▌              | 10640/17447 [05:18<02:48, 40.49it/s]\u001b[A\n",
      " 61%|██████████████████████▌              | 10656/17447 [05:18<02:46, 40.73it/s]\u001b[A\n",
      " 61%|██████████████████████▋              | 10672/17447 [05:19<02:46, 40.61it/s]\u001b[A\n",
      " 61%|██████████████████████▋              | 10688/17447 [05:19<02:48, 40.17it/s]\u001b[A\n",
      " 61%|██████████████████████▋              | 10704/17447 [05:19<02:51, 39.39it/s]\u001b[A\n",
      " 61%|██████████████████████▋              | 10720/17447 [05:20<02:49, 39.74it/s]\u001b[A\n",
      " 62%|██████████████████████▊              | 10736/17447 [05:20<02:50, 39.26it/s]\u001b[A\n",
      " 62%|██████████████████████▊              | 10752/17447 [05:21<02:50, 39.30it/s]\u001b[A\n",
      " 62%|██████████████████████▊              | 10768/17447 [05:21<02:48, 39.66it/s]\u001b[A\n",
      " 62%|██████████████████████▊              | 10784/17447 [05:21<02:46, 39.98it/s]\u001b[A\n",
      " 62%|██████████████████████▉              | 10800/17447 [05:22<02:45, 40.05it/s]\u001b[A\n",
      " 62%|██████████████████████▉              | 10816/17447 [05:22<02:44, 40.26it/s]\u001b[A\n",
      " 62%|██████████████████████▉              | 10832/17447 [05:23<02:43, 40.42it/s]\u001b[A\n"
     ]
    },
    {
     "name": "stderr",
     "output_type": "stream",
     "text": [
      " 62%|███████████████████████              | 10848/17447 [05:23<02:43, 40.46it/s]\u001b[A\n",
      " 62%|███████████████████████              | 10864/17447 [05:23<02:44, 40.00it/s]\u001b[A\n",
      " 62%|███████████████████████              | 10880/17447 [05:24<02:42, 40.37it/s]\u001b[A\n",
      " 62%|███████████████████████              | 10896/17447 [05:24<02:41, 40.63it/s]\u001b[A\n",
      " 63%|███████████████████████▏             | 10912/17447 [05:25<02:40, 40.69it/s]\u001b[A\n",
      " 63%|███████████████████████▏             | 10928/17447 [05:25<02:39, 40.84it/s]\u001b[A\n",
      " 63%|███████████████████████▏             | 10944/17447 [05:25<02:39, 40.87it/s]\u001b[A\n",
      " 63%|███████████████████████▏             | 10960/17447 [05:26<02:38, 40.97it/s]\u001b[A\n",
      " 63%|███████████████████████▎             | 10976/17447 [05:26<02:38, 40.96it/s]\u001b[A\n",
      " 63%|███████████████████████▎             | 10992/17447 [05:26<02:37, 41.07it/s]\u001b[A\n",
      " 63%|███████████████████████▎             | 11008/17447 [05:27<02:37, 40.81it/s]\u001b[A\n",
      " 63%|███████████████████████▍             | 11024/17447 [05:27<02:37, 40.67it/s]\u001b[A\n",
      " 63%|███████████████████████▍             | 11040/17447 [05:28<02:39, 40.27it/s]\u001b[A\n",
      " 63%|███████████████████████▍             | 11056/17447 [05:28<02:40, 39.80it/s]\u001b[A\n",
      " 63%|███████████████████████▍             | 11072/17447 [05:29<02:40, 39.79it/s]\u001b[A\n",
      " 64%|███████████████████████▌             | 11088/17447 [05:29<02:40, 39.53it/s]\u001b[A\n",
      " 64%|███████████████████████▌             | 11104/17447 [05:29<02:37, 40.18it/s]\u001b[A\n",
      " 64%|███████████████████████▌             | 11120/17447 [05:30<02:36, 40.31it/s]\u001b[A\n",
      " 64%|███████████████████████▌             | 11136/17447 [05:30<02:36, 40.39it/s]\u001b[A\n",
      " 64%|███████████████████████▋             | 11152/17447 [05:30<02:34, 40.74it/s]\u001b[A\n",
      " 64%|███████████████████████▋             | 11168/17447 [05:31<02:34, 40.73it/s]\u001b[A\n",
      " 64%|███████████████████████▋             | 11184/17447 [05:31<02:33, 40.86it/s]\u001b[A\n",
      " 64%|███████████████████████▊             | 11200/17447 [05:32<02:33, 40.76it/s]\u001b[A\n",
      " 64%|███████████████████████▊             | 11216/17447 [05:32<02:33, 40.48it/s]\u001b[A\n",
      " 64%|███████████████████████▊             | 11232/17447 [05:32<02:32, 40.76it/s]\u001b[A\n",
      " 64%|███████████████████████▊             | 11248/17447 [05:33<02:31, 40.87it/s]\u001b[A\n",
      " 65%|███████████████████████▉             | 11264/17447 [05:33<02:31, 40.90it/s]\u001b[A\n",
      " 65%|███████████████████████▉             | 11280/17447 [05:34<02:30, 41.08it/s]\u001b[A\n",
      " 65%|███████████████████████▉             | 11296/17447 [05:34<02:30, 40.93it/s]\u001b[A\n",
      " 65%|███████████████████████▉             | 11312/17447 [05:34<02:29, 41.15it/s]\u001b[A\n",
      " 65%|████████████████████████             | 11328/17447 [05:35<02:28, 41.12it/s]\u001b[A\n",
      " 65%|████████████████████████             | 11344/17447 [05:35<02:28, 41.19it/s]\u001b[A\n",
      " 65%|████████████████████████             | 11360/17447 [05:36<02:27, 41.26it/s]\u001b[A\n",
      " 65%|████████████████████████▏            | 11376/17447 [05:36<02:28, 40.93it/s]\u001b[A\n",
      " 65%|████████████████████████▏            | 11392/17447 [05:36<02:28, 40.68it/s]\u001b[A\n",
      " 65%|████████████████████████▏            | 11408/17447 [05:37<02:28, 40.58it/s]\u001b[A\n",
      " 65%|████████████████████████▏            | 11424/17447 [05:37<02:28, 40.43it/s]\u001b[A\n",
      " 66%|████████████████████████▎            | 11440/17447 [05:38<02:27, 40.69it/s]\u001b[A\n",
      " 66%|████████████████████████▎            | 11456/17447 [05:38<02:26, 41.01it/s]\u001b[A\n",
      " 66%|████████████████████████▎            | 11472/17447 [05:38<02:24, 41.43it/s]\u001b[A\n",
      " 66%|████████████████████████▎            | 11488/17447 [05:39<02:24, 41.11it/s]\u001b[A\n",
      " 66%|████████████████████████▍            | 11504/17447 [05:39<02:24, 41.02it/s]\u001b[A\n",
      " 66%|████████████████████████▍            | 11520/17447 [05:39<02:27, 40.21it/s]\u001b[A\n",
      " 66%|████████████████████████▍            | 11536/17447 [05:40<02:24, 40.79it/s]\u001b[A\n",
      " 66%|████████████████████████▍            | 11552/17447 [05:40<02:22, 41.23it/s]\u001b[A\n",
      " 66%|████████████████████████▌            | 11568/17447 [05:41<02:23, 41.06it/s]\u001b[A\n",
      " 66%|████████████████████████▌            | 11584/17447 [05:41<02:21, 41.30it/s]\u001b[A\n",
      " 66%|████████████████████████▌            | 11600/17447 [05:41<02:23, 40.81it/s]\u001b[A\n",
      " 67%|████████████████████████▋            | 11616/17447 [05:42<02:21, 41.08it/s]\u001b[A\n",
      " 67%|████████████████████████▋            | 11632/17447 [05:42<02:21, 41.08it/s]\u001b[A\n",
      " 67%|████████████████████████▋            | 11648/17447 [05:43<02:20, 41.21it/s]\u001b[A\n",
      " 67%|████████████████████████▋            | 11664/17447 [05:43<02:23, 40.27it/s]\u001b[A\n",
      " 67%|████████████████████████▊            | 11680/17447 [05:43<02:30, 38.26it/s]\u001b[A\n",
      " 67%|████████████████████████▊            | 11696/17447 [05:44<02:34, 37.23it/s]\u001b[A\n",
      " 67%|████████████████████████▊            | 11712/17447 [05:44<02:35, 36.94it/s]\u001b[A\n",
      " 67%|████████████████████████▊            | 11728/17447 [05:45<02:33, 37.25it/s]\u001b[A\n",
      " 67%|████████████████████████▉            | 11744/17447 [05:45<02:36, 36.51it/s]\u001b[A\n",
      " 67%|████████████████████████▉            | 11760/17447 [05:46<02:34, 36.84it/s]\u001b[A\n",
      " 67%|████████████████████████▉            | 11776/17447 [05:46<02:33, 36.98it/s]\u001b[A\n",
      " 68%|█████████████████████████            | 11792/17447 [05:47<02:32, 37.18it/s]\u001b[A\n",
      " 68%|█████████████████████████            | 11808/17447 [05:47<02:31, 37.15it/s]\u001b[A\n",
      " 68%|█████████████████████████            | 11824/17447 [05:47<02:30, 37.27it/s]\u001b[A\n",
      " 68%|█████████████████████████            | 11840/17447 [05:48<02:32, 36.66it/s]\u001b[A\n",
      " 68%|█████████████████████████▏           | 11856/17447 [05:48<02:31, 37.02it/s]\u001b[A\n",
      " 68%|█████████████████████████▏           | 11872/17447 [05:49<02:34, 35.97it/s]\u001b[A\n",
      " 68%|█████████████████████████▏           | 11888/17447 [05:49<02:32, 36.50it/s]\u001b[A\n",
      " 68%|█████████████████████████▏           | 11904/17447 [05:50<02:33, 36.04it/s]\u001b[A\n",
      " 68%|█████████████████████████▎           | 11920/17447 [05:50<02:34, 35.83it/s]\u001b[A\n",
      " 68%|█████████████████████████▎           | 11936/17447 [05:50<02:31, 36.28it/s]\u001b[A\n",
      " 69%|█████████████████████████▎           | 11952/17447 [05:51<02:26, 37.44it/s]\u001b[A\n",
      " 69%|█████████████████████████▍           | 11968/17447 [05:51<02:24, 37.99it/s]\u001b[A\n",
      " 69%|█████████████████████████▍           | 11984/17447 [05:52<02:20, 38.89it/s]\u001b[A\n",
      " 69%|█████████████████████████▍           | 12000/17447 [05:52<02:18, 39.23it/s]\u001b[A\n",
      " 69%|█████████████████████████▍           | 12016/17447 [05:52<02:16, 39.77it/s]\u001b[A\n",
      " 69%|█████████████████████████▌           | 12032/17447 [05:53<02:15, 40.10it/s]\u001b[A\n",
      " 69%|█████████████████████████▌           | 12048/17447 [05:53<02:14, 40.27it/s]\u001b[A\n",
      " 69%|█████████████████████████▌           | 12064/17447 [05:54<02:14, 40.16it/s]\u001b[A\n",
      " 69%|█████████████████████████▌           | 12080/17447 [05:54<02:13, 40.24it/s]\u001b[A\n",
      " 69%|█████████████████████████▋           | 12096/17447 [05:54<02:13, 40.19it/s]\u001b[A\n",
      " 69%|█████████████████████████▋           | 12112/17447 [05:55<02:11, 40.60it/s]\u001b[A\n",
      " 70%|█████████████████████████▋           | 12128/17447 [05:55<02:10, 40.72it/s]\u001b[A\n",
      " 70%|█████████████████████████▊           | 12144/17447 [05:56<02:09, 40.92it/s]\u001b[A\n",
      " 70%|█████████████████████████▊           | 12160/17447 [05:56<02:10, 40.55it/s]\u001b[A\n",
      " 70%|█████████████████████████▊           | 12176/17447 [05:56<02:10, 40.48it/s]\u001b[A\n",
      " 70%|█████████████████████████▊           | 12192/17447 [05:57<02:10, 40.31it/s]\u001b[A\n",
      " 70%|█████████████████████████▉           | 12208/17447 [05:57<02:08, 40.85it/s]\u001b[A\n",
      " 70%|█████████████████████████▉           | 12224/17447 [05:58<02:08, 40.67it/s]\u001b[A\n",
      " 70%|█████████████████████████▉           | 12240/17447 [05:58<02:07, 40.77it/s]\u001b[A\n",
      " 70%|█████████████████████████▉           | 12256/17447 [05:58<02:07, 40.60it/s]\u001b[A\n",
      " 70%|██████████████████████████           | 12272/17447 [05:59<02:07, 40.67it/s]\u001b[A\n",
      " 70%|██████████████████████████           | 12288/17447 [05:59<02:06, 40.85it/s]\u001b[A\n",
      " 71%|██████████████████████████           | 12304/17447 [06:00<02:06, 40.69it/s]\u001b[A\n",
      " 71%|██████████████████████████▏          | 12320/17447 [06:00<02:06, 40.61it/s]\u001b[A\n",
      " 71%|██████████████████████████▏          | 12336/17447 [06:00<02:06, 40.55it/s]\u001b[A\n",
      " 71%|██████████████████████████▏          | 12352/17447 [06:01<02:06, 40.40it/s]\u001b[A\n",
      " 71%|██████████████████████████▏          | 12368/17447 [06:01<02:06, 40.30it/s]\u001b[A\n",
      " 71%|██████████████████████████▎          | 12384/17447 [06:02<02:04, 40.64it/s]\u001b[A\n"
     ]
    },
    {
     "name": "stderr",
     "output_type": "stream",
     "text": [
      " 71%|██████████████████████████▎          | 12400/17447 [06:02<02:02, 41.15it/s]\u001b[A\n",
      " 71%|██████████████████████████▎          | 12416/17447 [06:02<02:01, 41.25it/s]\u001b[A\n",
      " 71%|██████████████████████████▎          | 12432/17447 [06:03<02:01, 41.14it/s]\u001b[A\n",
      " 71%|██████████████████████████▍          | 12448/17447 [06:03<02:02, 40.93it/s]\u001b[A\n",
      " 71%|██████████████████████████▍          | 12464/17447 [06:03<02:02, 40.70it/s]\u001b[A\n",
      " 72%|██████████████████████████▍          | 12480/17447 [06:04<02:01, 40.78it/s]\u001b[A\n",
      " 72%|██████████████████████████▌          | 12496/17447 [06:04<02:01, 40.67it/s]\u001b[A\n",
      " 72%|██████████████████████████▌          | 12512/17447 [06:05<02:01, 40.77it/s]\u001b[A\n",
      " 72%|██████████████████████████▌          | 12528/17447 [06:05<02:00, 40.90it/s]\u001b[A\n",
      " 72%|██████████████████████████▌          | 12544/17447 [06:05<01:59, 40.98it/s]\u001b[A\n",
      " 72%|██████████████████████████▋          | 12560/17447 [06:06<01:59, 41.04it/s]\u001b[A\n",
      " 72%|██████████████████████████▋          | 12576/17447 [06:06<01:59, 40.65it/s]\u001b[A\n",
      " 72%|██████████████████████████▋          | 12592/17447 [06:07<01:59, 40.62it/s]\u001b[A\n",
      " 72%|██████████████████████████▋          | 12608/17447 [06:07<01:59, 40.60it/s]\u001b[A\n",
      " 72%|██████████████████████████▊          | 12624/17447 [06:07<01:59, 40.50it/s]\u001b[A\n",
      " 72%|██████████████████████████▊          | 12640/17447 [06:08<01:56, 41.10it/s]\u001b[A\n",
      " 73%|██████████████████████████▊          | 12656/17447 [06:08<01:56, 41.04it/s]\u001b[A\n",
      " 73%|██████████████████████████▊          | 12672/17447 [06:09<01:56, 41.12it/s]\u001b[A\n",
      " 73%|██████████████████████████▉          | 12688/17447 [06:09<01:56, 40.77it/s]\u001b[A\n",
      " 73%|██████████████████████████▉          | 12704/17447 [06:09<01:55, 40.95it/s]\u001b[A\n",
      " 73%|██████████████████████████▉          | 12720/17447 [06:10<01:55, 40.83it/s]\u001b[A\n",
      " 73%|███████████████████████████          | 12736/17447 [06:10<01:55, 40.71it/s]\u001b[A\n",
      " 73%|███████████████████████████          | 12752/17447 [06:11<01:54, 40.93it/s]\u001b[A\n",
      " 73%|███████████████████████████          | 12768/17447 [06:11<01:53, 41.10it/s]\u001b[A\n",
      " 73%|███████████████████████████          | 12784/17447 [06:11<01:53, 41.17it/s]\u001b[A\n",
      " 73%|███████████████████████████▏         | 12800/17447 [06:12<01:53, 40.95it/s]\u001b[A\n",
      " 73%|███████████████████████████▏         | 12816/17447 [06:12<01:53, 40.91it/s]\u001b[A\n",
      " 74%|███████████████████████████▏         | 12832/17447 [06:13<01:53, 40.57it/s]\u001b[A\n",
      " 74%|███████████████████████████▏         | 12848/17447 [06:13<01:53, 40.69it/s]\u001b[A\n",
      " 74%|███████████████████████████▎         | 12864/17447 [06:13<01:52, 40.81it/s]\u001b[A\n",
      " 74%|███████████████████████████▎         | 12880/17447 [06:14<01:53, 40.07it/s]\u001b[A\n",
      " 74%|███████████████████████████▎         | 12896/17447 [06:14<01:52, 40.51it/s]\u001b[A\n",
      " 74%|███████████████████████████▍         | 12912/17447 [06:14<01:52, 40.46it/s]\u001b[A\n",
      " 74%|███████████████████████████▍         | 12928/17447 [06:15<01:50, 40.79it/s]\u001b[A\n",
      " 74%|███████████████████████████▍         | 12944/17447 [06:15<01:49, 40.94it/s]\u001b[A\n",
      " 74%|███████████████████████████▍         | 12960/17447 [06:16<01:49, 40.85it/s]\u001b[A\n",
      " 74%|███████████████████████████▌         | 12976/17447 [06:16<01:49, 40.78it/s]\u001b[A\n",
      " 74%|███████████████████████████▌         | 12992/17447 [06:16<01:48, 41.14it/s]\u001b[A\n",
      " 75%|███████████████████████████▌         | 13008/17447 [06:17<01:48, 40.91it/s]\u001b[A\n",
      " 75%|███████████████████████████▌         | 13024/17447 [06:17<01:48, 40.78it/s]\u001b[A\n",
      " 75%|███████████████████████████▋         | 13040/17447 [06:18<01:47, 40.85it/s]\u001b[A\n",
      " 75%|███████████████████████████▋         | 13056/17447 [06:18<01:47, 40.86it/s]\u001b[A\n",
      " 75%|███████████████████████████▋         | 13072/17447 [06:18<01:46, 40.97it/s]\u001b[A\n",
      " 75%|███████████████████████████▊         | 13088/17447 [06:19<01:46, 40.86it/s]\u001b[A\n",
      " 75%|███████████████████████████▊         | 13104/17447 [06:19<01:46, 40.88it/s]\u001b[A\n",
      " 75%|███████████████████████████▊         | 13120/17447 [06:20<01:46, 40.77it/s]\u001b[A\n",
      " 75%|███████████████████████████▊         | 13136/17447 [06:20<01:45, 40.85it/s]\u001b[A\n",
      " 75%|███████████████████████████▉         | 13152/17447 [06:20<01:45, 40.61it/s]\u001b[A\n",
      " 75%|███████████████████████████▉         | 13168/17447 [06:21<01:46, 40.18it/s]\u001b[A\n",
      " 76%|███████████████████████████▉         | 13184/17447 [06:21<01:46, 40.21it/s]\u001b[A\n",
      " 76%|███████████████████████████▉         | 13200/17447 [06:22<01:44, 40.55it/s]\u001b[A\n",
      " 76%|████████████████████████████         | 13216/17447 [06:22<01:43, 40.95it/s]\u001b[A\n",
      " 76%|████████████████████████████         | 13232/17447 [06:22<01:42, 41.01it/s]\u001b[A\n",
      " 76%|████████████████████████████         | 13248/17447 [06:23<01:41, 41.32it/s]\u001b[A\n",
      " 76%|████████████████████████████▏        | 13264/17447 [06:23<01:40, 41.53it/s]\u001b[A\n",
      " 76%|████████████████████████████▏        | 13280/17447 [06:23<01:40, 41.28it/s]\u001b[A\n",
      " 76%|████████████████████████████▏        | 13296/17447 [06:24<01:40, 41.33it/s]\u001b[A\n",
      " 76%|████████████████████████████▏        | 13312/17447 [06:24<01:40, 41.01it/s]\u001b[A\n",
      " 76%|████████████████████████████▎        | 13328/17447 [06:25<01:41, 40.53it/s]\u001b[A\n",
      " 76%|████████████████████████████▎        | 13344/17447 [06:25<01:41, 40.55it/s]\u001b[A\n",
      " 77%|████████████████████████████▎        | 13360/17447 [06:25<01:40, 40.76it/s]\u001b[A\n",
      " 77%|████████████████████████████▎        | 13376/17447 [06:26<01:40, 40.63it/s]\u001b[A\n",
      " 77%|████████████████████████████▍        | 13392/17447 [06:26<01:40, 40.49it/s]\u001b[A\n",
      " 77%|████████████████████████████▍        | 13408/17447 [06:27<01:39, 40.79it/s]\u001b[A\n",
      " 77%|████████████████████████████▍        | 13424/17447 [06:27<01:38, 40.99it/s]\u001b[A\n",
      " 77%|████████████████████████████▌        | 13440/17447 [06:27<01:40, 39.89it/s]\u001b[A\n",
      " 77%|████████████████████████████▌        | 13456/17447 [06:28<01:41, 39.27it/s]\u001b[A\n",
      " 77%|████████████████████████████▌        | 13472/17447 [06:28<01:48, 36.72it/s]\u001b[A\n",
      " 77%|████████████████████████████▌        | 13488/17447 [06:29<01:57, 33.78it/s]\u001b[A\n",
      " 77%|████████████████████████████▋        | 13504/17447 [06:29<01:52, 34.94it/s]\u001b[A\n",
      " 77%|████████████████████████████▋        | 13520/17447 [06:30<01:49, 35.90it/s]\u001b[A\n",
      " 78%|████████████████████████████▋        | 13536/17447 [06:30<01:44, 37.46it/s]\u001b[A\n",
      " 78%|████████████████████████████▋        | 13552/17447 [06:31<01:40, 38.81it/s]\u001b[A\n",
      " 78%|████████████████████████████▊        | 13568/17447 [06:31<01:39, 39.14it/s]\u001b[A\n",
      " 78%|████████████████████████████▊        | 13584/17447 [06:31<01:39, 38.97it/s]\u001b[A\n",
      " 78%|████████████████████████████▊        | 13600/17447 [06:32<01:37, 39.32it/s]\u001b[A\n",
      " 78%|████████████████████████████▉        | 13616/17447 [06:32<01:36, 39.62it/s]\u001b[A\n",
      " 78%|████████████████████████████▉        | 13632/17447 [06:33<01:34, 40.16it/s]\u001b[A\n",
      " 78%|████████████████████████████▉        | 13648/17447 [06:33<01:34, 40.36it/s]\u001b[A\n",
      " 78%|████████████████████████████▉        | 13664/17447 [06:33<01:32, 40.71it/s]\u001b[A\n",
      " 78%|█████████████████████████████        | 13680/17447 [06:34<01:32, 40.53it/s]\u001b[A\n",
      " 79%|█████████████████████████████        | 13696/17447 [06:34<01:32, 40.45it/s]\u001b[A\n",
      " 79%|█████████████████████████████        | 13712/17447 [06:34<01:32, 40.23it/s]\u001b[A\n",
      " 79%|█████████████████████████████        | 13728/17447 [06:35<01:31, 40.70it/s]\u001b[A\n",
      " 79%|█████████████████████████████▏       | 13744/17447 [06:35<01:31, 40.56it/s]\u001b[A\n",
      " 79%|█████████████████████████████▏       | 13760/17447 [06:36<01:30, 40.84it/s]\u001b[A\n",
      " 79%|█████████████████████████████▏       | 13776/17447 [06:36<01:29, 40.96it/s]\u001b[A\n",
      " 79%|█████████████████████████████▏       | 13792/17447 [06:36<01:29, 40.95it/s]\u001b[A\n",
      " 79%|█████████████████████████████▎       | 13808/17447 [06:37<01:27, 41.45it/s]\u001b[A\n",
      " 79%|█████████████████████████████▎       | 13824/17447 [06:37<01:27, 41.53it/s]\u001b[A\n",
      " 79%|█████████████████████████████▎       | 13840/17447 [06:38<01:26, 41.58it/s]\u001b[A\n",
      " 79%|█████████████████████████████▍       | 13856/17447 [06:38<01:28, 40.79it/s]\u001b[A\n",
      " 80%|█████████████████████████████▍       | 13872/17447 [06:38<01:27, 40.64it/s]\u001b[A\n",
      " 80%|█████████████████████████████▍       | 13888/17447 [06:39<01:27, 40.70it/s]\u001b[A\n",
      " 80%|█████████████████████████████▍       | 13904/17447 [06:39<01:26, 40.95it/s]\u001b[A\n",
      " 80%|█████████████████████████████▌       | 13920/17447 [06:40<01:26, 40.72it/s]\u001b[A\n",
      " 80%|█████████████████████████████▌       | 13936/17447 [06:40<01:26, 40.40it/s]\u001b[A\n"
     ]
    },
    {
     "name": "stderr",
     "output_type": "stream",
     "text": [
      " 80%|█████████████████████████████▌       | 13952/17447 [06:40<01:26, 40.57it/s]\u001b[A\n",
      " 80%|█████████████████████████████▌       | 13968/17447 [06:41<01:26, 40.44it/s]\u001b[A\n",
      " 80%|█████████████████████████████▋       | 13984/17447 [06:41<01:25, 40.66it/s]\u001b[A\n",
      " 80%|█████████████████████████████▋       | 14000/17447 [06:42<01:25, 40.37it/s]\u001b[A\n",
      " 80%|█████████████████████████████▋       | 14016/17447 [06:42<01:24, 40.60it/s]\u001b[A\n",
      " 80%|█████████████████████████████▊       | 14032/17447 [06:42<01:24, 40.57it/s]\u001b[A\n",
      " 81%|█████████████████████████████▊       | 14048/17447 [06:43<01:27, 38.99it/s]\u001b[A\n",
      " 81%|█████████████████████████████▊       | 14064/17447 [06:43<01:27, 38.50it/s]\u001b[A\n",
      " 81%|█████████████████████████████▊       | 14080/17447 [06:44<01:26, 39.12it/s]\u001b[A\n",
      " 81%|█████████████████████████████▉       | 14096/17447 [06:44<01:24, 39.76it/s]\u001b[A\n",
      " 81%|█████████████████████████████▉       | 14112/17447 [06:44<01:23, 40.16it/s]\u001b[A\n",
      " 81%|█████████████████████████████▉       | 14128/17447 [06:45<01:22, 40.31it/s]\u001b[A\n",
      " 81%|█████████████████████████████▉       | 14144/17447 [06:45<01:21, 40.72it/s]\u001b[A\n",
      " 81%|██████████████████████████████       | 14160/17447 [06:46<01:21, 40.56it/s]\u001b[A\n",
      " 81%|██████████████████████████████       | 14176/17447 [06:46<01:20, 40.64it/s]\u001b[A\n",
      " 81%|██████████████████████████████       | 14192/17447 [06:46<01:19, 40.84it/s]\u001b[A\n",
      " 81%|██████████████████████████████▏      | 14208/17447 [06:47<01:19, 40.73it/s]\u001b[A\n",
      " 82%|██████████████████████████████▏      | 14224/17447 [06:47<01:19, 40.54it/s]\u001b[A\n",
      " 82%|██████████████████████████████▏      | 14240/17447 [06:48<01:18, 40.87it/s]\u001b[A\n",
      " 82%|██████████████████████████████▏      | 14256/17447 [06:48<01:18, 40.82it/s]\u001b[A\n",
      " 82%|██████████████████████████████▎      | 14272/17447 [06:48<01:17, 40.77it/s]\u001b[A\n",
      " 82%|██████████████████████████████▎      | 14288/17447 [06:49<01:17, 40.73it/s]\u001b[A\n",
      " 82%|██████████████████████████████▎      | 14304/17447 [06:49<01:16, 40.94it/s]\u001b[A\n",
      " 82%|██████████████████████████████▎      | 14320/17447 [06:49<01:16, 40.69it/s]\u001b[A\n",
      " 82%|██████████████████████████████▍      | 14336/17447 [06:50<01:15, 41.04it/s]\u001b[A\n",
      " 82%|██████████████████████████████▍      | 14352/17447 [06:50<01:19, 38.91it/s]\u001b[A\n",
      " 82%|██████████████████████████████▍      | 14368/17447 [06:51<01:21, 37.77it/s]\u001b[A\n",
      " 82%|██████████████████████████████▌      | 14384/17447 [06:51<01:22, 37.11it/s]\u001b[A\n",
      " 83%|██████████████████████████████▌      | 14400/17447 [06:52<01:22, 36.89it/s]\u001b[A\n",
      " 83%|██████████████████████████████▌      | 14416/17447 [06:52<01:22, 36.73it/s]\u001b[A\n",
      " 83%|██████████████████████████████▌      | 14432/17447 [06:52<01:19, 37.75it/s]\u001b[A\n",
      " 83%|██████████████████████████████▋      | 14448/17447 [06:53<01:20, 37.06it/s]\u001b[A\n",
      " 83%|██████████████████████████████▋      | 14464/17447 [06:53<01:20, 36.90it/s]\u001b[A\n",
      " 83%|██████████████████████████████▋      | 14480/17447 [06:54<01:19, 37.30it/s]\u001b[A\n",
      " 83%|██████████████████████████████▋      | 14496/17447 [06:54<01:18, 37.58it/s]\u001b[A\n",
      " 83%|██████████████████████████████▊      | 14512/17447 [06:55<01:19, 37.07it/s]\u001b[A\n",
      " 83%|██████████████████████████████▊      | 14528/17447 [06:55<01:19, 36.60it/s]\u001b[A\n",
      " 83%|██████████████████████████████▊      | 14544/17447 [06:56<01:20, 36.13it/s]\u001b[A\n",
      " 83%|██████████████████████████████▉      | 14560/17447 [06:56<01:19, 36.43it/s]\u001b[A\n",
      " 84%|██████████████████████████████▉      | 14576/17447 [06:56<01:19, 35.97it/s]\u001b[A\n",
      " 84%|██████████████████████████████▉      | 14592/17447 [06:57<01:19, 36.13it/s]\u001b[A\n",
      " 84%|██████████████████████████████▉      | 14608/17447 [06:57<01:17, 36.73it/s]\u001b[A\n",
      " 84%|███████████████████████████████      | 14624/17447 [06:58<01:18, 36.03it/s]\u001b[A\n",
      " 84%|███████████████████████████████      | 14640/17447 [06:58<01:16, 36.58it/s]\u001b[A\n",
      " 84%|███████████████████████████████      | 14656/17447 [06:59<01:16, 36.50it/s]\u001b[A\n",
      " 84%|███████████████████████████████      | 14672/17447 [06:59<01:16, 36.19it/s]\u001b[A\n",
      " 84%|███████████████████████████████▏     | 14688/17447 [07:00<01:18, 35.25it/s]\u001b[A\n",
      " 84%|███████████████████████████████▏     | 14704/17447 [07:00<01:17, 35.31it/s]\u001b[A\n",
      " 84%|███████████████████████████████▏     | 14720/17447 [07:01<01:20, 34.06it/s]\u001b[A\n",
      " 84%|███████████████████████████████▎     | 14736/17447 [07:01<01:17, 34.82it/s]\u001b[A\n",
      " 85%|███████████████████████████████▎     | 14752/17447 [07:01<01:15, 35.68it/s]\u001b[A\n",
      " 85%|███████████████████████████████▎     | 14768/17447 [07:02<01:12, 36.94it/s]\u001b[A\n",
      " 85%|███████████████████████████████▎     | 14784/17447 [07:02<01:12, 36.64it/s]\u001b[A\n",
      " 85%|███████████████████████████████▍     | 14800/17447 [07:03<01:11, 37.18it/s]\u001b[A\n",
      " 85%|███████████████████████████████▍     | 14816/17447 [07:03<01:09, 37.82it/s]\u001b[A\n",
      " 85%|███████████████████████████████▍     | 14832/17447 [07:04<01:11, 36.38it/s]\u001b[A\n",
      " 85%|███████████████████████████████▍     | 14848/17447 [07:04<01:11, 36.51it/s]\u001b[A\n",
      " 85%|███████████████████████████████▌     | 14864/17447 [07:04<01:11, 36.37it/s]\u001b[A\n",
      " 85%|███████████████████████████████▌     | 14880/17447 [07:05<01:10, 36.37it/s]\u001b[A\n",
      " 85%|███████████████████████████████▌     | 14896/17447 [07:05<01:11, 35.50it/s]\u001b[A\n",
      " 85%|███████████████████████████████▌     | 14912/17447 [07:06<01:10, 35.71it/s]\u001b[A\n",
      " 86%|███████████████████████████████▋     | 14928/17447 [07:06<01:09, 36.18it/s]\u001b[A\n",
      " 86%|███████████████████████████████▋     | 14944/17447 [07:07<01:09, 36.01it/s]\u001b[A\n",
      " 86%|███████████████████████████████▋     | 14960/17447 [07:07<01:09, 35.93it/s]\u001b[A\n",
      " 86%|███████████████████████████████▊     | 14976/17447 [07:08<01:08, 36.20it/s]\u001b[A\n",
      " 86%|███████████████████████████████▊     | 14992/17447 [07:08<01:08, 36.07it/s]\u001b[A\n",
      " 86%|███████████████████████████████▊     | 15008/17447 [07:08<01:06, 36.41it/s]\u001b[A\n",
      " 86%|███████████████████████████████▊     | 15024/17447 [07:09<01:05, 37.20it/s]\u001b[A\n",
      " 86%|███████████████████████████████▉     | 15040/17447 [07:09<01:06, 36.07it/s]\u001b[A\n",
      " 86%|███████████████████████████████▉     | 15056/17447 [07:10<01:06, 36.19it/s]\u001b[A\n",
      " 86%|███████████████████████████████▉     | 15072/17447 [07:10<01:05, 36.36it/s]\u001b[A\n",
      " 86%|███████████████████████████████▉     | 15088/17447 [07:11<01:05, 36.13it/s]\u001b[A\n",
      " 87%|████████████████████████████████     | 15104/17447 [07:11<01:05, 35.87it/s]\u001b[A\n",
      " 87%|████████████████████████████████     | 15120/17447 [07:11<01:03, 36.39it/s]\u001b[A\n",
      " 87%|████████████████████████████████     | 15136/17447 [07:12<01:04, 35.79it/s]\u001b[A\n",
      " 87%|████████████████████████████████▏    | 15152/17447 [07:12<01:03, 36.04it/s]\u001b[A\n",
      " 87%|████████████████████████████████▏    | 15168/17447 [07:13<01:04, 35.25it/s]\u001b[A\n",
      " 87%|████████████████████████████████▏    | 15184/17447 [07:13<01:03, 35.62it/s]\u001b[A\n",
      " 87%|████████████████████████████████▏    | 15200/17447 [07:14<01:02, 35.81it/s]\u001b[A\n",
      " 87%|████████████████████████████████▎    | 15216/17447 [07:14<01:03, 35.13it/s]\u001b[A\n",
      " 87%|████████████████████████████████▎    | 15232/17447 [07:15<01:02, 35.17it/s]\u001b[A\n",
      " 87%|████████████████████████████████▎    | 15248/17447 [07:15<01:00, 36.45it/s]\u001b[A\n",
      " 87%|████████████████████████████████▎    | 15264/17447 [07:16<01:01, 35.64it/s]\u001b[A\n",
      " 88%|████████████████████████████████▍    | 15280/17447 [07:16<01:00, 36.08it/s]\u001b[A\n",
      " 88%|████████████████████████████████▍    | 15296/17447 [07:16<00:59, 36.11it/s]\u001b[A\n",
      " 88%|████████████████████████████████▍    | 15312/17447 [07:17<00:59, 35.99it/s]\u001b[A\n",
      " 88%|████████████████████████████████▌    | 15328/17447 [07:17<00:59, 35.89it/s]\u001b[A\n",
      " 88%|████████████████████████████████▌    | 15344/17447 [07:18<00:58, 35.76it/s]\u001b[A\n",
      " 88%|████████████████████████████████▌    | 15360/17447 [07:18<00:58, 35.96it/s]\u001b[A\n",
      " 88%|████████████████████████████████▌    | 15376/17447 [07:19<00:57, 36.05it/s]\u001b[A\n",
      " 88%|████████████████████████████████▋    | 15392/17447 [07:19<00:57, 36.05it/s]\u001b[A\n",
      " 88%|████████████████████████████████▋    | 15408/17447 [07:20<00:56, 36.16it/s]\u001b[A\n",
      " 88%|████████████████████████████████▋    | 15424/17447 [07:20<00:55, 36.14it/s]\u001b[A\n",
      " 88%|████████████████████████████████▋    | 15440/17447 [07:20<00:55, 35.98it/s]\u001b[A\n",
      " 89%|████████████████████████████████▊    | 15456/17447 [07:21<00:55, 35.80it/s]\u001b[A\n",
      " 89%|████████████████████████████████▊    | 15472/17447 [07:21<00:55, 35.82it/s]\u001b[A\n",
      " 89%|████████████████████████████████▊    | 15488/17447 [07:22<00:52, 37.00it/s]\u001b[A\n"
     ]
    },
    {
     "name": "stderr",
     "output_type": "stream",
     "text": [
      " 89%|████████████████████████████████▉    | 15504/17447 [07:22<00:53, 36.00it/s]\u001b[A\n",
      " 89%|████████████████████████████████▉    | 15520/17447 [07:23<00:52, 36.38it/s]\u001b[A\n",
      " 89%|████████████████████████████████▉    | 15536/17447 [07:23<00:52, 36.41it/s]\u001b[A\n",
      " 89%|████████████████████████████████▉    | 15552/17447 [07:24<00:52, 36.36it/s]\u001b[A\n",
      " 89%|█████████████████████████████████    | 15568/17447 [07:24<00:51, 36.48it/s]\u001b[A\n",
      " 89%|█████████████████████████████████    | 15584/17447 [07:24<00:52, 35.73it/s]\u001b[A\n",
      " 89%|█████████████████████████████████    | 15600/17447 [07:25<00:50, 36.64it/s]\u001b[A\n",
      " 90%|█████████████████████████████████    | 15616/17447 [07:25<00:48, 37.83it/s]\u001b[A\n",
      " 90%|█████████████████████████████████▏   | 15632/17447 [07:26<00:46, 38.71it/s]\u001b[A\n",
      " 90%|█████████████████████████████████▏   | 15648/17447 [07:26<00:47, 38.11it/s]\u001b[A\n",
      " 90%|█████████████████████████████████▏   | 15664/17447 [07:26<00:47, 37.22it/s]\u001b[A\n",
      " 90%|█████████████████████████████████▎   | 15680/17447 [07:27<00:47, 37.22it/s]\u001b[A\n",
      " 90%|█████████████████████████████████▎   | 15696/17447 [07:27<00:48, 35.93it/s]\u001b[A\n",
      " 90%|█████████████████████████████████▎   | 15712/17447 [07:28<00:47, 36.84it/s]\u001b[A\n",
      " 90%|█████████████████████████████████▎   | 15728/17447 [07:28<00:45, 37.88it/s]\u001b[A\n",
      " 90%|█████████████████████████████████▍   | 15744/17447 [07:29<00:44, 38.59it/s]\u001b[A\n",
      " 90%|█████████████████████████████████▍   | 15760/17447 [07:29<00:43, 39.02it/s]\u001b[A\n",
      " 90%|█████████████████████████████████▍   | 15776/17447 [07:29<00:42, 39.41it/s]\u001b[A\n",
      " 91%|█████████████████████████████████▍   | 15792/17447 [07:30<00:41, 39.83it/s]\u001b[A\n",
      " 91%|█████████████████████████████████▌   | 15808/17447 [07:30<00:40, 40.24it/s]\u001b[A\n",
      " 91%|█████████████████████████████████▌   | 15824/17447 [07:31<00:40, 40.19it/s]\u001b[A\n",
      " 91%|█████████████████████████████████▌   | 15840/17447 [07:31<00:39, 40.44it/s]\u001b[A\n",
      " 91%|█████████████████████████████████▋   | 15856/17447 [07:31<00:39, 40.41it/s]\u001b[A\n",
      " 91%|█████████████████████████████████▋   | 15872/17447 [07:32<00:38, 40.53it/s]\u001b[A\n",
      " 91%|█████████████████████████████████▋   | 15888/17447 [07:32<00:38, 40.81it/s]\u001b[A\n",
      " 91%|█████████████████████████████████▋   | 15904/17447 [07:33<00:38, 40.56it/s]\u001b[A\n",
      " 91%|█████████████████████████████████▊   | 15920/17447 [07:33<00:39, 38.45it/s]\u001b[A\n",
      " 91%|█████████████████████████████████▊   | 15936/17447 [07:33<00:40, 36.96it/s]\u001b[A\n",
      " 91%|█████████████████████████████████▊   | 15952/17447 [07:34<00:40, 36.93it/s]\u001b[A\n",
      " 92%|█████████████████████████████████▊   | 15968/17447 [07:34<00:41, 35.31it/s]\u001b[A\n",
      " 92%|█████████████████████████████████▉   | 15984/17447 [07:35<00:40, 35.73it/s]\u001b[A\n",
      " 92%|█████████████████████████████████▉   | 16000/17447 [07:35<00:40, 35.68it/s]\u001b[A\n",
      " 92%|█████████████████████████████████▉   | 16016/17447 [07:36<00:39, 35.97it/s]\u001b[A\n",
      " 92%|█████████████████████████████████▉   | 16032/17447 [07:36<00:38, 36.78it/s]\u001b[A\n",
      " 92%|██████████████████████████████████   | 16048/17447 [07:37<00:36, 37.86it/s]\u001b[A\n",
      " 92%|██████████████████████████████████   | 16064/17447 [07:37<00:35, 38.71it/s]\u001b[A\n",
      " 92%|██████████████████████████████████   | 16080/17447 [07:37<00:34, 39.18it/s]\u001b[A\n",
      " 92%|██████████████████████████████████▏  | 16096/17447 [07:38<00:34, 39.49it/s]\u001b[A\n",
      " 92%|██████████████████████████████████▏  | 16112/17447 [07:38<00:33, 39.82it/s]\u001b[A\n",
      " 92%|██████████████████████████████████▏  | 16128/17447 [07:39<00:32, 40.23it/s]\u001b[A\n",
      " 93%|██████████████████████████████████▏  | 16144/17447 [07:39<00:32, 40.04it/s]\u001b[A\n",
      " 93%|██████████████████████████████████▎  | 16160/17447 [07:39<00:31, 40.29it/s]\u001b[A\n",
      " 93%|██████████████████████████████████▎  | 16176/17447 [07:40<00:31, 39.84it/s]\u001b[A\n",
      " 93%|██████████████████████████████████▎  | 16192/17447 [07:40<00:31, 39.41it/s]\u001b[A\n",
      " 93%|██████████████████████████████████▎  | 16208/17447 [07:41<00:31, 39.46it/s]\u001b[A\n",
      " 93%|██████████████████████████████████▍  | 16224/17447 [07:41<00:31, 39.37it/s]\u001b[A\n",
      " 93%|██████████████████████████████████▍  | 16240/17447 [07:41<00:30, 39.23it/s]\u001b[A\n",
      " 93%|██████████████████████████████████▍  | 16256/17447 [07:42<00:32, 36.56it/s]\u001b[A\n",
      " 93%|██████████████████████████████████▌  | 16272/17447 [07:42<00:32, 36.08it/s]\u001b[A\n",
      " 93%|██████████████████████████████████▌  | 16288/17447 [07:43<00:33, 35.07it/s]\u001b[A\n",
      " 93%|██████████████████████████████████▌  | 16304/17447 [07:43<00:32, 35.23it/s]\u001b[A\n",
      " 94%|██████████████████████████████████▌  | 16320/17447 [07:44<00:32, 34.54it/s]\u001b[A\n",
      " 94%|██████████████████████████████████▋  | 16336/17447 [07:44<00:31, 35.07it/s]\u001b[A\n",
      " 94%|██████████████████████████████████▋  | 16352/17447 [07:45<00:31, 34.23it/s]\u001b[A\n",
      " 94%|██████████████████████████████████▋  | 16368/17447 [07:45<00:31, 34.64it/s]\u001b[A\n",
      " 94%|██████████████████████████████████▋  | 16384/17447 [07:46<00:30, 34.89it/s]\u001b[A\n",
      " 94%|██████████████████████████████████▊  | 16400/17447 [07:46<00:30, 34.58it/s]\u001b[A\n",
      " 94%|██████████████████████████████████▊  | 16416/17447 [07:46<00:29, 34.74it/s]\u001b[A\n",
      " 94%|██████████████████████████████████▊  | 16432/17447 [07:47<00:29, 33.93it/s]\u001b[A\n",
      " 94%|██████████████████████████████████▉  | 16448/17447 [07:47<00:28, 34.61it/s]\u001b[A\n",
      " 94%|██████████████████████████████████▉  | 16464/17447 [07:48<00:28, 34.36it/s]\u001b[A\n",
      " 94%|██████████████████████████████████▉  | 16480/17447 [07:48<00:28, 34.48it/s]\u001b[A\n",
      " 95%|██████████████████████████████████▉  | 16496/17447 [07:49<00:27, 34.37it/s]\u001b[A\n",
      " 95%|███████████████████████████████████  | 16512/17447 [07:49<00:27, 34.44it/s]\u001b[A\n",
      " 95%|███████████████████████████████████  | 16528/17447 [07:50<00:26, 34.54it/s]\u001b[A\n",
      " 95%|███████████████████████████████████  | 16544/17447 [07:50<00:26, 34.29it/s]\u001b[A\n",
      " 95%|███████████████████████████████████  | 16560/17447 [07:51<00:25, 35.00it/s]\u001b[A\n",
      " 95%|███████████████████████████████████▏ | 16576/17447 [07:51<00:25, 34.41it/s]\u001b[A\n",
      " 95%|███████████████████████████████████▏ | 16592/17447 [07:52<00:24, 34.63it/s]\u001b[A\n",
      " 95%|███████████████████████████████████▏ | 16608/17447 [07:52<00:24, 34.23it/s]\u001b[A\n",
      " 95%|███████████████████████████████████▎ | 16624/17447 [07:53<00:23, 34.85it/s]\u001b[A\n",
      " 95%|███████████████████████████████████▎ | 16640/17447 [07:53<00:23, 34.65it/s]\u001b[A\n",
      " 95%|███████████████████████████████████▎ | 16656/17447 [07:53<00:23, 34.32it/s]\u001b[A\n",
      " 96%|███████████████████████████████████▎ | 16672/17447 [07:54<00:21, 35.25it/s]\u001b[A\n",
      " 96%|███████████████████████████████████▍ | 16688/17447 [07:54<00:22, 34.19it/s]\u001b[A\n",
      " 96%|███████████████████████████████████▍ | 16704/17447 [07:55<00:21, 34.81it/s]\u001b[A\n",
      " 96%|███████████████████████████████████▍ | 16720/17447 [07:55<00:21, 34.11it/s]\u001b[A\n",
      " 96%|███████████████████████████████████▍ | 16736/17447 [07:56<00:20, 34.55it/s]\u001b[A\n",
      " 96%|███████████████████████████████████▌ | 16752/17447 [07:56<00:20, 33.56it/s]\u001b[A\n",
      " 96%|███████████████████████████████████▌ | 16768/17447 [07:57<00:20, 33.65it/s]\u001b[A\n",
      " 96%|███████████████████████████████████▌ | 16784/17447 [07:57<00:19, 33.81it/s]\u001b[A\n",
      " 96%|███████████████████████████████████▋ | 16800/17447 [07:58<00:18, 34.22it/s]\u001b[A\n",
      " 96%|███████████████████████████████████▋ | 16816/17447 [07:58<00:18, 34.01it/s]\u001b[A\n",
      " 96%|███████████████████████████████████▋ | 16832/17447 [07:59<00:17, 34.72it/s]\u001b[A\n",
      " 97%|███████████████████████████████████▋ | 16848/17447 [07:59<00:17, 33.97it/s]\u001b[A\n",
      " 97%|███████████████████████████████████▊ | 16864/17447 [08:00<00:16, 34.85it/s]\u001b[A\n",
      " 97%|███████████████████████████████████▊ | 16880/17447 [08:00<00:16, 34.96it/s]\u001b[A\n",
      " 97%|███████████████████████████████████▊ | 16896/17447 [08:00<00:15, 34.49it/s]\u001b[A\n",
      " 97%|███████████████████████████████████▊ | 16912/17447 [08:01<00:16, 33.30it/s]\u001b[A\n",
      " 97%|███████████████████████████████████▉ | 16928/17447 [08:01<00:15, 32.90it/s]\u001b[A\n",
      " 97%|███████████████████████████████████▉ | 16944/17447 [08:02<00:14, 33.89it/s]\u001b[A\n",
      " 97%|███████████████████████████████████▉ | 16960/17447 [08:02<00:14, 32.95it/s]\u001b[A\n",
      " 97%|████████████████████████████████████ | 16976/17447 [08:03<00:13, 33.64it/s]\u001b[A\n",
      " 97%|████████████████████████████████████ | 16992/17447 [08:03<00:13, 33.26it/s]\u001b[A\n",
      " 97%|████████████████████████████████████ | 17008/17447 [08:04<00:12, 34.15it/s]\u001b[A\n",
      " 98%|████████████████████████████████████ | 17024/17447 [08:04<00:12, 34.06it/s]\u001b[A\n",
      " 98%|████████████████████████████████████▏| 17040/17447 [08:05<00:11, 34.31it/s]\u001b[A\n"
     ]
    },
    {
     "name": "stderr",
     "output_type": "stream",
     "text": [
      " 98%|████████████████████████████████████▏| 17056/17447 [08:05<00:11, 35.11it/s]\u001b[A\n",
      " 98%|████████████████████████████████████▏| 17072/17447 [08:06<00:10, 36.42it/s]\u001b[A\n",
      " 98%|████████████████████████████████████▏| 17088/17447 [08:06<00:10, 35.76it/s]\u001b[A\n",
      " 98%|████████████████████████████████████▎| 17104/17447 [08:06<00:09, 35.77it/s]\u001b[A\n",
      " 98%|████████████████████████████████████▎| 17120/17447 [08:07<00:09, 36.08it/s]\u001b[A\n",
      " 98%|████████████████████████████████████▎| 17136/17447 [08:07<00:08, 36.74it/s]\u001b[A\n",
      " 98%|████████████████████████████████████▎| 17152/17447 [08:08<00:08, 36.12it/s]\u001b[A\n",
      " 98%|████████████████████████████████████▍| 17168/17447 [08:08<00:07, 35.64it/s]\u001b[A\n",
      " 98%|████████████████████████████████████▍| 17184/17447 [08:09<00:07, 36.26it/s]\u001b[A\n",
      " 99%|████████████████████████████████████▍| 17200/17447 [08:09<00:07, 35.11it/s]\u001b[A\n",
      " 99%|████████████████████████████████████▌| 17216/17447 [08:10<00:06, 34.85it/s]\u001b[A\n",
      " 99%|████████████████████████████████████▌| 17232/17447 [08:10<00:06, 35.59it/s]\u001b[A\n",
      " 99%|████████████████████████████████████▌| 17248/17447 [08:11<00:05, 35.83it/s]\u001b[A\n",
      " 99%|████████████████████████████████████▌| 17264/17447 [08:11<00:05, 35.73it/s]\u001b[A\n",
      " 99%|████████████████████████████████████▋| 17280/17447 [08:11<00:04, 35.34it/s]\u001b[A\n",
      " 99%|████████████████████████████████████▋| 17296/17447 [08:12<00:04, 34.99it/s]\u001b[A\n",
      " 99%|████████████████████████████████████▋| 17312/17447 [08:12<00:03, 35.47it/s]\u001b[A\n",
      " 99%|████████████████████████████████████▋| 17328/17447 [08:13<00:03, 35.71it/s]\u001b[A\n",
      " 99%|████████████████████████████████████▊| 17344/17447 [08:13<00:02, 35.00it/s]\u001b[A\n",
      "100%|████████████████████████████████████▊| 17360/17447 [08:14<00:02, 35.70it/s]\u001b[A\n",
      "100%|████████████████████████████████████▊| 17376/17447 [08:14<00:01, 35.59it/s]\u001b[A\n",
      "100%|████████████████████████████████████▉| 17392/17447 [08:15<00:01, 35.72it/s]\u001b[A\n",
      "100%|████████████████████████████████████▉| 17408/17447 [08:15<00:01, 36.23it/s]\u001b[A\n",
      "100%|████████████████████████████████████▉| 17424/17447 [08:15<00:00, 35.84it/s]\u001b[A\n",
      "100%|█████████████████████████████████████| 17447/17447 [08:16<00:00, 35.15it/s]\u001b[A\n"
     ]
    }
   ],
   "source": [
    "from joblib import Parallel, delayed\n",
    "import time\n",
    "from tqdm import tqdm\n",
    "\n",
    "info_tuples = Parallel(n_jobs=16)(delayed(get_info_bits)(valid_eqs, eq) for eq in tqdm(valid_eqs))"
   ]
  },
  {
   "cell_type": "code",
   "execution_count": 88,
   "id": "29c3d5e8",
   "metadata": {},
   "outputs": [
    {
     "data": {
      "text/plain": [
       "48-32=16    9.782102\n",
       "48-36=12    9.766884\n",
       "43-25=18    9.763686\n",
       "45-27=18    9.755900\n",
       "46-27=19    9.755305\n",
       "              ...   \n",
       "50/5-5=5    5.747207\n",
       "688/86=8    5.611285\n",
       "64/4/4=4    5.505691\n",
       "8*86=688    5.424632\n",
       "86*8=688    5.246453\n",
       "Length: 17447, dtype: float64"
      ]
     },
     "execution_count": 88,
     "metadata": {},
     "output_type": "execute_result"
    }
   ],
   "source": [
    "import pandas as pd\n",
    "\n",
    "index_list = []\n",
    "value_list = []\n",
    "\n",
    "for a, b in info_tuples:\n",
    "    index_list.append(a)\n",
    "    value_list.append(b)\n",
    "    \n",
    "ser = pd.Series(value_list, index = index_list)\n",
    "ser.sort_values(axis = 0, ascending = False)"
   ]
  },
  {
   "cell_type": "markdown",
   "id": "ef8b6dec",
   "metadata": {},
   "source": [
    "Ideas:\n",
    "* Bits / information theory (see Wordle video)\n",
    "* How many solutions have repeat chars\n",
    "* Positions for repeat chars\n",
    "* Digit \"companionship\" heat map\n",
    "* Given signs, what are the best digits?\n",
    "* Given digits, what are the best signs?\n",
    "* Best opening strategy - probably combination of most common digits, signs, repeat / not repeat\n",
    "\n",
    "* Compare to Nerdle solutions so far - chi square test to expectation for signs (hypothesis - completely random?)"
   ]
  }
 ],
 "metadata": {
  "kernelspec": {
   "display_name": "Python 3 (ipykernel)",
   "language": "python",
   "name": "python3"
  },
  "language_info": {
   "codemirror_mode": {
    "name": "ipython",
    "version": 3
   },
   "file_extension": ".py",
   "mimetype": "text/x-python",
   "name": "python",
   "nbconvert_exporter": "python",
   "pygments_lexer": "ipython3",
   "version": "3.9.7"
  }
 },
 "nbformat": 4,
 "nbformat_minor": 5
}
